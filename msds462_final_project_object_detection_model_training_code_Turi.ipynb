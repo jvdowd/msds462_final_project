{
 "cells": [
  {
   "cell_type": "code",
   "execution_count": 2,
   "metadata": {},
   "outputs": [],
   "source": [
    "import turicreate as tc\n",
    "import os\n"
   ]
  },
  {
   "cell_type": "code",
   "execution_count": 3,
   "metadata": {},
   "outputs": [],
   "source": [
    "# Load the data\n",
    "data = tc.SFrame('ig02.sframe')\n"
   ]
  },
  {
   "cell_type": "code",
   "execution_count": 4,
   "metadata": {},
   "outputs": [
    {
     "name": "stdout",
     "output_type": "stream",
     "text": [
      "Using 'image' as feature column\n",
      "Using 'annotations' as annotations column\n",
      "Downloading https://docs-assets.developer.apple.com/turicreate/models/darknet.params\n",
      "Download completed: /var/folders/_m/dwfkcvps27q1sqb2jdbn2k3h0000gn/T/model_cache/darknet.params\n",
      "Downloading https://docs-assets.developer.apple.com/turicreate/models/darknet.mlmodel\n",
      "Download completed: /var/folders/_m/dwfkcvps27q1sqb2jdbn2k3h0000gn/T/model_cache/darknet.mlmodel\n"
     ]
    },
    {
     "data": {
      "text/html": [
       "<pre>Using GPU (\"AMD Radeon Pro 560X\") to create model.</pre>"
      ],
      "text/plain": [
       "Using GPU (\"AMD Radeon Pro 560X\") to create model."
      ]
     },
     "metadata": {},
     "output_type": "display_data"
    },
    {
     "data": {
      "text/html": [
       "<pre>Setting 'batch_size' to 32</pre>"
      ],
      "text/plain": [
       "Setting 'batch_size' to 32"
      ]
     },
     "metadata": {},
     "output_type": "display_data"
    },
    {
     "data": {
      "text/html": [
       "<pre>Setting 'max_iterations' to 5000</pre>"
      ],
      "text/plain": [
       "Setting 'max_iterations' to 5000"
      ]
     },
     "metadata": {},
     "output_type": "display_data"
    },
    {
     "data": {
      "text/html": [
       "<pre>+--------------+--------------+--------------+</pre>"
      ],
      "text/plain": [
       "+--------------+--------------+--------------+"
      ]
     },
     "metadata": {},
     "output_type": "display_data"
    },
    {
     "data": {
      "text/html": [
       "<pre>| Iteration    | Loss         | Elapsed Time |</pre>"
      ],
      "text/plain": [
       "| Iteration    | Loss         | Elapsed Time |"
      ]
     },
     "metadata": {},
     "output_type": "display_data"
    },
    {
     "data": {
      "text/html": [
       "<pre>+--------------+--------------+--------------+</pre>"
      ],
      "text/plain": [
       "+--------------+--------------+--------------+"
      ]
     },
     "metadata": {},
     "output_type": "display_data"
    },
    {
     "data": {
      "text/html": [
       "<pre>| 1            | 5.16439      | 6.72s        |</pre>"
      ],
      "text/plain": [
       "| 1            | 5.16439      | 6.72s        |"
      ]
     },
     "metadata": {},
     "output_type": "display_data"
    },
    {
     "data": {
      "text/html": [
       "<pre>| 2            | 5.29993      | 7.49s        |</pre>"
      ],
      "text/plain": [
       "| 2            | 5.29993      | 7.49s        |"
      ]
     },
     "metadata": {},
     "output_type": "display_data"
    },
    {
     "data": {
      "text/html": [
       "<pre>| 3            | 5.29518      | 8.67s        |</pre>"
      ],
      "text/plain": [
       "| 3            | 5.29518      | 8.67s        |"
      ]
     },
     "metadata": {},
     "output_type": "display_data"
    },
    {
     "data": {
      "text/html": [
       "<pre>| 4            | 5.29088      | 9.63s        |</pre>"
      ],
      "text/plain": [
       "| 4            | 5.29088      | 9.63s        |"
      ]
     },
     "metadata": {},
     "output_type": "display_data"
    },
    {
     "data": {
      "text/html": [
       "<pre>| 5            | 5.34715      | 10.42s       |</pre>"
      ],
      "text/plain": [
       "| 5            | 5.34715      | 10.42s       |"
      ]
     },
     "metadata": {},
     "output_type": "display_data"
    },
    {
     "data": {
      "text/html": [
       "<pre>| 10           | 5.56124      | 14.38s       |</pre>"
      ],
      "text/plain": [
       "| 10           | 5.56124      | 14.38s       |"
      ]
     },
     "metadata": {},
     "output_type": "display_data"
    },
    {
     "data": {
      "text/html": [
       "<pre>| 15           | 5.322        | 18.34s       |</pre>"
      ],
      "text/plain": [
       "| 15           | 5.322        | 18.34s       |"
      ]
     },
     "metadata": {},
     "output_type": "display_data"
    },
    {
     "data": {
      "text/html": [
       "<pre>| 20           | 5.03067      | 23.10s       |</pre>"
      ],
      "text/plain": [
       "| 20           | 5.03067      | 23.10s       |"
      ]
     },
     "metadata": {},
     "output_type": "display_data"
    },
    {
     "data": {
      "text/html": [
       "<pre>| 25           | 4.71718      | 27.08s       |</pre>"
      ],
      "text/plain": [
       "| 25           | 4.71718      | 27.08s       |"
      ]
     },
     "metadata": {},
     "output_type": "display_data"
    },
    {
     "data": {
      "text/html": [
       "<pre>| 30           | 4.55777      | 31.04s       |</pre>"
      ],
      "text/plain": [
       "| 30           | 4.55777      | 31.04s       |"
      ]
     },
     "metadata": {},
     "output_type": "display_data"
    },
    {
     "data": {
      "text/html": [
       "<pre>| 35           | 4.38508      | 35.00s       |</pre>"
      ],
      "text/plain": [
       "| 35           | 4.38508      | 35.00s       |"
      ]
     },
     "metadata": {},
     "output_type": "display_data"
    },
    {
     "data": {
      "text/html": [
       "<pre>| 40           | 4.1726       | 39.33s       |</pre>"
      ],
      "text/plain": [
       "| 40           | 4.1726       | 39.33s       |"
      ]
     },
     "metadata": {},
     "output_type": "display_data"
    },
    {
     "data": {
      "text/html": [
       "<pre>| 45           | 4.17711      | 43.32s       |</pre>"
      ],
      "text/plain": [
       "| 45           | 4.17711      | 43.32s       |"
      ]
     },
     "metadata": {},
     "output_type": "display_data"
    },
    {
     "data": {
      "text/html": [
       "<pre>| 50           | 4.06974      | 47.28s       |</pre>"
      ],
      "text/plain": [
       "| 50           | 4.06974      | 47.28s       |"
      ]
     },
     "metadata": {},
     "output_type": "display_data"
    },
    {
     "data": {
      "text/html": [
       "<pre>| 55           | 3.80529      | 51.24s       |</pre>"
      ],
      "text/plain": [
       "| 55           | 3.80529      | 51.24s       |"
      ]
     },
     "metadata": {},
     "output_type": "display_data"
    },
    {
     "data": {
      "text/html": [
       "<pre>| 60           | 3.71848      | 55.53s       |</pre>"
      ],
      "text/plain": [
       "| 60           | 3.71848      | 55.53s       |"
      ]
     },
     "metadata": {},
     "output_type": "display_data"
    },
    {
     "data": {
      "text/html": [
       "<pre>| 65           | 3.60189      | 59.51s       |</pre>"
      ],
      "text/plain": [
       "| 65           | 3.60189      | 59.51s       |"
      ]
     },
     "metadata": {},
     "output_type": "display_data"
    },
    {
     "data": {
      "text/html": [
       "<pre>| 70           | 3.48352      | 1m 3s        |</pre>"
      ],
      "text/plain": [
       "| 70           | 3.48352      | 1m 3s        |"
      ]
     },
     "metadata": {},
     "output_type": "display_data"
    },
    {
     "data": {
      "text/html": [
       "<pre>| 75           | 3.44567      | 1m 7s        |</pre>"
      ],
      "text/plain": [
       "| 75           | 3.44567      | 1m 7s        |"
      ]
     },
     "metadata": {},
     "output_type": "display_data"
    },
    {
     "data": {
      "text/html": [
       "<pre>| 80           | 3.38156      | 1m 11s       |</pre>"
      ],
      "text/plain": [
       "| 80           | 3.38156      | 1m 11s       |"
      ]
     },
     "metadata": {},
     "output_type": "display_data"
    },
    {
     "data": {
      "text/html": [
       "<pre>| 85           | 3.42816      | 1m 15s       |</pre>"
      ],
      "text/plain": [
       "| 85           | 3.42816      | 1m 15s       |"
      ]
     },
     "metadata": {},
     "output_type": "display_data"
    },
    {
     "data": {
      "text/html": [
       "<pre>| 90           | 3.24076      | 1m 19s       |</pre>"
      ],
      "text/plain": [
       "| 90           | 3.24076      | 1m 19s       |"
      ]
     },
     "metadata": {},
     "output_type": "display_data"
    },
    {
     "data": {
      "text/html": [
       "<pre>| 95           | 3.16269      | 1m 23s       |</pre>"
      ],
      "text/plain": [
       "| 95           | 3.16269      | 1m 23s       |"
      ]
     },
     "metadata": {},
     "output_type": "display_data"
    },
    {
     "data": {
      "text/html": [
       "<pre>| 100          | 3.17844      | 1m 28s       |</pre>"
      ],
      "text/plain": [
       "| 100          | 3.17844      | 1m 28s       |"
      ]
     },
     "metadata": {},
     "output_type": "display_data"
    },
    {
     "data": {
      "text/html": [
       "<pre>| 105          | 3.20125      | 1m 32s       |</pre>"
      ],
      "text/plain": [
       "| 105          | 3.20125      | 1m 32s       |"
      ]
     },
     "metadata": {},
     "output_type": "display_data"
    },
    {
     "data": {
      "text/html": [
       "<pre>| 110          | 3.14087      | 1m 36s       |</pre>"
      ],
      "text/plain": [
       "| 110          | 3.14087      | 1m 36s       |"
      ]
     },
     "metadata": {},
     "output_type": "display_data"
    },
    {
     "data": {
      "text/html": [
       "<pre>| 115          | 3.04958      | 1m 39s       |</pre>"
      ],
      "text/plain": [
       "| 115          | 3.04958      | 1m 39s       |"
      ]
     },
     "metadata": {},
     "output_type": "display_data"
    },
    {
     "data": {
      "text/html": [
       "<pre>| 120          | 3.08234      | 1m 44s       |</pre>"
      ],
      "text/plain": [
       "| 120          | 3.08234      | 1m 44s       |"
      ]
     },
     "metadata": {},
     "output_type": "display_data"
    },
    {
     "data": {
      "text/html": [
       "<pre>| 125          | 3.02417      | 1m 48s       |</pre>"
      ],
      "text/plain": [
       "| 125          | 3.02417      | 1m 48s       |"
      ]
     },
     "metadata": {},
     "output_type": "display_data"
    },
    {
     "data": {
      "text/html": [
       "<pre>| 130          | 3.06976      | 1m 52s       |</pre>"
      ],
      "text/plain": [
       "| 130          | 3.06976      | 1m 52s       |"
      ]
     },
     "metadata": {},
     "output_type": "display_data"
    },
    {
     "data": {
      "text/html": [
       "<pre>| 135          | 2.97874      | 1m 56s       |</pre>"
      ],
      "text/plain": [
       "| 135          | 2.97874      | 1m 56s       |"
      ]
     },
     "metadata": {},
     "output_type": "display_data"
    },
    {
     "data": {
      "text/html": [
       "<pre>| 140          | 3.01598      | 2m 0s        |</pre>"
      ],
      "text/plain": [
       "| 140          | 3.01598      | 2m 0s        |"
      ]
     },
     "metadata": {},
     "output_type": "display_data"
    },
    {
     "data": {
      "text/html": [
       "<pre>| 145          | 2.89735      | 2m 4s        |</pre>"
      ],
      "text/plain": [
       "| 145          | 2.89735      | 2m 4s        |"
      ]
     },
     "metadata": {},
     "output_type": "display_data"
    },
    {
     "data": {
      "text/html": [
       "<pre>| 150          | 2.8535       | 2m 8s        |</pre>"
      ],
      "text/plain": [
       "| 150          | 2.8535       | 2m 8s        |"
      ]
     },
     "metadata": {},
     "output_type": "display_data"
    },
    {
     "data": {
      "text/html": [
       "<pre>| 155          | 2.79769      | 2m 12s       |</pre>"
      ],
      "text/plain": [
       "| 155          | 2.79769      | 2m 12s       |"
      ]
     },
     "metadata": {},
     "output_type": "display_data"
    },
    {
     "data": {
      "text/html": [
       "<pre>| 160          | 2.77546      | 2m 16s       |</pre>"
      ],
      "text/plain": [
       "| 160          | 2.77546      | 2m 16s       |"
      ]
     },
     "metadata": {},
     "output_type": "display_data"
    },
    {
     "data": {
      "text/html": [
       "<pre>| 165          | 2.86134      | 2m 20s       |</pre>"
      ],
      "text/plain": [
       "| 165          | 2.86134      | 2m 20s       |"
      ]
     },
     "metadata": {},
     "output_type": "display_data"
    },
    {
     "data": {
      "text/html": [
       "<pre>| 170          | 2.90302      | 2m 24s       |</pre>"
      ],
      "text/plain": [
       "| 170          | 2.90302      | 2m 24s       |"
      ]
     },
     "metadata": {},
     "output_type": "display_data"
    },
    {
     "data": {
      "text/html": [
       "<pre>| 175          | 2.97579      | 2m 28s       |</pre>"
      ],
      "text/plain": [
       "| 175          | 2.97579      | 2m 28s       |"
      ]
     },
     "metadata": {},
     "output_type": "display_data"
    },
    {
     "data": {
      "text/html": [
       "<pre>| 180          | 2.93119      | 2m 32s       |</pre>"
      ],
      "text/plain": [
       "| 180          | 2.93119      | 2m 32s       |"
      ]
     },
     "metadata": {},
     "output_type": "display_data"
    },
    {
     "data": {
      "text/html": [
       "<pre>| 185          | 2.84479      | 2m 36s       |</pre>"
      ],
      "text/plain": [
       "| 185          | 2.84479      | 2m 36s       |"
      ]
     },
     "metadata": {},
     "output_type": "display_data"
    },
    {
     "data": {
      "text/html": [
       "<pre>| 190          | 2.76121      | 2m 40s       |</pre>"
      ],
      "text/plain": [
       "| 190          | 2.76121      | 2m 40s       |"
      ]
     },
     "metadata": {},
     "output_type": "display_data"
    },
    {
     "data": {
      "text/html": [
       "<pre>| 195          | 2.68124      | 2m 44s       |</pre>"
      ],
      "text/plain": [
       "| 195          | 2.68124      | 2m 44s       |"
      ]
     },
     "metadata": {},
     "output_type": "display_data"
    },
    {
     "data": {
      "text/html": [
       "<pre>| 200          | 2.77331      | 2m 49s       |</pre>"
      ],
      "text/plain": [
       "| 200          | 2.77331      | 2m 49s       |"
      ]
     },
     "metadata": {},
     "output_type": "display_data"
    },
    {
     "data": {
      "text/html": [
       "<pre>| 205          | 2.69642      | 2m 53s       |</pre>"
      ],
      "text/plain": [
       "| 205          | 2.69642      | 2m 53s       |"
      ]
     },
     "metadata": {},
     "output_type": "display_data"
    },
    {
     "data": {
      "text/html": [
       "<pre>| 210          | 2.73739      | 2m 57s       |</pre>"
      ],
      "text/plain": [
       "| 210          | 2.73739      | 2m 57s       |"
      ]
     },
     "metadata": {},
     "output_type": "display_data"
    },
    {
     "data": {
      "text/html": [
       "<pre>| 215          | 2.65085      | 3m 1s        |</pre>"
      ],
      "text/plain": [
       "| 215          | 2.65085      | 3m 1s        |"
      ]
     },
     "metadata": {},
     "output_type": "display_data"
    },
    {
     "data": {
      "text/html": [
       "<pre>| 220          | 2.60644      | 3m 5s        |</pre>"
      ],
      "text/plain": [
       "| 220          | 2.60644      | 3m 5s        |"
      ]
     },
     "metadata": {},
     "output_type": "display_data"
    },
    {
     "data": {
      "text/html": [
       "<pre>| 225          | 2.69167      | 3m 9s        |</pre>"
      ],
      "text/plain": [
       "| 225          | 2.69167      | 3m 9s        |"
      ]
     },
     "metadata": {},
     "output_type": "display_data"
    },
    {
     "data": {
      "text/html": [
       "<pre>| 230          | 2.64185      | 3m 13s       |</pre>"
      ],
      "text/plain": [
       "| 230          | 2.64185      | 3m 13s       |"
      ]
     },
     "metadata": {},
     "output_type": "display_data"
    },
    {
     "data": {
      "text/html": [
       "<pre>| 235          | 2.75531      | 3m 17s       |</pre>"
      ],
      "text/plain": [
       "| 235          | 2.75531      | 3m 17s       |"
      ]
     },
     "metadata": {},
     "output_type": "display_data"
    },
    {
     "data": {
      "text/html": [
       "<pre>| 240          | 2.80856      | 3m 21s       |</pre>"
      ],
      "text/plain": [
       "| 240          | 2.80856      | 3m 21s       |"
      ]
     },
     "metadata": {},
     "output_type": "display_data"
    },
    {
     "data": {
      "text/html": [
       "<pre>| 245          | 2.79962      | 3m 25s       |</pre>"
      ],
      "text/plain": [
       "| 245          | 2.79962      | 3m 25s       |"
      ]
     },
     "metadata": {},
     "output_type": "display_data"
    },
    {
     "data": {
      "text/html": [
       "<pre>| 250          | 2.781        | 3m 29s       |</pre>"
      ],
      "text/plain": [
       "| 250          | 2.781        | 3m 29s       |"
      ]
     },
     "metadata": {},
     "output_type": "display_data"
    },
    {
     "data": {
      "text/html": [
       "<pre>| 255          | 2.72783      | 3m 33s       |</pre>"
      ],
      "text/plain": [
       "| 255          | 2.72783      | 3m 33s       |"
      ]
     },
     "metadata": {},
     "output_type": "display_data"
    },
    {
     "data": {
      "text/html": [
       "<pre>| 260          | 2.65124      | 3m 38s       |</pre>"
      ],
      "text/plain": [
       "| 260          | 2.65124      | 3m 38s       |"
      ]
     },
     "metadata": {},
     "output_type": "display_data"
    },
    {
     "data": {
      "text/html": [
       "<pre>| 265          | 2.50905      | 3m 42s       |</pre>"
      ],
      "text/plain": [
       "| 265          | 2.50905      | 3m 42s       |"
      ]
     },
     "metadata": {},
     "output_type": "display_data"
    },
    {
     "data": {
      "text/html": [
       "<pre>| 270          | 2.63294      | 3m 46s       |</pre>"
      ],
      "text/plain": [
       "| 270          | 2.63294      | 3m 46s       |"
      ]
     },
     "metadata": {},
     "output_type": "display_data"
    },
    {
     "data": {
      "text/html": [
       "<pre>| 275          | 2.6035       | 3m 50s       |</pre>"
      ],
      "text/plain": [
       "| 275          | 2.6035       | 3m 50s       |"
      ]
     },
     "metadata": {},
     "output_type": "display_data"
    },
    {
     "data": {
      "text/html": [
       "<pre>| 280          | 2.53697      | 3m 54s       |</pre>"
      ],
      "text/plain": [
       "| 280          | 2.53697      | 3m 54s       |"
      ]
     },
     "metadata": {},
     "output_type": "display_data"
    },
    {
     "data": {
      "text/html": [
       "<pre>| 285          | 2.56425      | 3m 58s       |</pre>"
      ],
      "text/plain": [
       "| 285          | 2.56425      | 3m 58s       |"
      ]
     },
     "metadata": {},
     "output_type": "display_data"
    },
    {
     "data": {
      "text/html": [
       "<pre>| 290          | 2.46697      | 4m 2s        |</pre>"
      ],
      "text/plain": [
       "| 290          | 2.46697      | 4m 2s        |"
      ]
     },
     "metadata": {},
     "output_type": "display_data"
    },
    {
     "data": {
      "text/html": [
       "<pre>| 295          | 2.41185      | 4m 6s        |</pre>"
      ],
      "text/plain": [
       "| 295          | 2.41185      | 4m 6s        |"
      ]
     },
     "metadata": {},
     "output_type": "display_data"
    },
    {
     "data": {
      "text/html": [
       "<pre>| 300          | 2.50322      | 4m 10s       |</pre>"
      ],
      "text/plain": [
       "| 300          | 2.50322      | 4m 10s       |"
      ]
     },
     "metadata": {},
     "output_type": "display_data"
    },
    {
     "data": {
      "text/html": [
       "<pre>| 305          | 2.47007      | 4m 14s       |</pre>"
      ],
      "text/plain": [
       "| 305          | 2.47007      | 4m 14s       |"
      ]
     },
     "metadata": {},
     "output_type": "display_data"
    },
    {
     "data": {
      "text/html": [
       "<pre>| 310          | 2.39031      | 4m 18s       |</pre>"
      ],
      "text/plain": [
       "| 310          | 2.39031      | 4m 18s       |"
      ]
     },
     "metadata": {},
     "output_type": "display_data"
    },
    {
     "data": {
      "text/html": [
       "<pre>| 315          | 2.53753      | 4m 22s       |</pre>"
      ],
      "text/plain": [
       "| 315          | 2.53753      | 4m 22s       |"
      ]
     },
     "metadata": {},
     "output_type": "display_data"
    },
    {
     "data": {
      "text/html": [
       "<pre>| 320          | 2.55436      | 4m 26s       |</pre>"
      ],
      "text/plain": [
       "| 320          | 2.55436      | 4m 26s       |"
      ]
     },
     "metadata": {},
     "output_type": "display_data"
    },
    {
     "data": {
      "text/html": [
       "<pre>| 325          | 2.50441      | 4m 30s       |</pre>"
      ],
      "text/plain": [
       "| 325          | 2.50441      | 4m 30s       |"
      ]
     },
     "metadata": {},
     "output_type": "display_data"
    },
    {
     "data": {
      "text/html": [
       "<pre>| 330          | 2.52762      | 4m 34s       |</pre>"
      ],
      "text/plain": [
       "| 330          | 2.52762      | 4m 34s       |"
      ]
     },
     "metadata": {},
     "output_type": "display_data"
    },
    {
     "data": {
      "text/html": [
       "<pre>| 335          | 2.45972      | 4m 38s       |</pre>"
      ],
      "text/plain": [
       "| 335          | 2.45972      | 4m 38s       |"
      ]
     },
     "metadata": {},
     "output_type": "display_data"
    },
    {
     "data": {
      "text/html": [
       "<pre>| 340          | 2.43404      | 4m 42s       |</pre>"
      ],
      "text/plain": [
       "| 340          | 2.43404      | 4m 42s       |"
      ]
     },
     "metadata": {},
     "output_type": "display_data"
    },
    {
     "data": {
      "text/html": [
       "<pre>| 345          | 2.46066      | 4m 47s       |</pre>"
      ],
      "text/plain": [
       "| 345          | 2.46066      | 4m 47s       |"
      ]
     },
     "metadata": {},
     "output_type": "display_data"
    },
    {
     "data": {
      "text/html": [
       "<pre>| 350          | 2.39988      | 4m 51s       |</pre>"
      ],
      "text/plain": [
       "| 350          | 2.39988      | 4m 51s       |"
      ]
     },
     "metadata": {},
     "output_type": "display_data"
    },
    {
     "data": {
      "text/html": [
       "<pre>| 355          | 2.40314      | 4m 55s       |</pre>"
      ],
      "text/plain": [
       "| 355          | 2.40314      | 4m 55s       |"
      ]
     },
     "metadata": {},
     "output_type": "display_data"
    },
    {
     "data": {
      "text/html": [
       "<pre>| 360          | 2.34279      | 4m 58s       |</pre>"
      ],
      "text/plain": [
       "| 360          | 2.34279      | 4m 58s       |"
      ]
     },
     "metadata": {},
     "output_type": "display_data"
    },
    {
     "data": {
      "text/html": [
       "<pre>| 365          | 2.34518      | 5m 3s        |</pre>"
      ],
      "text/plain": [
       "| 365          | 2.34518      | 5m 3s        |"
      ]
     },
     "metadata": {},
     "output_type": "display_data"
    },
    {
     "data": {
      "text/html": [
       "<pre>| 370          | 2.36218      | 5m 7s        |</pre>"
      ],
      "text/plain": [
       "| 370          | 2.36218      | 5m 7s        |"
      ]
     },
     "metadata": {},
     "output_type": "display_data"
    },
    {
     "data": {
      "text/html": [
       "<pre>| 375          | 2.27216      | 5m 11s       |</pre>"
      ],
      "text/plain": [
       "| 375          | 2.27216      | 5m 11s       |"
      ]
     },
     "metadata": {},
     "output_type": "display_data"
    },
    {
     "data": {
      "text/html": [
       "<pre>| 380          | 2.26135      | 5m 15s       |</pre>"
      ],
      "text/plain": [
       "| 380          | 2.26135      | 5m 15s       |"
      ]
     },
     "metadata": {},
     "output_type": "display_data"
    },
    {
     "data": {
      "text/html": [
       "<pre>| 385          | 2.35631      | 5m 19s       |</pre>"
      ],
      "text/plain": [
       "| 385          | 2.35631      | 5m 19s       |"
      ]
     },
     "metadata": {},
     "output_type": "display_data"
    },
    {
     "data": {
      "text/html": [
       "<pre>| 390          | 2.33979      | 5m 23s       |</pre>"
      ],
      "text/plain": [
       "| 390          | 2.33979      | 5m 23s       |"
      ]
     },
     "metadata": {},
     "output_type": "display_data"
    },
    {
     "data": {
      "text/html": [
       "<pre>| 395          | 2.34958      | 5m 27s       |</pre>"
      ],
      "text/plain": [
       "| 395          | 2.34958      | 5m 27s       |"
      ]
     },
     "metadata": {},
     "output_type": "display_data"
    },
    {
     "data": {
      "text/html": [
       "<pre>| 400          | 2.37758      | 5m 31s       |</pre>"
      ],
      "text/plain": [
       "| 400          | 2.37758      | 5m 31s       |"
      ]
     },
     "metadata": {},
     "output_type": "display_data"
    },
    {
     "data": {
      "text/html": [
       "<pre>| 405          | 2.50751      | 5m 35s       |</pre>"
      ],
      "text/plain": [
       "| 405          | 2.50751      | 5m 35s       |"
      ]
     },
     "metadata": {},
     "output_type": "display_data"
    },
    {
     "data": {
      "text/html": [
       "<pre>| 410          | 2.38372      | 5m 39s       |</pre>"
      ],
      "text/plain": [
       "| 410          | 2.38372      | 5m 39s       |"
      ]
     },
     "metadata": {},
     "output_type": "display_data"
    },
    {
     "data": {
      "text/html": [
       "<pre>| 415          | 2.3121       | 5m 43s       |</pre>"
      ],
      "text/plain": [
       "| 415          | 2.3121       | 5m 43s       |"
      ]
     },
     "metadata": {},
     "output_type": "display_data"
    },
    {
     "data": {
      "text/html": [
       "<pre>| 420          | 2.31149      | 5m 47s       |</pre>"
      ],
      "text/plain": [
       "| 420          | 2.31149      | 5m 47s       |"
      ]
     },
     "metadata": {},
     "output_type": "display_data"
    },
    {
     "data": {
      "text/html": [
       "<pre>| 425          | 2.25021      | 5m 52s       |</pre>"
      ],
      "text/plain": [
       "| 425          | 2.25021      | 5m 52s       |"
      ]
     },
     "metadata": {},
     "output_type": "display_data"
    },
    {
     "data": {
      "text/html": [
       "<pre>| 430          | 2.20639      | 5m 56s       |</pre>"
      ],
      "text/plain": [
       "| 430          | 2.20639      | 5m 56s       |"
      ]
     },
     "metadata": {},
     "output_type": "display_data"
    },
    {
     "data": {
      "text/html": [
       "<pre>| 435          | 2.21051      | 5m 59s       |</pre>"
      ],
      "text/plain": [
       "| 435          | 2.21051      | 5m 59s       |"
      ]
     },
     "metadata": {},
     "output_type": "display_data"
    },
    {
     "data": {
      "text/html": [
       "<pre>| 440          | 2.27226      | 6m 3s        |</pre>"
      ],
      "text/plain": [
       "| 440          | 2.27226      | 6m 3s        |"
      ]
     },
     "metadata": {},
     "output_type": "display_data"
    },
    {
     "data": {
      "text/html": [
       "<pre>| 445          | 2.27629      | 6m 8s        |</pre>"
      ],
      "text/plain": [
       "| 445          | 2.27629      | 6m 8s        |"
      ]
     },
     "metadata": {},
     "output_type": "display_data"
    },
    {
     "data": {
      "text/html": [
       "<pre>| 450          | 2.31277      | 6m 12s       |</pre>"
      ],
      "text/plain": [
       "| 450          | 2.31277      | 6m 12s       |"
      ]
     },
     "metadata": {},
     "output_type": "display_data"
    },
    {
     "data": {
      "text/html": [
       "<pre>| 455          | 2.24347      | 6m 16s       |</pre>"
      ],
      "text/plain": [
       "| 455          | 2.24347      | 6m 16s       |"
      ]
     },
     "metadata": {},
     "output_type": "display_data"
    },
    {
     "data": {
      "text/html": [
       "<pre>| 460          | 2.19239      | 6m 20s       |</pre>"
      ],
      "text/plain": [
       "| 460          | 2.19239      | 6m 20s       |"
      ]
     },
     "metadata": {},
     "output_type": "display_data"
    },
    {
     "data": {
      "text/html": [
       "<pre>| 465          | 2.1672       | 6m 24s       |</pre>"
      ],
      "text/plain": [
       "| 465          | 2.1672       | 6m 24s       |"
      ]
     },
     "metadata": {},
     "output_type": "display_data"
    },
    {
     "data": {
      "text/html": [
       "<pre>| 470          | 2.1227       | 6m 28s       |</pre>"
      ],
      "text/plain": [
       "| 470          | 2.1227       | 6m 28s       |"
      ]
     },
     "metadata": {},
     "output_type": "display_data"
    },
    {
     "data": {
      "text/html": [
       "<pre>| 475          | 2.16517      | 6m 32s       |</pre>"
      ],
      "text/plain": [
       "| 475          | 2.16517      | 6m 32s       |"
      ]
     },
     "metadata": {},
     "output_type": "display_data"
    },
    {
     "data": {
      "text/html": [
       "<pre>| 480          | 2.28458      | 6m 36s       |</pre>"
      ],
      "text/plain": [
       "| 480          | 2.28458      | 6m 36s       |"
      ]
     },
     "metadata": {},
     "output_type": "display_data"
    },
    {
     "data": {
      "text/html": [
       "<pre>| 485          | 2.29987      | 6m 40s       |</pre>"
      ],
      "text/plain": [
       "| 485          | 2.29987      | 6m 40s       |"
      ]
     },
     "metadata": {},
     "output_type": "display_data"
    },
    {
     "data": {
      "text/html": [
       "<pre>| 490          | 2.22925      | 6m 44s       |</pre>"
      ],
      "text/plain": [
       "| 490          | 2.22925      | 6m 44s       |"
      ]
     },
     "metadata": {},
     "output_type": "display_data"
    },
    {
     "data": {
      "text/html": [
       "<pre>| 495          | 2.2843       | 6m 48s       |</pre>"
      ],
      "text/plain": [
       "| 495          | 2.2843       | 6m 48s       |"
      ]
     },
     "metadata": {},
     "output_type": "display_data"
    },
    {
     "data": {
      "text/html": [
       "<pre>| 500          | 2.21554      | 6m 52s       |</pre>"
      ],
      "text/plain": [
       "| 500          | 2.21554      | 6m 52s       |"
      ]
     },
     "metadata": {},
     "output_type": "display_data"
    },
    {
     "data": {
      "text/html": [
       "<pre>| 505          | 2.23774      | 6m 56s       |</pre>"
      ],
      "text/plain": [
       "| 505          | 2.23774      | 6m 56s       |"
      ]
     },
     "metadata": {},
     "output_type": "display_data"
    },
    {
     "data": {
      "text/html": [
       "<pre>| 510          | 2.24942      | 7m 0s        |</pre>"
      ],
      "text/plain": [
       "| 510          | 2.24942      | 7m 0s        |"
      ]
     },
     "metadata": {},
     "output_type": "display_data"
    },
    {
     "data": {
      "text/html": [
       "<pre>| 515          | 2.07486      | 7m 4s        |</pre>"
      ],
      "text/plain": [
       "| 515          | 2.07486      | 7m 4s        |"
      ]
     },
     "metadata": {},
     "output_type": "display_data"
    },
    {
     "data": {
      "text/html": [
       "<pre>| 520          | 2.14559      | 7m 8s        |</pre>"
      ],
      "text/plain": [
       "| 520          | 2.14559      | 7m 8s        |"
      ]
     },
     "metadata": {},
     "output_type": "display_data"
    },
    {
     "data": {
      "text/html": [
       "<pre>| 525          | 2.17083      | 7m 13s       |</pre>"
      ],
      "text/plain": [
       "| 525          | 2.17083      | 7m 13s       |"
      ]
     },
     "metadata": {},
     "output_type": "display_data"
    },
    {
     "data": {
      "text/html": [
       "<pre>| 530          | 2.2297       | 7m 17s       |</pre>"
      ],
      "text/plain": [
       "| 530          | 2.2297       | 7m 17s       |"
      ]
     },
     "metadata": {},
     "output_type": "display_data"
    },
    {
     "data": {
      "text/html": [
       "<pre>| 535          | 2.14634      | 7m 21s       |</pre>"
      ],
      "text/plain": [
       "| 535          | 2.14634      | 7m 21s       |"
      ]
     },
     "metadata": {},
     "output_type": "display_data"
    },
    {
     "data": {
      "text/html": [
       "<pre>| 540          | 2.23772      | 7m 25s       |</pre>"
      ],
      "text/plain": [
       "| 540          | 2.23772      | 7m 25s       |"
      ]
     },
     "metadata": {},
     "output_type": "display_data"
    },
    {
     "data": {
      "text/html": [
       "<pre>| 545          | 2.19929      | 7m 29s       |</pre>"
      ],
      "text/plain": [
       "| 545          | 2.19929      | 7m 29s       |"
      ]
     },
     "metadata": {},
     "output_type": "display_data"
    },
    {
     "data": {
      "text/html": [
       "<pre>| 550          | 2.13381      | 7m 34s       |</pre>"
      ],
      "text/plain": [
       "| 550          | 2.13381      | 7m 34s       |"
      ]
     },
     "metadata": {},
     "output_type": "display_data"
    },
    {
     "data": {
      "text/html": [
       "<pre>| 555          | 2.14623      | 7m 40s       |</pre>"
      ],
      "text/plain": [
       "| 555          | 2.14623      | 7m 40s       |"
      ]
     },
     "metadata": {},
     "output_type": "display_data"
    },
    {
     "data": {
      "text/html": [
       "<pre>| 560          | 2.20717      | 7m 47s       |</pre>"
      ],
      "text/plain": [
       "| 560          | 2.20717      | 7m 47s       |"
      ]
     },
     "metadata": {},
     "output_type": "display_data"
    },
    {
     "data": {
      "text/html": [
       "<pre>| 565          | 2.14339      | 7m 52s       |</pre>"
      ],
      "text/plain": [
       "| 565          | 2.14339      | 7m 52s       |"
      ]
     },
     "metadata": {},
     "output_type": "display_data"
    },
    {
     "data": {
      "text/html": [
       "<pre>| 570          | 2.17486      | 7m 56s       |</pre>"
      ],
      "text/plain": [
       "| 570          | 2.17486      | 7m 56s       |"
      ]
     },
     "metadata": {},
     "output_type": "display_data"
    },
    {
     "data": {
      "text/html": [
       "<pre>| 575          | 2.2558       | 8m 0s        |</pre>"
      ],
      "text/plain": [
       "| 575          | 2.2558       | 8m 0s        |"
      ]
     },
     "metadata": {},
     "output_type": "display_data"
    },
    {
     "data": {
      "text/html": [
       "<pre>| 580          | 2.18465      | 8m 4s        |</pre>"
      ],
      "text/plain": [
       "| 580          | 2.18465      | 8m 4s        |"
      ]
     },
     "metadata": {},
     "output_type": "display_data"
    },
    {
     "data": {
      "text/html": [
       "<pre>| 585          | 2.22222      | 8m 9s        |</pre>"
      ],
      "text/plain": [
       "| 585          | 2.22222      | 8m 9s        |"
      ]
     },
     "metadata": {},
     "output_type": "display_data"
    },
    {
     "data": {
      "text/html": [
       "<pre>| 590          | 2.12696      | 8m 13s       |</pre>"
      ],
      "text/plain": [
       "| 590          | 2.12696      | 8m 13s       |"
      ]
     },
     "metadata": {},
     "output_type": "display_data"
    },
    {
     "data": {
      "text/html": [
       "<pre>| 595          | 2.07204      | 8m 17s       |</pre>"
      ],
      "text/plain": [
       "| 595          | 2.07204      | 8m 17s       |"
      ]
     },
     "metadata": {},
     "output_type": "display_data"
    },
    {
     "data": {
      "text/html": [
       "<pre>| 600          | 2.17245      | 8m 21s       |</pre>"
      ],
      "text/plain": [
       "| 600          | 2.17245      | 8m 21s       |"
      ]
     },
     "metadata": {},
     "output_type": "display_data"
    },
    {
     "data": {
      "text/html": [
       "<pre>| 605          | 2.16354      | 8m 26s       |</pre>"
      ],
      "text/plain": [
       "| 605          | 2.16354      | 8m 26s       |"
      ]
     },
     "metadata": {},
     "output_type": "display_data"
    },
    {
     "data": {
      "text/html": [
       "<pre>| 610          | 2.05554      | 8m 30s       |</pre>"
      ],
      "text/plain": [
       "| 610          | 2.05554      | 8m 30s       |"
      ]
     },
     "metadata": {},
     "output_type": "display_data"
    },
    {
     "data": {
      "text/html": [
       "<pre>| 615          | 2.09941      | 8m 34s       |</pre>"
      ],
      "text/plain": [
       "| 615          | 2.09941      | 8m 34s       |"
      ]
     },
     "metadata": {},
     "output_type": "display_data"
    },
    {
     "data": {
      "text/html": [
       "<pre>| 620          | 2.10805      | 8m 37s       |</pre>"
      ],
      "text/plain": [
       "| 620          | 2.10805      | 8m 37s       |"
      ]
     },
     "metadata": {},
     "output_type": "display_data"
    },
    {
     "data": {
      "text/html": [
       "<pre>| 625          | 2.14481      | 8m 42s       |</pre>"
      ],
      "text/plain": [
       "| 625          | 2.14481      | 8m 42s       |"
      ]
     },
     "metadata": {},
     "output_type": "display_data"
    },
    {
     "data": {
      "text/html": [
       "<pre>| 630          | 2.1058       | 8m 46s       |</pre>"
      ],
      "text/plain": [
       "| 630          | 2.1058       | 8m 46s       |"
      ]
     },
     "metadata": {},
     "output_type": "display_data"
    },
    {
     "data": {
      "text/html": [
       "<pre>| 635          | 1.97491      | 8m 50s       |</pre>"
      ],
      "text/plain": [
       "| 635          | 1.97491      | 8m 50s       |"
      ]
     },
     "metadata": {},
     "output_type": "display_data"
    },
    {
     "data": {
      "text/html": [
       "<pre>| 640          | 2.04312      | 8m 55s       |</pre>"
      ],
      "text/plain": [
       "| 640          | 2.04312      | 8m 55s       |"
      ]
     },
     "metadata": {},
     "output_type": "display_data"
    },
    {
     "data": {
      "text/html": [
       "<pre>| 645          | 2.05402      | 9m 0s        |</pre>"
      ],
      "text/plain": [
       "| 645          | 2.05402      | 9m 0s        |"
      ]
     },
     "metadata": {},
     "output_type": "display_data"
    },
    {
     "data": {
      "text/html": [
       "<pre>| 650          | 1.97034      | 9m 4s        |</pre>"
      ],
      "text/plain": [
       "| 650          | 1.97034      | 9m 4s        |"
      ]
     },
     "metadata": {},
     "output_type": "display_data"
    },
    {
     "data": {
      "text/html": [
       "<pre>| 655          | 2.02082      | 9m 8s        |</pre>"
      ],
      "text/plain": [
       "| 655          | 2.02082      | 9m 8s        |"
      ]
     },
     "metadata": {},
     "output_type": "display_data"
    },
    {
     "data": {
      "text/html": [
       "<pre>| 660          | 2.03729      | 9m 13s       |</pre>"
      ],
      "text/plain": [
       "| 660          | 2.03729      | 9m 13s       |"
      ]
     },
     "metadata": {},
     "output_type": "display_data"
    },
    {
     "data": {
      "text/html": [
       "<pre>| 665          | 1.93422      | 9m 17s       |</pre>"
      ],
      "text/plain": [
       "| 665          | 1.93422      | 9m 17s       |"
      ]
     },
     "metadata": {},
     "output_type": "display_data"
    },
    {
     "data": {
      "text/html": [
       "<pre>| 670          | 1.99351      | 9m 21s       |</pre>"
      ],
      "text/plain": [
       "| 670          | 1.99351      | 9m 21s       |"
      ]
     },
     "metadata": {},
     "output_type": "display_data"
    },
    {
     "data": {
      "text/html": [
       "<pre>| 675          | 1.99645      | 9m 25s       |</pre>"
      ],
      "text/plain": [
       "| 675          | 1.99645      | 9m 25s       |"
      ]
     },
     "metadata": {},
     "output_type": "display_data"
    },
    {
     "data": {
      "text/html": [
       "<pre>| 680          | 1.97212      | 9m 29s       |</pre>"
      ],
      "text/plain": [
       "| 680          | 1.97212      | 9m 29s       |"
      ]
     },
     "metadata": {},
     "output_type": "display_data"
    },
    {
     "data": {
      "text/html": [
       "<pre>| 685          | 1.93038      | 9m 34s       |</pre>"
      ],
      "text/plain": [
       "| 685          | 1.93038      | 9m 34s       |"
      ]
     },
     "metadata": {},
     "output_type": "display_data"
    },
    {
     "data": {
      "text/html": [
       "<pre>| 690          | 1.95842      | 9m 38s       |</pre>"
      ],
      "text/plain": [
       "| 690          | 1.95842      | 9m 38s       |"
      ]
     },
     "metadata": {},
     "output_type": "display_data"
    },
    {
     "data": {
      "text/html": [
       "<pre>| 695          | 2.02926      | 9m 42s       |</pre>"
      ],
      "text/plain": [
       "| 695          | 2.02926      | 9m 42s       |"
      ]
     },
     "metadata": {},
     "output_type": "display_data"
    },
    {
     "data": {
      "text/html": [
       "<pre>| 700          | 2.0344       | 9m 46s       |</pre>"
      ],
      "text/plain": [
       "| 700          | 2.0344       | 9m 46s       |"
      ]
     },
     "metadata": {},
     "output_type": "display_data"
    },
    {
     "data": {
      "text/html": [
       "<pre>| 705          | 2.07604      | 9m 51s       |</pre>"
      ],
      "text/plain": [
       "| 705          | 2.07604      | 9m 51s       |"
      ]
     },
     "metadata": {},
     "output_type": "display_data"
    },
    {
     "data": {
      "text/html": [
       "<pre>| 710          | 2.04164      | 9m 55s       |</pre>"
      ],
      "text/plain": [
       "| 710          | 2.04164      | 9m 55s       |"
      ]
     },
     "metadata": {},
     "output_type": "display_data"
    },
    {
     "data": {
      "text/html": [
       "<pre>| 715          | 2.01706      | 9m 59s       |</pre>"
      ],
      "text/plain": [
       "| 715          | 2.01706      | 9m 59s       |"
      ]
     },
     "metadata": {},
     "output_type": "display_data"
    },
    {
     "data": {
      "text/html": [
       "<pre>| 720          | 2.04209      | 10m 3s       |</pre>"
      ],
      "text/plain": [
       "| 720          | 2.04209      | 10m 3s       |"
      ]
     },
     "metadata": {},
     "output_type": "display_data"
    },
    {
     "data": {
      "text/html": [
       "<pre>| 725          | 2.02131      | 10m 7s       |</pre>"
      ],
      "text/plain": [
       "| 725          | 2.02131      | 10m 7s       |"
      ]
     },
     "metadata": {},
     "output_type": "display_data"
    },
    {
     "data": {
      "text/html": [
       "<pre>| 730          | 2.08269      | 10m 11s      |</pre>"
      ],
      "text/plain": [
       "| 730          | 2.08269      | 10m 11s      |"
      ]
     },
     "metadata": {},
     "output_type": "display_data"
    },
    {
     "data": {
      "text/html": [
       "<pre>| 735          | 1.99301      | 10m 15s      |</pre>"
      ],
      "text/plain": [
       "| 735          | 1.99301      | 10m 15s      |"
      ]
     },
     "metadata": {},
     "output_type": "display_data"
    },
    {
     "data": {
      "text/html": [
       "<pre>| 740          | 2.04299      | 10m 19s      |</pre>"
      ],
      "text/plain": [
       "| 740          | 2.04299      | 10m 19s      |"
      ]
     },
     "metadata": {},
     "output_type": "display_data"
    },
    {
     "data": {
      "text/html": [
       "<pre>| 745          | 1.99894      | 10m 25s      |</pre>"
      ],
      "text/plain": [
       "| 745          | 1.99894      | 10m 25s      |"
      ]
     },
     "metadata": {},
     "output_type": "display_data"
    },
    {
     "data": {
      "text/html": [
       "<pre>| 750          | 1.89842      | 10m 29s      |</pre>"
      ],
      "text/plain": [
       "| 750          | 1.89842      | 10m 29s      |"
      ]
     },
     "metadata": {},
     "output_type": "display_data"
    },
    {
     "data": {
      "text/html": [
       "<pre>| 755          | 1.91781      | 10m 33s      |</pre>"
      ],
      "text/plain": [
       "| 755          | 1.91781      | 10m 33s      |"
      ]
     },
     "metadata": {},
     "output_type": "display_data"
    },
    {
     "data": {
      "text/html": [
       "<pre>| 760          | 1.84951      | 10m 37s      |</pre>"
      ],
      "text/plain": [
       "| 760          | 1.84951      | 10m 37s      |"
      ]
     },
     "metadata": {},
     "output_type": "display_data"
    },
    {
     "data": {
      "text/html": [
       "<pre>| 765          | 1.93958      | 10m 41s      |</pre>"
      ],
      "text/plain": [
       "| 765          | 1.93958      | 10m 41s      |"
      ]
     },
     "metadata": {},
     "output_type": "display_data"
    },
    {
     "data": {
      "text/html": [
       "<pre>| 770          | 1.97389      | 10m 45s      |</pre>"
      ],
      "text/plain": [
       "| 770          | 1.97389      | 10m 45s      |"
      ]
     },
     "metadata": {},
     "output_type": "display_data"
    },
    {
     "data": {
      "text/html": [
       "<pre>| 775          | 1.92063      | 10m 49s      |</pre>"
      ],
      "text/plain": [
       "| 775          | 1.92063      | 10m 49s      |"
      ]
     },
     "metadata": {},
     "output_type": "display_data"
    },
    {
     "data": {
      "text/html": [
       "<pre>| 780          | 2.04303      | 10m 53s      |</pre>"
      ],
      "text/plain": [
       "| 780          | 2.04303      | 10m 53s      |"
      ]
     },
     "metadata": {},
     "output_type": "display_data"
    },
    {
     "data": {
      "text/html": [
       "<pre>| 785          | 2.07236      | 10m 58s      |</pre>"
      ],
      "text/plain": [
       "| 785          | 2.07236      | 10m 58s      |"
      ]
     },
     "metadata": {},
     "output_type": "display_data"
    },
    {
     "data": {
      "text/html": [
       "<pre>| 790          | 2.06713      | 11m 2s       |</pre>"
      ],
      "text/plain": [
       "| 790          | 2.06713      | 11m 2s       |"
      ]
     },
     "metadata": {},
     "output_type": "display_data"
    },
    {
     "data": {
      "text/html": [
       "<pre>| 795          | 2.03486      | 11m 6s       |</pre>"
      ],
      "text/plain": [
       "| 795          | 2.03486      | 11m 6s       |"
      ]
     },
     "metadata": {},
     "output_type": "display_data"
    },
    {
     "data": {
      "text/html": [
       "<pre>| 800          | 1.9519       | 11m 10s      |</pre>"
      ],
      "text/plain": [
       "| 800          | 1.9519       | 11m 10s      |"
      ]
     },
     "metadata": {},
     "output_type": "display_data"
    },
    {
     "data": {
      "text/html": [
       "<pre>| 805          | 1.92535      | 11m 14s      |</pre>"
      ],
      "text/plain": [
       "| 805          | 1.92535      | 11m 14s      |"
      ]
     },
     "metadata": {},
     "output_type": "display_data"
    },
    {
     "data": {
      "text/html": [
       "<pre>| 810          | 2.01371      | 11m 18s      |</pre>"
      ],
      "text/plain": [
       "| 810          | 2.01371      | 11m 18s      |"
      ]
     },
     "metadata": {},
     "output_type": "display_data"
    },
    {
     "data": {
      "text/html": [
       "<pre>| 815          | 1.97836      | 11m 22s      |</pre>"
      ],
      "text/plain": [
       "| 815          | 1.97836      | 11m 22s      |"
      ]
     },
     "metadata": {},
     "output_type": "display_data"
    },
    {
     "data": {
      "text/html": [
       "<pre>| 820          | 2.03596      | 11m 26s      |</pre>"
      ],
      "text/plain": [
       "| 820          | 2.03596      | 11m 26s      |"
      ]
     },
     "metadata": {},
     "output_type": "display_data"
    },
    {
     "data": {
      "text/html": [
       "<pre>| 825          | 2.01099      | 11m 31s      |</pre>"
      ],
      "text/plain": [
       "| 825          | 2.01099      | 11m 31s      |"
      ]
     },
     "metadata": {},
     "output_type": "display_data"
    },
    {
     "data": {
      "text/html": [
       "<pre>| 830          | 1.92748      | 11m 35s      |</pre>"
      ],
      "text/plain": [
       "| 830          | 1.92748      | 11m 35s      |"
      ]
     },
     "metadata": {},
     "output_type": "display_data"
    },
    {
     "data": {
      "text/html": [
       "<pre>| 835          | 1.92484      | 11m 39s      |</pre>"
      ],
      "text/plain": [
       "| 835          | 1.92484      | 11m 39s      |"
      ]
     },
     "metadata": {},
     "output_type": "display_data"
    },
    {
     "data": {
      "text/html": [
       "<pre>| 840          | 1.80597      | 11m 43s      |</pre>"
      ],
      "text/plain": [
       "| 840          | 1.80597      | 11m 43s      |"
      ]
     },
     "metadata": {},
     "output_type": "display_data"
    },
    {
     "data": {
      "text/html": [
       "<pre>| 845          | 1.78961      | 11m 48s      |</pre>"
      ],
      "text/plain": [
       "| 845          | 1.78961      | 11m 48s      |"
      ]
     },
     "metadata": {},
     "output_type": "display_data"
    },
    {
     "data": {
      "text/html": [
       "<pre>| 850          | 1.83032      | 11m 52s      |</pre>"
      ],
      "text/plain": [
       "| 850          | 1.83032      | 11m 52s      |"
      ]
     },
     "metadata": {},
     "output_type": "display_data"
    },
    {
     "data": {
      "text/html": [
       "<pre>| 855          | 1.86299      | 11m 56s      |</pre>"
      ],
      "text/plain": [
       "| 855          | 1.86299      | 11m 56s      |"
      ]
     },
     "metadata": {},
     "output_type": "display_data"
    },
    {
     "data": {
      "text/html": [
       "<pre>| 860          | 1.88268      | 12m 0s       |</pre>"
      ],
      "text/plain": [
       "| 860          | 1.88268      | 12m 0s       |"
      ]
     },
     "metadata": {},
     "output_type": "display_data"
    },
    {
     "data": {
      "text/html": [
       "<pre>| 865          | 1.82338      | 12m 6s       |</pre>"
      ],
      "text/plain": [
       "| 865          | 1.82338      | 12m 6s       |"
      ]
     },
     "metadata": {},
     "output_type": "display_data"
    },
    {
     "data": {
      "text/html": [
       "<pre>| 870          | 1.92388      | 12m 10s      |</pre>"
      ],
      "text/plain": [
       "| 870          | 1.92388      | 12m 10s      |"
      ]
     },
     "metadata": {},
     "output_type": "display_data"
    },
    {
     "data": {
      "text/html": [
       "<pre>| 875          | 1.92735      | 12m 14s      |</pre>"
      ],
      "text/plain": [
       "| 875          | 1.92735      | 12m 14s      |"
      ]
     },
     "metadata": {},
     "output_type": "display_data"
    },
    {
     "data": {
      "text/html": [
       "<pre>| 880          | 1.944        | 12m 18s      |</pre>"
      ],
      "text/plain": [
       "| 880          | 1.944        | 12m 18s      |"
      ]
     },
     "metadata": {},
     "output_type": "display_data"
    },
    {
     "data": {
      "text/html": [
       "<pre>| 885          | 1.98078      | 12m 24s      |</pre>"
      ],
      "text/plain": [
       "| 885          | 1.98078      | 12m 24s      |"
      ]
     },
     "metadata": {},
     "output_type": "display_data"
    },
    {
     "data": {
      "text/html": [
       "<pre>| 890          | 1.86676      | 12m 29s      |</pre>"
      ],
      "text/plain": [
       "| 890          | 1.86676      | 12m 29s      |"
      ]
     },
     "metadata": {},
     "output_type": "display_data"
    },
    {
     "data": {
      "text/html": [
       "<pre>| 895          | 1.94478      | 12m 34s      |</pre>"
      ],
      "text/plain": [
       "| 895          | 1.94478      | 12m 34s      |"
      ]
     },
     "metadata": {},
     "output_type": "display_data"
    },
    {
     "data": {
      "text/html": [
       "<pre>| 900          | 1.94668      | 12m 39s      |</pre>"
      ],
      "text/plain": [
       "| 900          | 1.94668      | 12m 39s      |"
      ]
     },
     "metadata": {},
     "output_type": "display_data"
    },
    {
     "data": {
      "text/html": [
       "<pre>| 905          | 1.94113      | 12m 45s      |</pre>"
      ],
      "text/plain": [
       "| 905          | 1.94113      | 12m 45s      |"
      ]
     },
     "metadata": {},
     "output_type": "display_data"
    },
    {
     "data": {
      "text/html": [
       "<pre>| 910          | 1.90916      | 12m 50s      |</pre>"
      ],
      "text/plain": [
       "| 910          | 1.90916      | 12m 50s      |"
      ]
     },
     "metadata": {},
     "output_type": "display_data"
    },
    {
     "data": {
      "text/html": [
       "<pre>| 915          | 1.89865      | 12m 55s      |</pre>"
      ],
      "text/plain": [
       "| 915          | 1.89865      | 12m 55s      |"
      ]
     },
     "metadata": {},
     "output_type": "display_data"
    },
    {
     "data": {
      "text/html": [
       "<pre>| 920          | 1.92249      | 12m 59s      |</pre>"
      ],
      "text/plain": [
       "| 920          | 1.92249      | 12m 59s      |"
      ]
     },
     "metadata": {},
     "output_type": "display_data"
    },
    {
     "data": {
      "text/html": [
       "<pre>| 925          | 1.89151      | 13m 4s       |</pre>"
      ],
      "text/plain": [
       "| 925          | 1.89151      | 13m 4s       |"
      ]
     },
     "metadata": {},
     "output_type": "display_data"
    },
    {
     "data": {
      "text/html": [
       "<pre>| 930          | 1.84079      | 13m 8s       |</pre>"
      ],
      "text/plain": [
       "| 930          | 1.84079      | 13m 8s       |"
      ]
     },
     "metadata": {},
     "output_type": "display_data"
    },
    {
     "data": {
      "text/html": [
       "<pre>| 935          | 1.87531      | 13m 12s      |</pre>"
      ],
      "text/plain": [
       "| 935          | 1.87531      | 13m 12s      |"
      ]
     },
     "metadata": {},
     "output_type": "display_data"
    },
    {
     "data": {
      "text/html": [
       "<pre>| 940          | 1.89024      | 13m 16s      |</pre>"
      ],
      "text/plain": [
       "| 940          | 1.89024      | 13m 16s      |"
      ]
     },
     "metadata": {},
     "output_type": "display_data"
    },
    {
     "data": {
      "text/html": [
       "<pre>| 945          | 1.8748       | 13m 21s      |</pre>"
      ],
      "text/plain": [
       "| 945          | 1.8748       | 13m 21s      |"
      ]
     },
     "metadata": {},
     "output_type": "display_data"
    },
    {
     "data": {
      "text/html": [
       "<pre>| 950          | 1.84354      | 13m 25s      |</pre>"
      ],
      "text/plain": [
       "| 950          | 1.84354      | 13m 25s      |"
      ]
     },
     "metadata": {},
     "output_type": "display_data"
    },
    {
     "data": {
      "text/html": [
       "<pre>| 955          | 1.88669      | 13m 29s      |</pre>"
      ],
      "text/plain": [
       "| 955          | 1.88669      | 13m 29s      |"
      ]
     },
     "metadata": {},
     "output_type": "display_data"
    },
    {
     "data": {
      "text/html": [
       "<pre>| 960          | 1.86117      | 13m 33s      |</pre>"
      ],
      "text/plain": [
       "| 960          | 1.86117      | 13m 33s      |"
      ]
     },
     "metadata": {},
     "output_type": "display_data"
    },
    {
     "data": {
      "text/html": [
       "<pre>| 965          | 1.8715       | 13m 37s      |</pre>"
      ],
      "text/plain": [
       "| 965          | 1.8715       | 13m 37s      |"
      ]
     },
     "metadata": {},
     "output_type": "display_data"
    },
    {
     "data": {
      "text/html": [
       "<pre>| 970          | 1.88954      | 13m 41s      |</pre>"
      ],
      "text/plain": [
       "| 970          | 1.88954      | 13m 41s      |"
      ]
     },
     "metadata": {},
     "output_type": "display_data"
    },
    {
     "data": {
      "text/html": [
       "<pre>| 975          | 1.8577       | 13m 45s      |</pre>"
      ],
      "text/plain": [
       "| 975          | 1.8577       | 13m 45s      |"
      ]
     },
     "metadata": {},
     "output_type": "display_data"
    },
    {
     "data": {
      "text/html": [
       "<pre>| 980          | 1.88082      | 13m 49s      |</pre>"
      ],
      "text/plain": [
       "| 980          | 1.88082      | 13m 49s      |"
      ]
     },
     "metadata": {},
     "output_type": "display_data"
    },
    {
     "data": {
      "text/html": [
       "<pre>| 985          | 1.85044      | 13m 54s      |</pre>"
      ],
      "text/plain": [
       "| 985          | 1.85044      | 13m 54s      |"
      ]
     },
     "metadata": {},
     "output_type": "display_data"
    },
    {
     "data": {
      "text/html": [
       "<pre>| 990          | 1.88754      | 13m 58s      |</pre>"
      ],
      "text/plain": [
       "| 990          | 1.88754      | 13m 58s      |"
      ]
     },
     "metadata": {},
     "output_type": "display_data"
    },
    {
     "data": {
      "text/html": [
       "<pre>| 995          | 1.82846      | 14m 2s       |</pre>"
      ],
      "text/plain": [
       "| 995          | 1.82846      | 14m 2s       |"
      ]
     },
     "metadata": {},
     "output_type": "display_data"
    },
    {
     "data": {
      "text/html": [
       "<pre>| 1000         | 1.81389      | 14m 6s       |</pre>"
      ],
      "text/plain": [
       "| 1000         | 1.81389      | 14m 6s       |"
      ]
     },
     "metadata": {},
     "output_type": "display_data"
    },
    {
     "data": {
      "text/html": [
       "<pre>| 1005         | 1.84749      | 14m 11s      |</pre>"
      ],
      "text/plain": [
       "| 1005         | 1.84749      | 14m 11s      |"
      ]
     },
     "metadata": {},
     "output_type": "display_data"
    },
    {
     "data": {
      "text/html": [
       "<pre>| 1010         | 1.93034      | 14m 15s      |</pre>"
      ],
      "text/plain": [
       "| 1010         | 1.93034      | 14m 15s      |"
      ]
     },
     "metadata": {},
     "output_type": "display_data"
    },
    {
     "data": {
      "text/html": [
       "<pre>| 1015         | 1.87322      | 14m 20s      |</pre>"
      ],
      "text/plain": [
       "| 1015         | 1.87322      | 14m 20s      |"
      ]
     },
     "metadata": {},
     "output_type": "display_data"
    },
    {
     "data": {
      "text/html": [
       "<pre>| 1020         | 1.88018      | 14m 25s      |</pre>"
      ],
      "text/plain": [
       "| 1020         | 1.88018      | 14m 25s      |"
      ]
     },
     "metadata": {},
     "output_type": "display_data"
    },
    {
     "data": {
      "text/html": [
       "<pre>| 1025         | 1.86262      | 14m 29s      |</pre>"
      ],
      "text/plain": [
       "| 1025         | 1.86262      | 14m 29s      |"
      ]
     },
     "metadata": {},
     "output_type": "display_data"
    },
    {
     "data": {
      "text/html": [
       "<pre>| 1030         | 1.79284      | 14m 33s      |</pre>"
      ],
      "text/plain": [
       "| 1030         | 1.79284      | 14m 33s      |"
      ]
     },
     "metadata": {},
     "output_type": "display_data"
    },
    {
     "data": {
      "text/html": [
       "<pre>| 1035         | 1.87278      | 14m 37s      |</pre>"
      ],
      "text/plain": [
       "| 1035         | 1.87278      | 14m 37s      |"
      ]
     },
     "metadata": {},
     "output_type": "display_data"
    },
    {
     "data": {
      "text/html": [
       "<pre>| 1040         | 1.82456      | 14m 41s      |</pre>"
      ],
      "text/plain": [
       "| 1040         | 1.82456      | 14m 41s      |"
      ]
     },
     "metadata": {},
     "output_type": "display_data"
    },
    {
     "data": {
      "text/html": [
       "<pre>| 1045         | 1.78561      | 14m 47s      |</pre>"
      ],
      "text/plain": [
       "| 1045         | 1.78561      | 14m 47s      |"
      ]
     },
     "metadata": {},
     "output_type": "display_data"
    },
    {
     "data": {
      "text/html": [
       "<pre>| 1050         | 1.80154      | 14m 51s      |</pre>"
      ],
      "text/plain": [
       "| 1050         | 1.80154      | 14m 51s      |"
      ]
     },
     "metadata": {},
     "output_type": "display_data"
    },
    {
     "data": {
      "text/html": [
       "<pre>| 1055         | 1.78719      | 14m 55s      |</pre>"
      ],
      "text/plain": [
       "| 1055         | 1.78719      | 14m 55s      |"
      ]
     },
     "metadata": {},
     "output_type": "display_data"
    },
    {
     "data": {
      "text/html": [
       "<pre>| 1060         | 1.80616      | 14m 59s      |</pre>"
      ],
      "text/plain": [
       "| 1060         | 1.80616      | 14m 59s      |"
      ]
     },
     "metadata": {},
     "output_type": "display_data"
    },
    {
     "data": {
      "text/html": [
       "<pre>| 1065         | 1.81483      | 15m 4s       |</pre>"
      ],
      "text/plain": [
       "| 1065         | 1.81483      | 15m 4s       |"
      ]
     },
     "metadata": {},
     "output_type": "display_data"
    },
    {
     "data": {
      "text/html": [
       "<pre>| 1070         | 1.75931      | 15m 8s       |</pre>"
      ],
      "text/plain": [
       "| 1070         | 1.75931      | 15m 8s       |"
      ]
     },
     "metadata": {},
     "output_type": "display_data"
    },
    {
     "data": {
      "text/html": [
       "<pre>| 1075         | 1.80717      | 15m 12s      |</pre>"
      ],
      "text/plain": [
       "| 1075         | 1.80717      | 15m 12s      |"
      ]
     },
     "metadata": {},
     "output_type": "display_data"
    },
    {
     "data": {
      "text/html": [
       "<pre>| 1080         | 1.81179      | 15m 16s      |</pre>"
      ],
      "text/plain": [
       "| 1080         | 1.81179      | 15m 16s      |"
      ]
     },
     "metadata": {},
     "output_type": "display_data"
    },
    {
     "data": {
      "text/html": [
       "<pre>| 1085         | 1.74655      | 15m 21s      |</pre>"
      ],
      "text/plain": [
       "| 1085         | 1.74655      | 15m 21s      |"
      ]
     },
     "metadata": {},
     "output_type": "display_data"
    },
    {
     "data": {
      "text/html": [
       "<pre>| 1090         | 1.7776       | 15m 26s      |</pre>"
      ],
      "text/plain": [
       "| 1090         | 1.7776       | 15m 26s      |"
      ]
     },
     "metadata": {},
     "output_type": "display_data"
    },
    {
     "data": {
      "text/html": [
       "<pre>| 1095         | 1.72713      | 15m 30s      |</pre>"
      ],
      "text/plain": [
       "| 1095         | 1.72713      | 15m 30s      |"
      ]
     },
     "metadata": {},
     "output_type": "display_data"
    },
    {
     "data": {
      "text/html": [
       "<pre>| 1100         | 1.8053       | 15m 34s      |</pre>"
      ],
      "text/plain": [
       "| 1100         | 1.8053       | 15m 34s      |"
      ]
     },
     "metadata": {},
     "output_type": "display_data"
    },
    {
     "data": {
      "text/html": [
       "<pre>| 1105         | 1.7747       | 15m 39s      |</pre>"
      ],
      "text/plain": [
       "| 1105         | 1.7747       | 15m 39s      |"
      ]
     },
     "metadata": {},
     "output_type": "display_data"
    },
    {
     "data": {
      "text/html": [
       "<pre>| 1110         | 1.87313      | 15m 43s      |</pre>"
      ],
      "text/plain": [
       "| 1110         | 1.87313      | 15m 43s      |"
      ]
     },
     "metadata": {},
     "output_type": "display_data"
    },
    {
     "data": {
      "text/html": [
       "<pre>| 1115         | 1.85241      | 15m 47s      |</pre>"
      ],
      "text/plain": [
       "| 1115         | 1.85241      | 15m 47s      |"
      ]
     },
     "metadata": {},
     "output_type": "display_data"
    },
    {
     "data": {
      "text/html": [
       "<pre>| 1120         | 1.88119      | 15m 51s      |</pre>"
      ],
      "text/plain": [
       "| 1120         | 1.88119      | 15m 51s      |"
      ]
     },
     "metadata": {},
     "output_type": "display_data"
    },
    {
     "data": {
      "text/html": [
       "<pre>| 1125         | 1.83861      | 15m 56s      |</pre>"
      ],
      "text/plain": [
       "| 1125         | 1.83861      | 15m 56s      |"
      ]
     },
     "metadata": {},
     "output_type": "display_data"
    },
    {
     "data": {
      "text/html": [
       "<pre>| 1130         | 1.81817      | 16m 0s       |</pre>"
      ],
      "text/plain": [
       "| 1130         | 1.81817      | 16m 0s       |"
      ]
     },
     "metadata": {},
     "output_type": "display_data"
    },
    {
     "data": {
      "text/html": [
       "<pre>| 1135         | 1.86607      | 16m 3s       |</pre>"
      ],
      "text/plain": [
       "| 1135         | 1.86607      | 16m 3s       |"
      ]
     },
     "metadata": {},
     "output_type": "display_data"
    },
    {
     "data": {
      "text/html": [
       "<pre>| 1140         | 1.82523      | 16m 7s       |</pre>"
      ],
      "text/plain": [
       "| 1140         | 1.82523      | 16m 7s       |"
      ]
     },
     "metadata": {},
     "output_type": "display_data"
    },
    {
     "data": {
      "text/html": [
       "<pre>| 1145         | 1.82282      | 16m 12s      |</pre>"
      ],
      "text/plain": [
       "| 1145         | 1.82282      | 16m 12s      |"
      ]
     },
     "metadata": {},
     "output_type": "display_data"
    },
    {
     "data": {
      "text/html": [
       "<pre>| 1150         | 1.76674      | 16m 16s      |</pre>"
      ],
      "text/plain": [
       "| 1150         | 1.76674      | 16m 16s      |"
      ]
     },
     "metadata": {},
     "output_type": "display_data"
    },
    {
     "data": {
      "text/html": [
       "<pre>| 1155         | 1.69503      | 16m 20s      |</pre>"
      ],
      "text/plain": [
       "| 1155         | 1.69503      | 16m 20s      |"
      ]
     },
     "metadata": {},
     "output_type": "display_data"
    },
    {
     "data": {
      "text/html": [
       "<pre>| 1160         | 1.73817      | 16m 24s      |</pre>"
      ],
      "text/plain": [
       "| 1160         | 1.73817      | 16m 24s      |"
      ]
     },
     "metadata": {},
     "output_type": "display_data"
    },
    {
     "data": {
      "text/html": [
       "<pre>| 1165         | 1.76532      | 16m 29s      |</pre>"
      ],
      "text/plain": [
       "| 1165         | 1.76532      | 16m 29s      |"
      ]
     },
     "metadata": {},
     "output_type": "display_data"
    },
    {
     "data": {
      "text/html": [
       "<pre>| 1170         | 1.78292      | 16m 33s      |</pre>"
      ],
      "text/plain": [
       "| 1170         | 1.78292      | 16m 33s      |"
      ]
     },
     "metadata": {},
     "output_type": "display_data"
    },
    {
     "data": {
      "text/html": [
       "<pre>| 1175         | 1.89389      | 16m 37s      |</pre>"
      ],
      "text/plain": [
       "| 1175         | 1.89389      | 16m 37s      |"
      ]
     },
     "metadata": {},
     "output_type": "display_data"
    },
    {
     "data": {
      "text/html": [
       "<pre>| 1180         | 1.84612      | 16m 41s      |</pre>"
      ],
      "text/plain": [
       "| 1180         | 1.84612      | 16m 41s      |"
      ]
     },
     "metadata": {},
     "output_type": "display_data"
    },
    {
     "data": {
      "text/html": [
       "<pre>| 1185         | 1.90174      | 16m 46s      |</pre>"
      ],
      "text/plain": [
       "| 1185         | 1.90174      | 16m 46s      |"
      ]
     },
     "metadata": {},
     "output_type": "display_data"
    },
    {
     "data": {
      "text/html": [
       "<pre>| 1190         | 1.87481      | 16m 50s      |</pre>"
      ],
      "text/plain": [
       "| 1190         | 1.87481      | 16m 50s      |"
      ]
     },
     "metadata": {},
     "output_type": "display_data"
    },
    {
     "data": {
      "text/html": [
       "<pre>| 1195         | 1.73374      | 16m 55s      |</pre>"
      ],
      "text/plain": [
       "| 1195         | 1.73374      | 16m 55s      |"
      ]
     },
     "metadata": {},
     "output_type": "display_data"
    },
    {
     "data": {
      "text/html": [
       "<pre>| 1200         | 1.7245       | 17m 0s       |</pre>"
      ],
      "text/plain": [
       "| 1200         | 1.7245       | 17m 0s       |"
      ]
     },
     "metadata": {},
     "output_type": "display_data"
    },
    {
     "data": {
      "text/html": [
       "<pre>| 1205         | 1.77728      | 17m 6s       |</pre>"
      ],
      "text/plain": [
       "| 1205         | 1.77728      | 17m 6s       |"
      ]
     },
     "metadata": {},
     "output_type": "display_data"
    },
    {
     "data": {
      "text/html": [
       "<pre>| 1210         | 1.77001      | 17m 11s      |</pre>"
      ],
      "text/plain": [
       "| 1210         | 1.77001      | 17m 11s      |"
      ]
     },
     "metadata": {},
     "output_type": "display_data"
    },
    {
     "data": {
      "text/html": [
       "<pre>| 1215         | 1.71631      | 17m 15s      |</pre>"
      ],
      "text/plain": [
       "| 1215         | 1.71631      | 17m 15s      |"
      ]
     },
     "metadata": {},
     "output_type": "display_data"
    },
    {
     "data": {
      "text/html": [
       "<pre>| 1220         | 1.75906      | 17m 19s      |</pre>"
      ],
      "text/plain": [
       "| 1220         | 1.75906      | 17m 19s      |"
      ]
     },
     "metadata": {},
     "output_type": "display_data"
    },
    {
     "data": {
      "text/html": [
       "<pre>| 1225         | 1.66816      | 17m 24s      |</pre>"
      ],
      "text/plain": [
       "| 1225         | 1.66816      | 17m 24s      |"
      ]
     },
     "metadata": {},
     "output_type": "display_data"
    },
    {
     "data": {
      "text/html": [
       "<pre>| 1230         | 1.68159      | 17m 28s      |</pre>"
      ],
      "text/plain": [
       "| 1230         | 1.68159      | 17m 28s      |"
      ]
     },
     "metadata": {},
     "output_type": "display_data"
    },
    {
     "data": {
      "text/html": [
       "<pre>| 1235         | 1.67509      | 17m 32s      |</pre>"
      ],
      "text/plain": [
       "| 1235         | 1.67509      | 17m 32s      |"
      ]
     },
     "metadata": {},
     "output_type": "display_data"
    },
    {
     "data": {
      "text/html": [
       "<pre>| 1240         | 1.64385      | 17m 36s      |</pre>"
      ],
      "text/plain": [
       "| 1240         | 1.64385      | 17m 36s      |"
      ]
     },
     "metadata": {},
     "output_type": "display_data"
    },
    {
     "data": {
      "text/html": [
       "<pre>| 1245         | 1.66656      | 17m 40s      |</pre>"
      ],
      "text/plain": [
       "| 1245         | 1.66656      | 17m 40s      |"
      ]
     },
     "metadata": {},
     "output_type": "display_data"
    },
    {
     "data": {
      "text/html": [
       "<pre>| 1250         | 1.65915      | 17m 44s      |</pre>"
      ],
      "text/plain": [
       "| 1250         | 1.65915      | 17m 44s      |"
      ]
     },
     "metadata": {},
     "output_type": "display_data"
    },
    {
     "data": {
      "text/html": [
       "<pre>| 1255         | 1.69959      | 17m 48s      |</pre>"
      ],
      "text/plain": [
       "| 1255         | 1.69959      | 17m 48s      |"
      ]
     },
     "metadata": {},
     "output_type": "display_data"
    },
    {
     "data": {
      "text/html": [
       "<pre>| 1260         | 1.75004      | 17m 52s      |</pre>"
      ],
      "text/plain": [
       "| 1260         | 1.75004      | 17m 52s      |"
      ]
     },
     "metadata": {},
     "output_type": "display_data"
    },
    {
     "data": {
      "text/html": [
       "<pre>| 1265         | 1.74813      | 17m 57s      |</pre>"
      ],
      "text/plain": [
       "| 1265         | 1.74813      | 17m 57s      |"
      ]
     },
     "metadata": {},
     "output_type": "display_data"
    },
    {
     "data": {
      "text/html": [
       "<pre>| 1270         | 1.80683      | 18m 1s       |</pre>"
      ],
      "text/plain": [
       "| 1270         | 1.80683      | 18m 1s       |"
      ]
     },
     "metadata": {},
     "output_type": "display_data"
    },
    {
     "data": {
      "text/html": [
       "<pre>| 1275         | 1.69904      | 18m 5s       |</pre>"
      ],
      "text/plain": [
       "| 1275         | 1.69904      | 18m 5s       |"
      ]
     },
     "metadata": {},
     "output_type": "display_data"
    },
    {
     "data": {
      "text/html": [
       "<pre>| 1280         | 1.63744      | 18m 9s       |</pre>"
      ],
      "text/plain": [
       "| 1280         | 1.63744      | 18m 9s       |"
      ]
     },
     "metadata": {},
     "output_type": "display_data"
    },
    {
     "data": {
      "text/html": [
       "<pre>| 1285         | 1.7125       | 18m 14s      |</pre>"
      ],
      "text/plain": [
       "| 1285         | 1.7125       | 18m 14s      |"
      ]
     },
     "metadata": {},
     "output_type": "display_data"
    },
    {
     "data": {
      "text/html": [
       "<pre>| 1290         | 1.70223      | 18m 18s      |</pre>"
      ],
      "text/plain": [
       "| 1290         | 1.70223      | 18m 18s      |"
      ]
     },
     "metadata": {},
     "output_type": "display_data"
    },
    {
     "data": {
      "text/html": [
       "<pre>| 1295         | 1.68054      | 18m 22s      |</pre>"
      ],
      "text/plain": [
       "| 1295         | 1.68054      | 18m 22s      |"
      ]
     },
     "metadata": {},
     "output_type": "display_data"
    },
    {
     "data": {
      "text/html": [
       "<pre>| 1300         | 1.75315      | 18m 26s      |</pre>"
      ],
      "text/plain": [
       "| 1300         | 1.75315      | 18m 26s      |"
      ]
     },
     "metadata": {},
     "output_type": "display_data"
    },
    {
     "data": {
      "text/html": [
       "<pre>| 1305         | 1.78007      | 18m 31s      |</pre>"
      ],
      "text/plain": [
       "| 1305         | 1.78007      | 18m 31s      |"
      ]
     },
     "metadata": {},
     "output_type": "display_data"
    },
    {
     "data": {
      "text/html": [
       "<pre>| 1310         | 1.76135      | 18m 35s      |</pre>"
      ],
      "text/plain": [
       "| 1310         | 1.76135      | 18m 35s      |"
      ]
     },
     "metadata": {},
     "output_type": "display_data"
    },
    {
     "data": {
      "text/html": [
       "<pre>| 1315         | 1.66073      | 18m 40s      |</pre>"
      ],
      "text/plain": [
       "| 1315         | 1.66073      | 18m 40s      |"
      ]
     },
     "metadata": {},
     "output_type": "display_data"
    },
    {
     "data": {
      "text/html": [
       "<pre>| 1320         | 1.61834      | 18m 44s      |</pre>"
      ],
      "text/plain": [
       "| 1320         | 1.61834      | 18m 44s      |"
      ]
     },
     "metadata": {},
     "output_type": "display_data"
    },
    {
     "data": {
      "text/html": [
       "<pre>| 1325         | 1.76862      | 18m 49s      |</pre>"
      ],
      "text/plain": [
       "| 1325         | 1.76862      | 18m 49s      |"
      ]
     },
     "metadata": {},
     "output_type": "display_data"
    },
    {
     "data": {
      "text/html": [
       "<pre>| 1330         | 1.76127      | 18m 53s      |</pre>"
      ],
      "text/plain": [
       "| 1330         | 1.76127      | 18m 53s      |"
      ]
     },
     "metadata": {},
     "output_type": "display_data"
    },
    {
     "data": {
      "text/html": [
       "<pre>| 1335         | 1.78696      | 18m 57s      |</pre>"
      ],
      "text/plain": [
       "| 1335         | 1.78696      | 18m 57s      |"
      ]
     },
     "metadata": {},
     "output_type": "display_data"
    },
    {
     "data": {
      "text/html": [
       "<pre>| 1340         | 1.73553      | 19m 1s       |</pre>"
      ],
      "text/plain": [
       "| 1340         | 1.73553      | 19m 1s       |"
      ]
     },
     "metadata": {},
     "output_type": "display_data"
    },
    {
     "data": {
      "text/html": [
       "<pre>| 1345         | 1.73719      | 19m 6s       |</pre>"
      ],
      "text/plain": [
       "| 1345         | 1.73719      | 19m 6s       |"
      ]
     },
     "metadata": {},
     "output_type": "display_data"
    },
    {
     "data": {
      "text/html": [
       "<pre>| 1350         | 1.73587      | 19m 10s      |</pre>"
      ],
      "text/plain": [
       "| 1350         | 1.73587      | 19m 10s      |"
      ]
     },
     "metadata": {},
     "output_type": "display_data"
    },
    {
     "data": {
      "text/html": [
       "<pre>| 1355         | 1.70603      | 19m 14s      |</pre>"
      ],
      "text/plain": [
       "| 1355         | 1.70603      | 19m 14s      |"
      ]
     },
     "metadata": {},
     "output_type": "display_data"
    },
    {
     "data": {
      "text/html": [
       "<pre>| 1360         | 1.82482      | 19m 18s      |</pre>"
      ],
      "text/plain": [
       "| 1360         | 1.82482      | 19m 18s      |"
      ]
     },
     "metadata": {},
     "output_type": "display_data"
    },
    {
     "data": {
      "text/html": [
       "<pre>| 1365         | 1.8599       | 19m 23s      |</pre>"
      ],
      "text/plain": [
       "| 1365         | 1.8599       | 19m 23s      |"
      ]
     },
     "metadata": {},
     "output_type": "display_data"
    },
    {
     "data": {
      "text/html": [
       "<pre>| 1370         | 1.74203      | 19m 27s      |</pre>"
      ],
      "text/plain": [
       "| 1370         | 1.74203      | 19m 27s      |"
      ]
     },
     "metadata": {},
     "output_type": "display_data"
    },
    {
     "data": {
      "text/html": [
       "<pre>| 1375         | 1.8144       | 19m 31s      |</pre>"
      ],
      "text/plain": [
       "| 1375         | 1.8144       | 19m 31s      |"
      ]
     },
     "metadata": {},
     "output_type": "display_data"
    },
    {
     "data": {
      "text/html": [
       "<pre>| 1380         | 1.68932      | 19m 35s      |</pre>"
      ],
      "text/plain": [
       "| 1380         | 1.68932      | 19m 35s      |"
      ]
     },
     "metadata": {},
     "output_type": "display_data"
    },
    {
     "data": {
      "text/html": [
       "<pre>| 1385         | 1.7035       | 19m 40s      |</pre>"
      ],
      "text/plain": [
       "| 1385         | 1.7035       | 19m 40s      |"
      ]
     },
     "metadata": {},
     "output_type": "display_data"
    },
    {
     "data": {
      "text/html": [
       "<pre>| 1390         | 1.74383      | 19m 44s      |</pre>"
      ],
      "text/plain": [
       "| 1390         | 1.74383      | 19m 44s      |"
      ]
     },
     "metadata": {},
     "output_type": "display_data"
    },
    {
     "data": {
      "text/html": [
       "<pre>| 1395         | 1.69001      | 19m 48s      |</pre>"
      ],
      "text/plain": [
       "| 1395         | 1.69001      | 19m 48s      |"
      ]
     },
     "metadata": {},
     "output_type": "display_data"
    },
    {
     "data": {
      "text/html": [
       "<pre>| 1400         | 1.65308      | 19m 52s      |</pre>"
      ],
      "text/plain": [
       "| 1400         | 1.65308      | 19m 52s      |"
      ]
     },
     "metadata": {},
     "output_type": "display_data"
    },
    {
     "data": {
      "text/html": [
       "<pre>| 1405         | 1.67072      | 19m 58s      |</pre>"
      ],
      "text/plain": [
       "| 1405         | 1.67072      | 19m 58s      |"
      ]
     },
     "metadata": {},
     "output_type": "display_data"
    },
    {
     "data": {
      "text/html": [
       "<pre>| 1410         | 1.71639      | 20m 2s       |</pre>"
      ],
      "text/plain": [
       "| 1410         | 1.71639      | 20m 2s       |"
      ]
     },
     "metadata": {},
     "output_type": "display_data"
    },
    {
     "data": {
      "text/html": [
       "<pre>| 1415         | 1.63239      | 20m 7s       |</pre>"
      ],
      "text/plain": [
       "| 1415         | 1.63239      | 20m 7s       |"
      ]
     },
     "metadata": {},
     "output_type": "display_data"
    },
    {
     "data": {
      "text/html": [
       "<pre>| 1420         | 1.61288      | 20m 11s      |</pre>"
      ],
      "text/plain": [
       "| 1420         | 1.61288      | 20m 11s      |"
      ]
     },
     "metadata": {},
     "output_type": "display_data"
    },
    {
     "data": {
      "text/html": [
       "<pre>| 1425         | 1.59787      | 20m 15s      |</pre>"
      ],
      "text/plain": [
       "| 1425         | 1.59787      | 20m 15s      |"
      ]
     },
     "metadata": {},
     "output_type": "display_data"
    },
    {
     "data": {
      "text/html": [
       "<pre>| 1430         | 1.69233      | 20m 19s      |</pre>"
      ],
      "text/plain": [
       "| 1430         | 1.69233      | 20m 19s      |"
      ]
     },
     "metadata": {},
     "output_type": "display_data"
    },
    {
     "data": {
      "text/html": [
       "<pre>| 1435         | 1.65223      | 20m 23s      |</pre>"
      ],
      "text/plain": [
       "| 1435         | 1.65223      | 20m 23s      |"
      ]
     },
     "metadata": {},
     "output_type": "display_data"
    },
    {
     "data": {
      "text/html": [
       "<pre>| 1440         | 1.63676      | 20m 27s      |</pre>"
      ],
      "text/plain": [
       "| 1440         | 1.63676      | 20m 27s      |"
      ]
     },
     "metadata": {},
     "output_type": "display_data"
    },
    {
     "data": {
      "text/html": [
       "<pre>| 1445         | 1.69348      | 20m 32s      |</pre>"
      ],
      "text/plain": [
       "| 1445         | 1.69348      | 20m 32s      |"
      ]
     },
     "metadata": {},
     "output_type": "display_data"
    },
    {
     "data": {
      "text/html": [
       "<pre>| 1450         | 1.65508      | 20m 36s      |</pre>"
      ],
      "text/plain": [
       "| 1450         | 1.65508      | 20m 36s      |"
      ]
     },
     "metadata": {},
     "output_type": "display_data"
    },
    {
     "data": {
      "text/html": [
       "<pre>| 1455         | 1.70208      | 20m 40s      |</pre>"
      ],
      "text/plain": [
       "| 1455         | 1.70208      | 20m 40s      |"
      ]
     },
     "metadata": {},
     "output_type": "display_data"
    },
    {
     "data": {
      "text/html": [
       "<pre>| 1460         | 1.68315      | 20m 44s      |</pre>"
      ],
      "text/plain": [
       "| 1460         | 1.68315      | 20m 44s      |"
      ]
     },
     "metadata": {},
     "output_type": "display_data"
    },
    {
     "data": {
      "text/html": [
       "<pre>| 1465         | 1.74604      | 20m 48s      |</pre>"
      ],
      "text/plain": [
       "| 1465         | 1.74604      | 20m 48s      |"
      ]
     },
     "metadata": {},
     "output_type": "display_data"
    },
    {
     "data": {
      "text/html": [
       "<pre>| 1470         | 1.70727      | 20m 52s      |</pre>"
      ],
      "text/plain": [
       "| 1470         | 1.70727      | 20m 52s      |"
      ]
     },
     "metadata": {},
     "output_type": "display_data"
    },
    {
     "data": {
      "text/html": [
       "<pre>| 1475         | 1.72526      | 20m 56s      |</pre>"
      ],
      "text/plain": [
       "| 1475         | 1.72526      | 20m 56s      |"
      ]
     },
     "metadata": {},
     "output_type": "display_data"
    },
    {
     "data": {
      "text/html": [
       "<pre>| 1480         | 1.73448      | 21m 0s       |</pre>"
      ],
      "text/plain": [
       "| 1480         | 1.73448      | 21m 0s       |"
      ]
     },
     "metadata": {},
     "output_type": "display_data"
    },
    {
     "data": {
      "text/html": [
       "<pre>| 1485         | 1.69691      | 21m 4s       |</pre>"
      ],
      "text/plain": [
       "| 1485         | 1.69691      | 21m 4s       |"
      ]
     },
     "metadata": {},
     "output_type": "display_data"
    },
    {
     "data": {
      "text/html": [
       "<pre>| 1490         | 1.65058      | 21m 8s       |</pre>"
      ],
      "text/plain": [
       "| 1490         | 1.65058      | 21m 8s       |"
      ]
     },
     "metadata": {},
     "output_type": "display_data"
    },
    {
     "data": {
      "text/html": [
       "<pre>| 1495         | 1.61021      | 21m 12s      |</pre>"
      ],
      "text/plain": [
       "| 1495         | 1.61021      | 21m 12s      |"
      ]
     },
     "metadata": {},
     "output_type": "display_data"
    },
    {
     "data": {
      "text/html": [
       "<pre>| 1500         | 1.61042      | 21m 16s      |</pre>"
      ],
      "text/plain": [
       "| 1500         | 1.61042      | 21m 16s      |"
      ]
     },
     "metadata": {},
     "output_type": "display_data"
    },
    {
     "data": {
      "text/html": [
       "<pre>| 1505         | 1.60311      | 21m 21s      |</pre>"
      ],
      "text/plain": [
       "| 1505         | 1.60311      | 21m 21s      |"
      ]
     },
     "metadata": {},
     "output_type": "display_data"
    },
    {
     "data": {
      "text/html": [
       "<pre>| 1510         | 1.664        | 21m 25s      |</pre>"
      ],
      "text/plain": [
       "| 1510         | 1.664        | 21m 25s      |"
      ]
     },
     "metadata": {},
     "output_type": "display_data"
    },
    {
     "data": {
      "text/html": [
       "<pre>| 1515         | 1.69467      | 21m 29s      |</pre>"
      ],
      "text/plain": [
       "| 1515         | 1.69467      | 21m 29s      |"
      ]
     },
     "metadata": {},
     "output_type": "display_data"
    },
    {
     "data": {
      "text/html": [
       "<pre>| 1520         | 1.67892      | 21m 33s      |</pre>"
      ],
      "text/plain": [
       "| 1520         | 1.67892      | 21m 33s      |"
      ]
     },
     "metadata": {},
     "output_type": "display_data"
    },
    {
     "data": {
      "text/html": [
       "<pre>| 1525         | 1.69073      | 21m 37s      |</pre>"
      ],
      "text/plain": [
       "| 1525         | 1.69073      | 21m 37s      |"
      ]
     },
     "metadata": {},
     "output_type": "display_data"
    },
    {
     "data": {
      "text/html": [
       "<pre>| 1530         | 1.67285      | 21m 41s      |</pre>"
      ],
      "text/plain": [
       "| 1530         | 1.67285      | 21m 41s      |"
      ]
     },
     "metadata": {},
     "output_type": "display_data"
    },
    {
     "data": {
      "text/html": [
       "<pre>| 1535         | 1.73641      | 21m 45s      |</pre>"
      ],
      "text/plain": [
       "| 1535         | 1.73641      | 21m 45s      |"
      ]
     },
     "metadata": {},
     "output_type": "display_data"
    },
    {
     "data": {
      "text/html": [
       "<pre>| 1540         | 1.72807      | 21m 49s      |</pre>"
      ],
      "text/plain": [
       "| 1540         | 1.72807      | 21m 49s      |"
      ]
     },
     "metadata": {},
     "output_type": "display_data"
    },
    {
     "data": {
      "text/html": [
       "<pre>| 1545         | 1.68724      | 21m 53s      |</pre>"
      ],
      "text/plain": [
       "| 1545         | 1.68724      | 21m 53s      |"
      ]
     },
     "metadata": {},
     "output_type": "display_data"
    },
    {
     "data": {
      "text/html": [
       "<pre>| 1550         | 1.57846      | 21m 57s      |</pre>"
      ],
      "text/plain": [
       "| 1550         | 1.57846      | 21m 57s      |"
      ]
     },
     "metadata": {},
     "output_type": "display_data"
    },
    {
     "data": {
      "text/html": [
       "<pre>| 1555         | 1.59088      | 22m 1s       |</pre>"
      ],
      "text/plain": [
       "| 1555         | 1.59088      | 22m 1s       |"
      ]
     },
     "metadata": {},
     "output_type": "display_data"
    },
    {
     "data": {
      "text/html": [
       "<pre>| 1560         | 1.5956       | 22m 5s       |</pre>"
      ],
      "text/plain": [
       "| 1560         | 1.5956       | 22m 5s       |"
      ]
     },
     "metadata": {},
     "output_type": "display_data"
    },
    {
     "data": {
      "text/html": [
       "<pre>| 1565         | 1.67399      | 22m 10s      |</pre>"
      ],
      "text/plain": [
       "| 1565         | 1.67399      | 22m 10s      |"
      ]
     },
     "metadata": {},
     "output_type": "display_data"
    },
    {
     "data": {
      "text/html": [
       "<pre>| 1570         | 1.70747      | 22m 14s      |</pre>"
      ],
      "text/plain": [
       "| 1570         | 1.70747      | 22m 14s      |"
      ]
     },
     "metadata": {},
     "output_type": "display_data"
    },
    {
     "data": {
      "text/html": [
       "<pre>| 1575         | 1.65386      | 22m 18s      |</pre>"
      ],
      "text/plain": [
       "| 1575         | 1.65386      | 22m 18s      |"
      ]
     },
     "metadata": {},
     "output_type": "display_data"
    },
    {
     "data": {
      "text/html": [
       "<pre>| 1580         | 1.60122      | 22m 22s      |</pre>"
      ],
      "text/plain": [
       "| 1580         | 1.60122      | 22m 22s      |"
      ]
     },
     "metadata": {},
     "output_type": "display_data"
    },
    {
     "data": {
      "text/html": [
       "<pre>| 1585         | 1.6988       | 22m 27s      |</pre>"
      ],
      "text/plain": [
       "| 1585         | 1.6988       | 22m 27s      |"
      ]
     },
     "metadata": {},
     "output_type": "display_data"
    },
    {
     "data": {
      "text/html": [
       "<pre>| 1590         | 1.69209      | 22m 31s      |</pre>"
      ],
      "text/plain": [
       "| 1590         | 1.69209      | 22m 31s      |"
      ]
     },
     "metadata": {},
     "output_type": "display_data"
    },
    {
     "data": {
      "text/html": [
       "<pre>| 1595         | 1.71361      | 22m 36s      |</pre>"
      ],
      "text/plain": [
       "| 1595         | 1.71361      | 22m 36s      |"
      ]
     },
     "metadata": {},
     "output_type": "display_data"
    },
    {
     "data": {
      "text/html": [
       "<pre>| 1600         | 1.64812      | 22m 41s      |</pre>"
      ],
      "text/plain": [
       "| 1600         | 1.64812      | 22m 41s      |"
      ]
     },
     "metadata": {},
     "output_type": "display_data"
    },
    {
     "data": {
      "text/html": [
       "<pre>| 1605         | 1.54884      | 22m 49s      |</pre>"
      ],
      "text/plain": [
       "| 1605         | 1.54884      | 22m 49s      |"
      ]
     },
     "metadata": {},
     "output_type": "display_data"
    },
    {
     "data": {
      "text/html": [
       "<pre>| 1610         | 1.56797      | 22m 55s      |</pre>"
      ],
      "text/plain": [
       "| 1610         | 1.56797      | 22m 55s      |"
      ]
     },
     "metadata": {},
     "output_type": "display_data"
    },
    {
     "data": {
      "text/html": [
       "<pre>| 1615         | 1.59643      | 23m 0s       |</pre>"
      ],
      "text/plain": [
       "| 1615         | 1.59643      | 23m 0s       |"
      ]
     },
     "metadata": {},
     "output_type": "display_data"
    },
    {
     "data": {
      "text/html": [
       "<pre>| 1620         | 1.60552      | 23m 5s       |</pre>"
      ],
      "text/plain": [
       "| 1620         | 1.60552      | 23m 5s       |"
      ]
     },
     "metadata": {},
     "output_type": "display_data"
    },
    {
     "data": {
      "text/html": [
       "<pre>| 1625         | 1.58284      | 23m 10s      |</pre>"
      ],
      "text/plain": [
       "| 1625         | 1.58284      | 23m 10s      |"
      ]
     },
     "metadata": {},
     "output_type": "display_data"
    },
    {
     "data": {
      "text/html": [
       "<pre>| 1630         | 1.5176       | 23m 14s      |</pre>"
      ],
      "text/plain": [
       "| 1630         | 1.5176       | 23m 14s      |"
      ]
     },
     "metadata": {},
     "output_type": "display_data"
    },
    {
     "data": {
      "text/html": [
       "<pre>| 1635         | 1.54556      | 23m 18s      |</pre>"
      ],
      "text/plain": [
       "| 1635         | 1.54556      | 23m 18s      |"
      ]
     },
     "metadata": {},
     "output_type": "display_data"
    },
    {
     "data": {
      "text/html": [
       "<pre>| 1640         | 1.58522      | 23m 22s      |</pre>"
      ],
      "text/plain": [
       "| 1640         | 1.58522      | 23m 22s      |"
      ]
     },
     "metadata": {},
     "output_type": "display_data"
    },
    {
     "data": {
      "text/html": [
       "<pre>| 1645         | 1.61828      | 23m 26s      |</pre>"
      ],
      "text/plain": [
       "| 1645         | 1.61828      | 23m 26s      |"
      ]
     },
     "metadata": {},
     "output_type": "display_data"
    },
    {
     "data": {
      "text/html": [
       "<pre>| 1650         | 1.69038      | 23m 30s      |</pre>"
      ],
      "text/plain": [
       "| 1650         | 1.69038      | 23m 30s      |"
      ]
     },
     "metadata": {},
     "output_type": "display_data"
    },
    {
     "data": {
      "text/html": [
       "<pre>| 1655         | 1.71105      | 23m 34s      |</pre>"
      ],
      "text/plain": [
       "| 1655         | 1.71105      | 23m 34s      |"
      ]
     },
     "metadata": {},
     "output_type": "display_data"
    },
    {
     "data": {
      "text/html": [
       "<pre>| 1660         | 1.67208      | 23m 38s      |</pre>"
      ],
      "text/plain": [
       "| 1660         | 1.67208      | 23m 38s      |"
      ]
     },
     "metadata": {},
     "output_type": "display_data"
    },
    {
     "data": {
      "text/html": [
       "<pre>| 1665         | 1.58635      | 23m 43s      |</pre>"
      ],
      "text/plain": [
       "| 1665         | 1.58635      | 23m 43s      |"
      ]
     },
     "metadata": {},
     "output_type": "display_data"
    },
    {
     "data": {
      "text/html": [
       "<pre>| 1670         | 1.64725      | 23m 47s      |</pre>"
      ],
      "text/plain": [
       "| 1670         | 1.64725      | 23m 47s      |"
      ]
     },
     "metadata": {},
     "output_type": "display_data"
    },
    {
     "data": {
      "text/html": [
       "<pre>| 1675         | 1.56767      | 23m 51s      |</pre>"
      ],
      "text/plain": [
       "| 1675         | 1.56767      | 23m 51s      |"
      ]
     },
     "metadata": {},
     "output_type": "display_data"
    },
    {
     "data": {
      "text/html": [
       "<pre>| 1680         | 1.64725      | 23m 55s      |</pre>"
      ],
      "text/plain": [
       "| 1680         | 1.64725      | 23m 55s      |"
      ]
     },
     "metadata": {},
     "output_type": "display_data"
    },
    {
     "data": {
      "text/html": [
       "<pre>| 1685         | 1.55333      | 24m 0s       |</pre>"
      ],
      "text/plain": [
       "| 1685         | 1.55333      | 24m 0s       |"
      ]
     },
     "metadata": {},
     "output_type": "display_data"
    },
    {
     "data": {
      "text/html": [
       "<pre>| 1690         | 1.62929      | 24m 4s       |</pre>"
      ],
      "text/plain": [
       "| 1690         | 1.62929      | 24m 4s       |"
      ]
     },
     "metadata": {},
     "output_type": "display_data"
    },
    {
     "data": {
      "text/html": [
       "<pre>| 1695         | 1.52682      | 24m 8s       |</pre>"
      ],
      "text/plain": [
       "| 1695         | 1.52682      | 24m 8s       |"
      ]
     },
     "metadata": {},
     "output_type": "display_data"
    },
    {
     "data": {
      "text/html": [
       "<pre>| 1700         | 1.46006      | 24m 12s      |</pre>"
      ],
      "text/plain": [
       "| 1700         | 1.46006      | 24m 12s      |"
      ]
     },
     "metadata": {},
     "output_type": "display_data"
    },
    {
     "data": {
      "text/html": [
       "<pre>| 1705         | 1.55226      | 24m 17s      |</pre>"
      ],
      "text/plain": [
       "| 1705         | 1.55226      | 24m 17s      |"
      ]
     },
     "metadata": {},
     "output_type": "display_data"
    },
    {
     "data": {
      "text/html": [
       "<pre>| 1710         | 1.5719       | 24m 21s      |</pre>"
      ],
      "text/plain": [
       "| 1710         | 1.5719       | 24m 21s      |"
      ]
     },
     "metadata": {},
     "output_type": "display_data"
    },
    {
     "data": {
      "text/html": [
       "<pre>| 1715         | 1.5248       | 24m 24s      |</pre>"
      ],
      "text/plain": [
       "| 1715         | 1.5248       | 24m 24s      |"
      ]
     },
     "metadata": {},
     "output_type": "display_data"
    },
    {
     "data": {
      "text/html": [
       "<pre>| 1720         | 1.58103      | 24m 28s      |</pre>"
      ],
      "text/plain": [
       "| 1720         | 1.58103      | 24m 28s      |"
      ]
     },
     "metadata": {},
     "output_type": "display_data"
    },
    {
     "data": {
      "text/html": [
       "<pre>| 1725         | 1.63505      | 24m 33s      |</pre>"
      ],
      "text/plain": [
       "| 1725         | 1.63505      | 24m 33s      |"
      ]
     },
     "metadata": {},
     "output_type": "display_data"
    },
    {
     "data": {
      "text/html": [
       "<pre>| 1730         | 1.5692       | 24m 37s      |</pre>"
      ],
      "text/plain": [
       "| 1730         | 1.5692       | 24m 37s      |"
      ]
     },
     "metadata": {},
     "output_type": "display_data"
    },
    {
     "data": {
      "text/html": [
       "<pre>| 1735         | 1.62707      | 24m 41s      |</pre>"
      ],
      "text/plain": [
       "| 1735         | 1.62707      | 24m 41s      |"
      ]
     },
     "metadata": {},
     "output_type": "display_data"
    },
    {
     "data": {
      "text/html": [
       "<pre>| 1740         | 1.65315      | 24m 45s      |</pre>"
      ],
      "text/plain": [
       "| 1740         | 1.65315      | 24m 45s      |"
      ]
     },
     "metadata": {},
     "output_type": "display_data"
    },
    {
     "data": {
      "text/html": [
       "<pre>| 1745         | 1.53253      | 24m 49s      |</pre>"
      ],
      "text/plain": [
       "| 1745         | 1.53253      | 24m 49s      |"
      ]
     },
     "metadata": {},
     "output_type": "display_data"
    },
    {
     "data": {
      "text/html": [
       "<pre>| 1750         | 1.56958      | 24m 53s      |</pre>"
      ],
      "text/plain": [
       "| 1750         | 1.56958      | 24m 53s      |"
      ]
     },
     "metadata": {},
     "output_type": "display_data"
    },
    {
     "data": {
      "text/html": [
       "<pre>| 1755         | 1.57506      | 24m 57s      |</pre>"
      ],
      "text/plain": [
       "| 1755         | 1.57506      | 24m 57s      |"
      ]
     },
     "metadata": {},
     "output_type": "display_data"
    },
    {
     "data": {
      "text/html": [
       "<pre>| 1760         | 1.55914      | 25m 1s       |</pre>"
      ],
      "text/plain": [
       "| 1760         | 1.55914      | 25m 1s       |"
      ]
     },
     "metadata": {},
     "output_type": "display_data"
    },
    {
     "data": {
      "text/html": [
       "<pre>| 1765         | 1.56312      | 25m 6s       |</pre>"
      ],
      "text/plain": [
       "| 1765         | 1.56312      | 25m 6s       |"
      ]
     },
     "metadata": {},
     "output_type": "display_data"
    },
    {
     "data": {
      "text/html": [
       "<pre>| 1770         | 1.61507      | 25m 10s      |</pre>"
      ],
      "text/plain": [
       "| 1770         | 1.61507      | 25m 10s      |"
      ]
     },
     "metadata": {},
     "output_type": "display_data"
    },
    {
     "data": {
      "text/html": [
       "<pre>| 1775         | 1.60466      | 25m 14s      |</pre>"
      ],
      "text/plain": [
       "| 1775         | 1.60466      | 25m 14s      |"
      ]
     },
     "metadata": {},
     "output_type": "display_data"
    },
    {
     "data": {
      "text/html": [
       "<pre>| 1780         | 1.61462      | 25m 18s      |</pre>"
      ],
      "text/plain": [
       "| 1780         | 1.61462      | 25m 18s      |"
      ]
     },
     "metadata": {},
     "output_type": "display_data"
    },
    {
     "data": {
      "text/html": [
       "<pre>| 1785         | 1.61088      | 25m 22s      |</pre>"
      ],
      "text/plain": [
       "| 1785         | 1.61088      | 25m 22s      |"
      ]
     },
     "metadata": {},
     "output_type": "display_data"
    },
    {
     "data": {
      "text/html": [
       "<pre>| 1790         | 1.61934      | 25m 26s      |</pre>"
      ],
      "text/plain": [
       "| 1790         | 1.61934      | 25m 26s      |"
      ]
     },
     "metadata": {},
     "output_type": "display_data"
    },
    {
     "data": {
      "text/html": [
       "<pre>| 1795         | 1.60529      | 25m 30s      |</pre>"
      ],
      "text/plain": [
       "| 1795         | 1.60529      | 25m 30s      |"
      ]
     },
     "metadata": {},
     "output_type": "display_data"
    },
    {
     "data": {
      "text/html": [
       "<pre>| 1800         | 1.56474      | 25m 34s      |</pre>"
      ],
      "text/plain": [
       "| 1800         | 1.56474      | 25m 34s      |"
      ]
     },
     "metadata": {},
     "output_type": "display_data"
    },
    {
     "data": {
      "text/html": [
       "<pre>| 1805         | 1.54023      | 25m 39s      |</pre>"
      ],
      "text/plain": [
       "| 1805         | 1.54023      | 25m 39s      |"
      ]
     },
     "metadata": {},
     "output_type": "display_data"
    },
    {
     "data": {
      "text/html": [
       "<pre>| 1810         | 1.59058      | 25m 42s      |</pre>"
      ],
      "text/plain": [
       "| 1810         | 1.59058      | 25m 42s      |"
      ]
     },
     "metadata": {},
     "output_type": "display_data"
    },
    {
     "data": {
      "text/html": [
       "<pre>| 1815         | 1.62969      | 25m 46s      |</pre>"
      ],
      "text/plain": [
       "| 1815         | 1.62969      | 25m 46s      |"
      ]
     },
     "metadata": {},
     "output_type": "display_data"
    },
    {
     "data": {
      "text/html": [
       "<pre>| 1820         | 1.63429      | 25m 50s      |</pre>"
      ],
      "text/plain": [
       "| 1820         | 1.63429      | 25m 50s      |"
      ]
     },
     "metadata": {},
     "output_type": "display_data"
    },
    {
     "data": {
      "text/html": [
       "<pre>| 1825         | 1.62351      | 25m 55s      |</pre>"
      ],
      "text/plain": [
       "| 1825         | 1.62351      | 25m 55s      |"
      ]
     },
     "metadata": {},
     "output_type": "display_data"
    },
    {
     "data": {
      "text/html": [
       "<pre>| 1830         | 1.61757      | 25m 59s      |</pre>"
      ],
      "text/plain": [
       "| 1830         | 1.61757      | 25m 59s      |"
      ]
     },
     "metadata": {},
     "output_type": "display_data"
    },
    {
     "data": {
      "text/html": [
       "<pre>| 1835         | 1.59521      | 26m 3s       |</pre>"
      ],
      "text/plain": [
       "| 1835         | 1.59521      | 26m 3s       |"
      ]
     },
     "metadata": {},
     "output_type": "display_data"
    },
    {
     "data": {
      "text/html": [
       "<pre>| 1840         | 1.64207      | 26m 7s       |</pre>"
      ],
      "text/plain": [
       "| 1840         | 1.64207      | 26m 7s       |"
      ]
     },
     "metadata": {},
     "output_type": "display_data"
    },
    {
     "data": {
      "text/html": [
       "<pre>| 1845         | 1.5792       | 26m 11s      |</pre>"
      ],
      "text/plain": [
       "| 1845         | 1.5792       | 26m 11s      |"
      ]
     },
     "metadata": {},
     "output_type": "display_data"
    },
    {
     "data": {
      "text/html": [
       "<pre>| 1850         | 1.56563      | 26m 15s      |</pre>"
      ],
      "text/plain": [
       "| 1850         | 1.56563      | 26m 15s      |"
      ]
     },
     "metadata": {},
     "output_type": "display_data"
    },
    {
     "data": {
      "text/html": [
       "<pre>| 1855         | 1.56366      | 26m 19s      |</pre>"
      ],
      "text/plain": [
       "| 1855         | 1.56366      | 26m 19s      |"
      ]
     },
     "metadata": {},
     "output_type": "display_data"
    },
    {
     "data": {
      "text/html": [
       "<pre>| 1860         | 1.5228       | 26m 23s      |</pre>"
      ],
      "text/plain": [
       "| 1860         | 1.5228       | 26m 23s      |"
      ]
     },
     "metadata": {},
     "output_type": "display_data"
    },
    {
     "data": {
      "text/html": [
       "<pre>| 1865         | 1.61178      | 26m 28s      |</pre>"
      ],
      "text/plain": [
       "| 1865         | 1.61178      | 26m 28s      |"
      ]
     },
     "metadata": {},
     "output_type": "display_data"
    },
    {
     "data": {
      "text/html": [
       "<pre>| 1870         | 1.57463      | 26m 32s      |</pre>"
      ],
      "text/plain": [
       "| 1870         | 1.57463      | 26m 32s      |"
      ]
     },
     "metadata": {},
     "output_type": "display_data"
    },
    {
     "data": {
      "text/html": [
       "<pre>| 1875         | 1.62375      | 26m 36s      |</pre>"
      ],
      "text/plain": [
       "| 1875         | 1.62375      | 26m 36s      |"
      ]
     },
     "metadata": {},
     "output_type": "display_data"
    },
    {
     "data": {
      "text/html": [
       "<pre>| 1880         | 1.61916      | 26m 40s      |</pre>"
      ],
      "text/plain": [
       "| 1880         | 1.61916      | 26m 40s      |"
      ]
     },
     "metadata": {},
     "output_type": "display_data"
    },
    {
     "data": {
      "text/html": [
       "<pre>| 1885         | 1.5183       | 26m 44s      |</pre>"
      ],
      "text/plain": [
       "| 1885         | 1.5183       | 26m 44s      |"
      ]
     },
     "metadata": {},
     "output_type": "display_data"
    },
    {
     "data": {
      "text/html": [
       "<pre>| 1890         | 1.50048      | 26m 48s      |</pre>"
      ],
      "text/plain": [
       "| 1890         | 1.50048      | 26m 48s      |"
      ]
     },
     "metadata": {},
     "output_type": "display_data"
    },
    {
     "data": {
      "text/html": [
       "<pre>| 1895         | 1.53581      | 26m 52s      |</pre>"
      ],
      "text/plain": [
       "| 1895         | 1.53581      | 26m 52s      |"
      ]
     },
     "metadata": {},
     "output_type": "display_data"
    },
    {
     "data": {
      "text/html": [
       "<pre>| 1900         | 1.6173       | 26m 56s      |</pre>"
      ],
      "text/plain": [
       "| 1900         | 1.6173       | 26m 56s      |"
      ]
     },
     "metadata": {},
     "output_type": "display_data"
    },
    {
     "data": {
      "text/html": [
       "<pre>| 1905         | 1.62707      | 27m 1s       |</pre>"
      ],
      "text/plain": [
       "| 1905         | 1.62707      | 27m 1s       |"
      ]
     },
     "metadata": {},
     "output_type": "display_data"
    },
    {
     "data": {
      "text/html": [
       "<pre>| 1910         | 1.65299      | 27m 5s       |</pre>"
      ],
      "text/plain": [
       "| 1910         | 1.65299      | 27m 5s       |"
      ]
     },
     "metadata": {},
     "output_type": "display_data"
    },
    {
     "data": {
      "text/html": [
       "<pre>| 1915         | 1.53305      | 27m 9s       |</pre>"
      ],
      "text/plain": [
       "| 1915         | 1.53305      | 27m 9s       |"
      ]
     },
     "metadata": {},
     "output_type": "display_data"
    },
    {
     "data": {
      "text/html": [
       "<pre>| 1920         | 1.62426      | 27m 13s      |</pre>"
      ],
      "text/plain": [
       "| 1920         | 1.62426      | 27m 13s      |"
      ]
     },
     "metadata": {},
     "output_type": "display_data"
    },
    {
     "data": {
      "text/html": [
       "<pre>| 1925         | 1.61375      | 27m 17s      |</pre>"
      ],
      "text/plain": [
       "| 1925         | 1.61375      | 27m 17s      |"
      ]
     },
     "metadata": {},
     "output_type": "display_data"
    },
    {
     "data": {
      "text/html": [
       "<pre>| 1930         | 1.57308      | 27m 21s      |</pre>"
      ],
      "text/plain": [
       "| 1930         | 1.57308      | 27m 21s      |"
      ]
     },
     "metadata": {},
     "output_type": "display_data"
    },
    {
     "data": {
      "text/html": [
       "<pre>| 1935         | 1.50666      | 27m 25s      |</pre>"
      ],
      "text/plain": [
       "| 1935         | 1.50666      | 27m 25s      |"
      ]
     },
     "metadata": {},
     "output_type": "display_data"
    },
    {
     "data": {
      "text/html": [
       "<pre>| 1940         | 1.54183      | 27m 29s      |</pre>"
      ],
      "text/plain": [
       "| 1940         | 1.54183      | 27m 29s      |"
      ]
     },
     "metadata": {},
     "output_type": "display_data"
    },
    {
     "data": {
      "text/html": [
       "<pre>| 1945         | 1.57611      | 27m 33s      |</pre>"
      ],
      "text/plain": [
       "| 1945         | 1.57611      | 27m 33s      |"
      ]
     },
     "metadata": {},
     "output_type": "display_data"
    },
    {
     "data": {
      "text/html": [
       "<pre>| 1950         | 1.60035      | 27m 37s      |</pre>"
      ],
      "text/plain": [
       "| 1950         | 1.60035      | 27m 37s      |"
      ]
     },
     "metadata": {},
     "output_type": "display_data"
    },
    {
     "data": {
      "text/html": [
       "<pre>| 1955         | 1.53707      | 27m 41s      |</pre>"
      ],
      "text/plain": [
       "| 1955         | 1.53707      | 27m 41s      |"
      ]
     },
     "metadata": {},
     "output_type": "display_data"
    },
    {
     "data": {
      "text/html": [
       "<pre>| 1960         | 1.54496      | 27m 45s      |</pre>"
      ],
      "text/plain": [
       "| 1960         | 1.54496      | 27m 45s      |"
      ]
     },
     "metadata": {},
     "output_type": "display_data"
    },
    {
     "data": {
      "text/html": [
       "<pre>| 1965         | 1.62875      | 27m 49s      |</pre>"
      ],
      "text/plain": [
       "| 1965         | 1.62875      | 27m 49s      |"
      ]
     },
     "metadata": {},
     "output_type": "display_data"
    },
    {
     "data": {
      "text/html": [
       "<pre>| 1970         | 1.56304      | 27m 54s      |</pre>"
      ],
      "text/plain": [
       "| 1970         | 1.56304      | 27m 54s      |"
      ]
     },
     "metadata": {},
     "output_type": "display_data"
    },
    {
     "data": {
      "text/html": [
       "<pre>| 1975         | 1.58531      | 27m 58s      |</pre>"
      ],
      "text/plain": [
       "| 1975         | 1.58531      | 27m 58s      |"
      ]
     },
     "metadata": {},
     "output_type": "display_data"
    },
    {
     "data": {
      "text/html": [
       "<pre>| 1980         | 1.46464      | 28m 2s       |</pre>"
      ],
      "text/plain": [
       "| 1980         | 1.46464      | 28m 2s       |"
      ]
     },
     "metadata": {},
     "output_type": "display_data"
    },
    {
     "data": {
      "text/html": [
       "<pre>| 1985         | 1.47691      | 28m 6s       |</pre>"
      ],
      "text/plain": [
       "| 1985         | 1.47691      | 28m 6s       |"
      ]
     },
     "metadata": {},
     "output_type": "display_data"
    },
    {
     "data": {
      "text/html": [
       "<pre>| 1990         | 1.52267      | 28m 10s      |</pre>"
      ],
      "text/plain": [
       "| 1990         | 1.52267      | 28m 10s      |"
      ]
     },
     "metadata": {},
     "output_type": "display_data"
    },
    {
     "data": {
      "text/html": [
       "<pre>| 1995         | 1.47181      | 28m 14s      |</pre>"
      ],
      "text/plain": [
       "| 1995         | 1.47181      | 28m 14s      |"
      ]
     },
     "metadata": {},
     "output_type": "display_data"
    },
    {
     "data": {
      "text/html": [
       "<pre>| 2000         | 1.56526      | 28m 18s      |</pre>"
      ],
      "text/plain": [
       "| 2000         | 1.56526      | 28m 18s      |"
      ]
     },
     "metadata": {},
     "output_type": "display_data"
    },
    {
     "data": {
      "text/html": [
       "<pre>| 2005         | 1.57504      | 28m 22s      |</pre>"
      ],
      "text/plain": [
       "| 2005         | 1.57504      | 28m 22s      |"
      ]
     },
     "metadata": {},
     "output_type": "display_data"
    },
    {
     "data": {
      "text/html": [
       "<pre>| 2010         | 1.6113       | 28m 27s      |</pre>"
      ],
      "text/plain": [
       "| 2010         | 1.6113       | 28m 27s      |"
      ]
     },
     "metadata": {},
     "output_type": "display_data"
    },
    {
     "data": {
      "text/html": [
       "<pre>| 2015         | 1.54513      | 28m 31s      |</pre>"
      ],
      "text/plain": [
       "| 2015         | 1.54513      | 28m 31s      |"
      ]
     },
     "metadata": {},
     "output_type": "display_data"
    },
    {
     "data": {
      "text/html": [
       "<pre>| 2020         | 1.62793      | 28m 35s      |</pre>"
      ],
      "text/plain": [
       "| 2020         | 1.62793      | 28m 35s      |"
      ]
     },
     "metadata": {},
     "output_type": "display_data"
    },
    {
     "data": {
      "text/html": [
       "<pre>| 2025         | 1.59569      | 28m 39s      |</pre>"
      ],
      "text/plain": [
       "| 2025         | 1.59569      | 28m 39s      |"
      ]
     },
     "metadata": {},
     "output_type": "display_data"
    },
    {
     "data": {
      "text/html": [
       "<pre>| 2030         | 1.51208      | 28m 44s      |</pre>"
      ],
      "text/plain": [
       "| 2030         | 1.51208      | 28m 44s      |"
      ]
     },
     "metadata": {},
     "output_type": "display_data"
    },
    {
     "data": {
      "text/html": [
       "<pre>| 2035         | 1.56099      | 28m 48s      |</pre>"
      ],
      "text/plain": [
       "| 2035         | 1.56099      | 28m 48s      |"
      ]
     },
     "metadata": {},
     "output_type": "display_data"
    },
    {
     "data": {
      "text/html": [
       "<pre>| 2040         | 1.55279      | 28m 52s      |</pre>"
      ],
      "text/plain": [
       "| 2040         | 1.55279      | 28m 52s      |"
      ]
     },
     "metadata": {},
     "output_type": "display_data"
    },
    {
     "data": {
      "text/html": [
       "<pre>| 2045         | 1.61114      | 28m 56s      |</pre>"
      ],
      "text/plain": [
       "| 2045         | 1.61114      | 28m 56s      |"
      ]
     },
     "metadata": {},
     "output_type": "display_data"
    },
    {
     "data": {
      "text/html": [
       "<pre>| 2050         | 1.58282      | 29m 1s       |</pre>"
      ],
      "text/plain": [
       "| 2050         | 1.58282      | 29m 1s       |"
      ]
     },
     "metadata": {},
     "output_type": "display_data"
    },
    {
     "data": {
      "text/html": [
       "<pre>| 2055         | 1.56971      | 29m 5s       |</pre>"
      ],
      "text/plain": [
       "| 2055         | 1.56971      | 29m 5s       |"
      ]
     },
     "metadata": {},
     "output_type": "display_data"
    },
    {
     "data": {
      "text/html": [
       "<pre>| 2060         | 1.53479      | 29m 10s      |</pre>"
      ],
      "text/plain": [
       "| 2060         | 1.53479      | 29m 10s      |"
      ]
     },
     "metadata": {},
     "output_type": "display_data"
    },
    {
     "data": {
      "text/html": [
       "<pre>| 2065         | 1.499        | 29m 14s      |</pre>"
      ],
      "text/plain": [
       "| 2065         | 1.499        | 29m 14s      |"
      ]
     },
     "metadata": {},
     "output_type": "display_data"
    },
    {
     "data": {
      "text/html": [
       "<pre>| 2070         | 1.53498      | 29m 18s      |</pre>"
      ],
      "text/plain": [
       "| 2070         | 1.53498      | 29m 18s      |"
      ]
     },
     "metadata": {},
     "output_type": "display_data"
    },
    {
     "data": {
      "text/html": [
       "<pre>| 2075         | 1.54399      | 29m 22s      |</pre>"
      ],
      "text/plain": [
       "| 2075         | 1.54399      | 29m 22s      |"
      ]
     },
     "metadata": {},
     "output_type": "display_data"
    },
    {
     "data": {
      "text/html": [
       "<pre>| 2080         | 1.4708       | 29m 26s      |</pre>"
      ],
      "text/plain": [
       "| 2080         | 1.4708       | 29m 26s      |"
      ]
     },
     "metadata": {},
     "output_type": "display_data"
    },
    {
     "data": {
      "text/html": [
       "<pre>| 2085         | 1.57491      | 29m 30s      |</pre>"
      ],
      "text/plain": [
       "| 2085         | 1.57491      | 29m 30s      |"
      ]
     },
     "metadata": {},
     "output_type": "display_data"
    },
    {
     "data": {
      "text/html": [
       "<pre>| 2090         | 1.60836      | 29m 35s      |</pre>"
      ],
      "text/plain": [
       "| 2090         | 1.60836      | 29m 35s      |"
      ]
     },
     "metadata": {},
     "output_type": "display_data"
    },
    {
     "data": {
      "text/html": [
       "<pre>| 2095         | 1.68198      | 29m 39s      |</pre>"
      ],
      "text/plain": [
       "| 2095         | 1.68198      | 29m 39s      |"
      ]
     },
     "metadata": {},
     "output_type": "display_data"
    },
    {
     "data": {
      "text/html": [
       "<pre>| 2100         | 1.64579      | 29m 43s      |</pre>"
      ],
      "text/plain": [
       "| 2100         | 1.64579      | 29m 43s      |"
      ]
     },
     "metadata": {},
     "output_type": "display_data"
    },
    {
     "data": {
      "text/html": [
       "<pre>| 2105         | 1.55149      | 29m 47s      |</pre>"
      ],
      "text/plain": [
       "| 2105         | 1.55149      | 29m 47s      |"
      ]
     },
     "metadata": {},
     "output_type": "display_data"
    },
    {
     "data": {
      "text/html": [
       "<pre>| 2110         | 1.48872      | 29m 51s      |</pre>"
      ],
      "text/plain": [
       "| 2110         | 1.48872      | 29m 51s      |"
      ]
     },
     "metadata": {},
     "output_type": "display_data"
    },
    {
     "data": {
      "text/html": [
       "<pre>| 2115         | 1.50525      | 29m 55s      |</pre>"
      ],
      "text/plain": [
       "| 2115         | 1.50525      | 29m 55s      |"
      ]
     },
     "metadata": {},
     "output_type": "display_data"
    },
    {
     "data": {
      "text/html": [
       "<pre>| 2120         | 1.56599      | 29m 59s      |</pre>"
      ],
      "text/plain": [
       "| 2120         | 1.56599      | 29m 59s      |"
      ]
     },
     "metadata": {},
     "output_type": "display_data"
    },
    {
     "data": {
      "text/html": [
       "<pre>| 2125         | 1.54302      | 30m 3s       |</pre>"
      ],
      "text/plain": [
       "| 2125         | 1.54302      | 30m 3s       |"
      ]
     },
     "metadata": {},
     "output_type": "display_data"
    },
    {
     "data": {
      "text/html": [
       "<pre>| 2130         | 1.55153      | 30m 8s       |</pre>"
      ],
      "text/plain": [
       "| 2130         | 1.55153      | 30m 8s       |"
      ]
     },
     "metadata": {},
     "output_type": "display_data"
    },
    {
     "data": {
      "text/html": [
       "<pre>| 2135         | 1.53847      | 30m 12s      |</pre>"
      ],
      "text/plain": [
       "| 2135         | 1.53847      | 30m 12s      |"
      ]
     },
     "metadata": {},
     "output_type": "display_data"
    },
    {
     "data": {
      "text/html": [
       "<pre>| 2140         | 1.48979      | 30m 15s      |</pre>"
      ],
      "text/plain": [
       "| 2140         | 1.48979      | 30m 15s      |"
      ]
     },
     "metadata": {},
     "output_type": "display_data"
    },
    {
     "data": {
      "text/html": [
       "<pre>| 2145         | 1.51334      | 30m 19s      |</pre>"
      ],
      "text/plain": [
       "| 2145         | 1.51334      | 30m 19s      |"
      ]
     },
     "metadata": {},
     "output_type": "display_data"
    },
    {
     "data": {
      "text/html": [
       "<pre>| 2150         | 1.48339      | 30m 24s      |</pre>"
      ],
      "text/plain": [
       "| 2150         | 1.48339      | 30m 24s      |"
      ]
     },
     "metadata": {},
     "output_type": "display_data"
    },
    {
     "data": {
      "text/html": [
       "<pre>| 2155         | 1.49021      | 30m 28s      |</pre>"
      ],
      "text/plain": [
       "| 2155         | 1.49021      | 30m 28s      |"
      ]
     },
     "metadata": {},
     "output_type": "display_data"
    },
    {
     "data": {
      "text/html": [
       "<pre>| 2160         | 1.46561      | 30m 32s      |</pre>"
      ],
      "text/plain": [
       "| 2160         | 1.46561      | 30m 32s      |"
      ]
     },
     "metadata": {},
     "output_type": "display_data"
    },
    {
     "data": {
      "text/html": [
       "<pre>| 2165         | 1.51625      | 30m 36s      |</pre>"
      ],
      "text/plain": [
       "| 2165         | 1.51625      | 30m 36s      |"
      ]
     },
     "metadata": {},
     "output_type": "display_data"
    },
    {
     "data": {
      "text/html": [
       "<pre>| 2170         | 1.4753       | 30m 40s      |</pre>"
      ],
      "text/plain": [
       "| 2170         | 1.4753       | 30m 40s      |"
      ]
     },
     "metadata": {},
     "output_type": "display_data"
    },
    {
     "data": {
      "text/html": [
       "<pre>| 2175         | 1.54125      | 30m 44s      |</pre>"
      ],
      "text/plain": [
       "| 2175         | 1.54125      | 30m 44s      |"
      ]
     },
     "metadata": {},
     "output_type": "display_data"
    },
    {
     "data": {
      "text/html": [
       "<pre>| 2180         | 1.4724       | 30m 48s      |</pre>"
      ],
      "text/plain": [
       "| 2180         | 1.4724       | 30m 48s      |"
      ]
     },
     "metadata": {},
     "output_type": "display_data"
    },
    {
     "data": {
      "text/html": [
       "<pre>| 2185         | 1.45536      | 30m 52s      |</pre>"
      ],
      "text/plain": [
       "| 2185         | 1.45536      | 30m 52s      |"
      ]
     },
     "metadata": {},
     "output_type": "display_data"
    },
    {
     "data": {
      "text/html": [
       "<pre>| 2190         | 1.47936      | 30m 57s      |</pre>"
      ],
      "text/plain": [
       "| 2190         | 1.47936      | 30m 57s      |"
      ]
     },
     "metadata": {},
     "output_type": "display_data"
    },
    {
     "data": {
      "text/html": [
       "<pre>| 2195         | 1.41719      | 31m 1s       |</pre>"
      ],
      "text/plain": [
       "| 2195         | 1.41719      | 31m 1s       |"
      ]
     },
     "metadata": {},
     "output_type": "display_data"
    },
    {
     "data": {
      "text/html": [
       "<pre>| 2200         | 1.48406      | 31m 5s       |</pre>"
      ],
      "text/plain": [
       "| 2200         | 1.48406      | 31m 5s       |"
      ]
     },
     "metadata": {},
     "output_type": "display_data"
    },
    {
     "data": {
      "text/html": [
       "<pre>| 2205         | 1.51071      | 31m 9s       |</pre>"
      ],
      "text/plain": [
       "| 2205         | 1.51071      | 31m 9s       |"
      ]
     },
     "metadata": {},
     "output_type": "display_data"
    },
    {
     "data": {
      "text/html": [
       "<pre>| 2210         | 1.46083      | 31m 13s      |</pre>"
      ],
      "text/plain": [
       "| 2210         | 1.46083      | 31m 13s      |"
      ]
     },
     "metadata": {},
     "output_type": "display_data"
    },
    {
     "data": {
      "text/html": [
       "<pre>| 2215         | 1.45492      | 31m 17s      |</pre>"
      ],
      "text/plain": [
       "| 2215         | 1.45492      | 31m 17s      |"
      ]
     },
     "metadata": {},
     "output_type": "display_data"
    },
    {
     "data": {
      "text/html": [
       "<pre>| 2220         | 1.44962      | 31m 21s      |</pre>"
      ],
      "text/plain": [
       "| 2220         | 1.44962      | 31m 21s      |"
      ]
     },
     "metadata": {},
     "output_type": "display_data"
    },
    {
     "data": {
      "text/html": [
       "<pre>| 2225         | 1.37533      | 31m 25s      |</pre>"
      ],
      "text/plain": [
       "| 2225         | 1.37533      | 31m 25s      |"
      ]
     },
     "metadata": {},
     "output_type": "display_data"
    },
    {
     "data": {
      "text/html": [
       "<pre>| 2230         | 1.4138       | 31m 29s      |</pre>"
      ],
      "text/plain": [
       "| 2230         | 1.4138       | 31m 29s      |"
      ]
     },
     "metadata": {},
     "output_type": "display_data"
    },
    {
     "data": {
      "text/html": [
       "<pre>| 2235         | 1.48053      | 31m 33s      |</pre>"
      ],
      "text/plain": [
       "| 2235         | 1.48053      | 31m 33s      |"
      ]
     },
     "metadata": {},
     "output_type": "display_data"
    },
    {
     "data": {
      "text/html": [
       "<pre>| 2240         | 1.41789      | 31m 37s      |</pre>"
      ],
      "text/plain": [
       "| 2240         | 1.41789      | 31m 37s      |"
      ]
     },
     "metadata": {},
     "output_type": "display_data"
    },
    {
     "data": {
      "text/html": [
       "<pre>| 2245         | 1.49649      | 31m 41s      |</pre>"
      ],
      "text/plain": [
       "| 2245         | 1.49649      | 31m 41s      |"
      ]
     },
     "metadata": {},
     "output_type": "display_data"
    },
    {
     "data": {
      "text/html": [
       "<pre>| 2250         | 1.44418      | 31m 46s      |</pre>"
      ],
      "text/plain": [
       "| 2250         | 1.44418      | 31m 46s      |"
      ]
     },
     "metadata": {},
     "output_type": "display_data"
    },
    {
     "data": {
      "text/html": [
       "<pre>| 2255         | 1.52286      | 31m 50s      |</pre>"
      ],
      "text/plain": [
       "| 2255         | 1.52286      | 31m 50s      |"
      ]
     },
     "metadata": {},
     "output_type": "display_data"
    },
    {
     "data": {
      "text/html": [
       "<pre>| 2260         | 1.48443      | 31m 54s      |</pre>"
      ],
      "text/plain": [
       "| 2260         | 1.48443      | 31m 54s      |"
      ]
     },
     "metadata": {},
     "output_type": "display_data"
    },
    {
     "data": {
      "text/html": [
       "<pre>| 2265         | 1.49009      | 31m 58s      |</pre>"
      ],
      "text/plain": [
       "| 2265         | 1.49009      | 31m 58s      |"
      ]
     },
     "metadata": {},
     "output_type": "display_data"
    },
    {
     "data": {
      "text/html": [
       "<pre>| 2270         | 1.47226      | 32m 2s       |</pre>"
      ],
      "text/plain": [
       "| 2270         | 1.47226      | 32m 2s       |"
      ]
     },
     "metadata": {},
     "output_type": "display_data"
    },
    {
     "data": {
      "text/html": [
       "<pre>| 2275         | 1.54088      | 32m 6s       |</pre>"
      ],
      "text/plain": [
       "| 2275         | 1.54088      | 32m 6s       |"
      ]
     },
     "metadata": {},
     "output_type": "display_data"
    },
    {
     "data": {
      "text/html": [
       "<pre>| 2280         | 1.50188      | 32m 10s      |</pre>"
      ],
      "text/plain": [
       "| 2280         | 1.50188      | 32m 10s      |"
      ]
     },
     "metadata": {},
     "output_type": "display_data"
    },
    {
     "data": {
      "text/html": [
       "<pre>| 2285         | 1.5452       | 32m 14s      |</pre>"
      ],
      "text/plain": [
       "| 2285         | 1.5452       | 32m 14s      |"
      ]
     },
     "metadata": {},
     "output_type": "display_data"
    },
    {
     "data": {
      "text/html": [
       "<pre>| 2290         | 1.55334      | 32m 19s      |</pre>"
      ],
      "text/plain": [
       "| 2290         | 1.55334      | 32m 19s      |"
      ]
     },
     "metadata": {},
     "output_type": "display_data"
    },
    {
     "data": {
      "text/html": [
       "<pre>| 2295         | 1.52722      | 32m 23s      |</pre>"
      ],
      "text/plain": [
       "| 2295         | 1.52722      | 32m 23s      |"
      ]
     },
     "metadata": {},
     "output_type": "display_data"
    },
    {
     "data": {
      "text/html": [
       "<pre>| 2300         | 1.52038      | 32m 27s      |</pre>"
      ],
      "text/plain": [
       "| 2300         | 1.52038      | 32m 27s      |"
      ]
     },
     "metadata": {},
     "output_type": "display_data"
    },
    {
     "data": {
      "text/html": [
       "<pre>| 2305         | 1.55376      | 32m 31s      |</pre>"
      ],
      "text/plain": [
       "| 2305         | 1.55376      | 32m 31s      |"
      ]
     },
     "metadata": {},
     "output_type": "display_data"
    },
    {
     "data": {
      "text/html": [
       "<pre>| 2310         | 1.53692      | 32m 36s      |</pre>"
      ],
      "text/plain": [
       "| 2310         | 1.53692      | 32m 36s      |"
      ]
     },
     "metadata": {},
     "output_type": "display_data"
    },
    {
     "data": {
      "text/html": [
       "<pre>| 2315         | 1.41285      | 32m 40s      |</pre>"
      ],
      "text/plain": [
       "| 2315         | 1.41285      | 32m 40s      |"
      ]
     },
     "metadata": {},
     "output_type": "display_data"
    },
    {
     "data": {
      "text/html": [
       "<pre>| 2320         | 1.48666      | 32m 44s      |</pre>"
      ],
      "text/plain": [
       "| 2320         | 1.48666      | 32m 44s      |"
      ]
     },
     "metadata": {},
     "output_type": "display_data"
    },
    {
     "data": {
      "text/html": [
       "<pre>| 2325         | 1.48979      | 32m 48s      |</pre>"
      ],
      "text/plain": [
       "| 2325         | 1.48979      | 32m 48s      |"
      ]
     },
     "metadata": {},
     "output_type": "display_data"
    },
    {
     "data": {
      "text/html": [
       "<pre>| 2330         | 1.46158      | 32m 52s      |</pre>"
      ],
      "text/plain": [
       "| 2330         | 1.46158      | 32m 52s      |"
      ]
     },
     "metadata": {},
     "output_type": "display_data"
    },
    {
     "data": {
      "text/html": [
       "<pre>| 2335         | 1.45396      | 32m 56s      |</pre>"
      ],
      "text/plain": [
       "| 2335         | 1.45396      | 32m 56s      |"
      ]
     },
     "metadata": {},
     "output_type": "display_data"
    },
    {
     "data": {
      "text/html": [
       "<pre>| 2340         | 1.4212       | 33m 0s       |</pre>"
      ],
      "text/plain": [
       "| 2340         | 1.4212       | 33m 0s       |"
      ]
     },
     "metadata": {},
     "output_type": "display_data"
    },
    {
     "data": {
      "text/html": [
       "<pre>| 2345         | 1.44085      | 33m 4s       |</pre>"
      ],
      "text/plain": [
       "| 2345         | 1.44085      | 33m 4s       |"
      ]
     },
     "metadata": {},
     "output_type": "display_data"
    },
    {
     "data": {
      "text/html": [
       "<pre>| 2350         | 1.49943      | 33m 9s       |</pre>"
      ],
      "text/plain": [
       "| 2350         | 1.49943      | 33m 9s       |"
      ]
     },
     "metadata": {},
     "output_type": "display_data"
    },
    {
     "data": {
      "text/html": [
       "<pre>| 2355         | 1.47772      | 33m 13s      |</pre>"
      ],
      "text/plain": [
       "| 2355         | 1.47772      | 33m 13s      |"
      ]
     },
     "metadata": {},
     "output_type": "display_data"
    },
    {
     "data": {
      "text/html": [
       "<pre>| 2360         | 1.53783      | 33m 17s      |</pre>"
      ],
      "text/plain": [
       "| 2360         | 1.53783      | 33m 17s      |"
      ]
     },
     "metadata": {},
     "output_type": "display_data"
    },
    {
     "data": {
      "text/html": [
       "<pre>| 2365         | 1.49399      | 33m 21s      |</pre>"
      ],
      "text/plain": [
       "| 2365         | 1.49399      | 33m 21s      |"
      ]
     },
     "metadata": {},
     "output_type": "display_data"
    },
    {
     "data": {
      "text/html": [
       "<pre>| 2370         | 1.4631       | 33m 26s      |</pre>"
      ],
      "text/plain": [
       "| 2370         | 1.4631       | 33m 26s      |"
      ]
     },
     "metadata": {},
     "output_type": "display_data"
    },
    {
     "data": {
      "text/html": [
       "<pre>| 2375         | 1.53501      | 33m 30s      |</pre>"
      ],
      "text/plain": [
       "| 2375         | 1.53501      | 33m 30s      |"
      ]
     },
     "metadata": {},
     "output_type": "display_data"
    },
    {
     "data": {
      "text/html": [
       "<pre>| 2380         | 1.39026      | 33m 34s      |</pre>"
      ],
      "text/plain": [
       "| 2380         | 1.39026      | 33m 34s      |"
      ]
     },
     "metadata": {},
     "output_type": "display_data"
    },
    {
     "data": {
      "text/html": [
       "<pre>| 2385         | 1.44588      | 33m 39s      |</pre>"
      ],
      "text/plain": [
       "| 2385         | 1.44588      | 33m 39s      |"
      ]
     },
     "metadata": {},
     "output_type": "display_data"
    },
    {
     "data": {
      "text/html": [
       "<pre>| 2390         | 1.56069      | 33m 45s      |</pre>"
      ],
      "text/plain": [
       "| 2390         | 1.56069      | 33m 45s      |"
      ]
     },
     "metadata": {},
     "output_type": "display_data"
    },
    {
     "data": {
      "text/html": [
       "<pre>| 2395         | 1.4684       | 33m 49s      |</pre>"
      ],
      "text/plain": [
       "| 2395         | 1.4684       | 33m 49s      |"
      ]
     },
     "metadata": {},
     "output_type": "display_data"
    },
    {
     "data": {
      "text/html": [
       "<pre>| 2400         | 1.49358      | 33m 53s      |</pre>"
      ],
      "text/plain": [
       "| 2400         | 1.49358      | 33m 53s      |"
      ]
     },
     "metadata": {},
     "output_type": "display_data"
    },
    {
     "data": {
      "text/html": [
       "<pre>| 2405         | 1.45808      | 33m 57s      |</pre>"
      ],
      "text/plain": [
       "| 2405         | 1.45808      | 33m 57s      |"
      ]
     },
     "metadata": {},
     "output_type": "display_data"
    },
    {
     "data": {
      "text/html": [
       "<pre>| 2410         | 1.39789      | 34m 2s       |</pre>"
      ],
      "text/plain": [
       "| 2410         | 1.39789      | 34m 2s       |"
      ]
     },
     "metadata": {},
     "output_type": "display_data"
    },
    {
     "data": {
      "text/html": [
       "<pre>| 2415         | 1.4011       | 34m 6s       |</pre>"
      ],
      "text/plain": [
       "| 2415         | 1.4011       | 34m 6s       |"
      ]
     },
     "metadata": {},
     "output_type": "display_data"
    },
    {
     "data": {
      "text/html": [
       "<pre>| 2420         | 1.34559      | 34m 10s      |</pre>"
      ],
      "text/plain": [
       "| 2420         | 1.34559      | 34m 10s      |"
      ]
     },
     "metadata": {},
     "output_type": "display_data"
    },
    {
     "data": {
      "text/html": [
       "<pre>| 2425         | 1.45563      | 34m 14s      |</pre>"
      ],
      "text/plain": [
       "| 2425         | 1.45563      | 34m 14s      |"
      ]
     },
     "metadata": {},
     "output_type": "display_data"
    },
    {
     "data": {
      "text/html": [
       "<pre>| 2430         | 1.4515       | 34m 20s      |</pre>"
      ],
      "text/plain": [
       "| 2430         | 1.4515       | 34m 20s      |"
      ]
     },
     "metadata": {},
     "output_type": "display_data"
    },
    {
     "data": {
      "text/html": [
       "<pre>| 2435         | 1.45942      | 34m 24s      |</pre>"
      ],
      "text/plain": [
       "| 2435         | 1.45942      | 34m 24s      |"
      ]
     },
     "metadata": {},
     "output_type": "display_data"
    },
    {
     "data": {
      "text/html": [
       "<pre>| 2440         | 1.36006      | 34m 28s      |</pre>"
      ],
      "text/plain": [
       "| 2440         | 1.36006      | 34m 28s      |"
      ]
     },
     "metadata": {},
     "output_type": "display_data"
    },
    {
     "data": {
      "text/html": [
       "<pre>| 2445         | 1.32204      | 34m 32s      |</pre>"
      ],
      "text/plain": [
       "| 2445         | 1.32204      | 34m 32s      |"
      ]
     },
     "metadata": {},
     "output_type": "display_data"
    },
    {
     "data": {
      "text/html": [
       "<pre>| 2450         | 1.36779      | 34m 37s      |</pre>"
      ],
      "text/plain": [
       "| 2450         | 1.36779      | 34m 37s      |"
      ]
     },
     "metadata": {},
     "output_type": "display_data"
    },
    {
     "data": {
      "text/html": [
       "<pre>| 2455         | 1.39325      | 34m 41s      |</pre>"
      ],
      "text/plain": [
       "| 2455         | 1.39325      | 34m 41s      |"
      ]
     },
     "metadata": {},
     "output_type": "display_data"
    },
    {
     "data": {
      "text/html": [
       "<pre>| 2460         | 1.35656      | 34m 45s      |</pre>"
      ],
      "text/plain": [
       "| 2460         | 1.35656      | 34m 45s      |"
      ]
     },
     "metadata": {},
     "output_type": "display_data"
    },
    {
     "data": {
      "text/html": [
       "<pre>| 2465         | 1.40118      | 34m 49s      |</pre>"
      ],
      "text/plain": [
       "| 2465         | 1.40118      | 34m 49s      |"
      ]
     },
     "metadata": {},
     "output_type": "display_data"
    },
    {
     "data": {
      "text/html": [
       "<pre>| 2470         | 1.39207      | 34m 54s      |</pre>"
      ],
      "text/plain": [
       "| 2470         | 1.39207      | 34m 54s      |"
      ]
     },
     "metadata": {},
     "output_type": "display_data"
    },
    {
     "data": {
      "text/html": [
       "<pre>| 2475         | 1.35397      | 34m 58s      |</pre>"
      ],
      "text/plain": [
       "| 2475         | 1.35397      | 34m 58s      |"
      ]
     },
     "metadata": {},
     "output_type": "display_data"
    },
    {
     "data": {
      "text/html": [
       "<pre>| 2480         | 1.31746      | 35m 3s       |</pre>"
      ],
      "text/plain": [
       "| 2480         | 1.31746      | 35m 3s       |"
      ]
     },
     "metadata": {},
     "output_type": "display_data"
    },
    {
     "data": {
      "text/html": [
       "<pre>| 2485         | 1.44359      | 35m 7s       |</pre>"
      ],
      "text/plain": [
       "| 2485         | 1.44359      | 35m 7s       |"
      ]
     },
     "metadata": {},
     "output_type": "display_data"
    },
    {
     "data": {
      "text/html": [
       "<pre>| 2490         | 1.51024      | 35m 12s      |</pre>"
      ],
      "text/plain": [
       "| 2490         | 1.51024      | 35m 12s      |"
      ]
     },
     "metadata": {},
     "output_type": "display_data"
    },
    {
     "data": {
      "text/html": [
       "<pre>| 2495         | 1.5221       | 35m 16s      |</pre>"
      ],
      "text/plain": [
       "| 2495         | 1.5221       | 35m 16s      |"
      ]
     },
     "metadata": {},
     "output_type": "display_data"
    },
    {
     "data": {
      "text/html": [
       "<pre>| 2500         | 1.48832      | 35m 20s      |</pre>"
      ],
      "text/plain": [
       "| 2500         | 1.48832      | 35m 20s      |"
      ]
     },
     "metadata": {},
     "output_type": "display_data"
    },
    {
     "data": {
      "text/html": [
       "<pre>| 2505         | 1.47088      | 35m 24s      |</pre>"
      ],
      "text/plain": [
       "| 2505         | 1.47088      | 35m 24s      |"
      ]
     },
     "metadata": {},
     "output_type": "display_data"
    },
    {
     "data": {
      "text/html": [
       "<pre>| 2510         | 1.40992      | 35m 28s      |</pre>"
      ],
      "text/plain": [
       "| 2510         | 1.40992      | 35m 28s      |"
      ]
     },
     "metadata": {},
     "output_type": "display_data"
    },
    {
     "data": {
      "text/html": [
       "<pre>| 2515         | 1.39323      | 35m 32s      |</pre>"
      ],
      "text/plain": [
       "| 2515         | 1.39323      | 35m 32s      |"
      ]
     },
     "metadata": {},
     "output_type": "display_data"
    },
    {
     "data": {
      "text/html": [
       "<pre>| 2520         | 1.43038      | 35m 36s      |</pre>"
      ],
      "text/plain": [
       "| 2520         | 1.43038      | 35m 36s      |"
      ]
     },
     "metadata": {},
     "output_type": "display_data"
    },
    {
     "data": {
      "text/html": [
       "<pre>| 2525         | 1.34685      | 35m 40s      |</pre>"
      ],
      "text/plain": [
       "| 2525         | 1.34685      | 35m 40s      |"
      ]
     },
     "metadata": {},
     "output_type": "display_data"
    },
    {
     "data": {
      "text/html": [
       "<pre>| 2530         | 1.37121      | 35m 45s      |</pre>"
      ],
      "text/plain": [
       "| 2530         | 1.37121      | 35m 45s      |"
      ]
     },
     "metadata": {},
     "output_type": "display_data"
    },
    {
     "data": {
      "text/html": [
       "<pre>| 2535         | 1.41754      | 35m 49s      |</pre>"
      ],
      "text/plain": [
       "| 2535         | 1.41754      | 35m 49s      |"
      ]
     },
     "metadata": {},
     "output_type": "display_data"
    },
    {
     "data": {
      "text/html": [
       "<pre>| 2540         | 1.3471       | 35m 53s      |</pre>"
      ],
      "text/plain": [
       "| 2540         | 1.3471       | 35m 53s      |"
      ]
     },
     "metadata": {},
     "output_type": "display_data"
    },
    {
     "data": {
      "text/html": [
       "<pre>| 2545         | 1.32378      | 35m 57s      |</pre>"
      ],
      "text/plain": [
       "| 2545         | 1.32378      | 35m 57s      |"
      ]
     },
     "metadata": {},
     "output_type": "display_data"
    },
    {
     "data": {
      "text/html": [
       "<pre>| 2550         | 1.31465      | 36m 1s       |</pre>"
      ],
      "text/plain": [
       "| 2550         | 1.31465      | 36m 1s       |"
      ]
     },
     "metadata": {},
     "output_type": "display_data"
    },
    {
     "data": {
      "text/html": [
       "<pre>| 2555         | 1.40949      | 36m 5s       |</pre>"
      ],
      "text/plain": [
       "| 2555         | 1.40949      | 36m 5s       |"
      ]
     },
     "metadata": {},
     "output_type": "display_data"
    },
    {
     "data": {
      "text/html": [
       "<pre>| 2560         | 1.26938      | 36m 9s       |</pre>"
      ],
      "text/plain": [
       "| 2560         | 1.26938      | 36m 9s       |"
      ]
     },
     "metadata": {},
     "output_type": "display_data"
    },
    {
     "data": {
      "text/html": [
       "<pre>| 2565         | 1.36086      | 36m 13s      |</pre>"
      ],
      "text/plain": [
       "| 2565         | 1.36086      | 36m 13s      |"
      ]
     },
     "metadata": {},
     "output_type": "display_data"
    },
    {
     "data": {
      "text/html": [
       "<pre>| 2570         | 1.36435      | 36m 18s      |</pre>"
      ],
      "text/plain": [
       "| 2570         | 1.36435      | 36m 18s      |"
      ]
     },
     "metadata": {},
     "output_type": "display_data"
    },
    {
     "data": {
      "text/html": [
       "<pre>| 2575         | 1.49295      | 36m 22s      |</pre>"
      ],
      "text/plain": [
       "| 2575         | 1.49295      | 36m 22s      |"
      ]
     },
     "metadata": {},
     "output_type": "display_data"
    },
    {
     "data": {
      "text/html": [
       "<pre>| 2580         | 1.4343       | 36m 26s      |</pre>"
      ],
      "text/plain": [
       "| 2580         | 1.4343       | 36m 26s      |"
      ]
     },
     "metadata": {},
     "output_type": "display_data"
    },
    {
     "data": {
      "text/html": [
       "<pre>| 2585         | 1.42425      | 36m 29s      |</pre>"
      ],
      "text/plain": [
       "| 2585         | 1.42425      | 36m 29s      |"
      ]
     },
     "metadata": {},
     "output_type": "display_data"
    },
    {
     "data": {
      "text/html": [
       "<pre>| 2590         | 1.40935      | 36m 34s      |</pre>"
      ],
      "text/plain": [
       "| 2590         | 1.40935      | 36m 34s      |"
      ]
     },
     "metadata": {},
     "output_type": "display_data"
    },
    {
     "data": {
      "text/html": [
       "<pre>| 2595         | 1.39965      | 36m 38s      |</pre>"
      ],
      "text/plain": [
       "| 2595         | 1.39965      | 36m 38s      |"
      ]
     },
     "metadata": {},
     "output_type": "display_data"
    },
    {
     "data": {
      "text/html": [
       "<pre>| 2600         | 1.39285      | 36m 42s      |</pre>"
      ],
      "text/plain": [
       "| 2600         | 1.39285      | 36m 42s      |"
      ]
     },
     "metadata": {},
     "output_type": "display_data"
    },
    {
     "data": {
      "text/html": [
       "<pre>| 2605         | 1.40479      | 36m 46s      |</pre>"
      ],
      "text/plain": [
       "| 2605         | 1.40479      | 36m 46s      |"
      ]
     },
     "metadata": {},
     "output_type": "display_data"
    },
    {
     "data": {
      "text/html": [
       "<pre>| 2610         | 1.41926      | 36m 50s      |</pre>"
      ],
      "text/plain": [
       "| 2610         | 1.41926      | 36m 50s      |"
      ]
     },
     "metadata": {},
     "output_type": "display_data"
    },
    {
     "data": {
      "text/html": [
       "<pre>| 2615         | 1.44324      | 36m 54s      |</pre>"
      ],
      "text/plain": [
       "| 2615         | 1.44324      | 36m 54s      |"
      ]
     },
     "metadata": {},
     "output_type": "display_data"
    },
    {
     "data": {
      "text/html": [
       "<pre>| 2620         | 1.45875      | 36m 58s      |</pre>"
      ],
      "text/plain": [
       "| 2620         | 1.45875      | 36m 58s      |"
      ]
     },
     "metadata": {},
     "output_type": "display_data"
    },
    {
     "data": {
      "text/html": [
       "<pre>| 2625         | 1.41119      | 37m 2s       |</pre>"
      ],
      "text/plain": [
       "| 2625         | 1.41119      | 37m 2s       |"
      ]
     },
     "metadata": {},
     "output_type": "display_data"
    },
    {
     "data": {
      "text/html": [
       "<pre>| 2630         | 1.40643      | 37m 7s       |</pre>"
      ],
      "text/plain": [
       "| 2630         | 1.40643      | 37m 7s       |"
      ]
     },
     "metadata": {},
     "output_type": "display_data"
    },
    {
     "data": {
      "text/html": [
       "<pre>| 2635         | 1.44208      | 37m 11s      |</pre>"
      ],
      "text/plain": [
       "| 2635         | 1.44208      | 37m 11s      |"
      ]
     },
     "metadata": {},
     "output_type": "display_data"
    },
    {
     "data": {
      "text/html": [
       "<pre>| 2640         | 1.41182      | 37m 15s      |</pre>"
      ],
      "text/plain": [
       "| 2640         | 1.41182      | 37m 15s      |"
      ]
     },
     "metadata": {},
     "output_type": "display_data"
    },
    {
     "data": {
      "text/html": [
       "<pre>| 2645         | 1.41514      | 37m 19s      |</pre>"
      ],
      "text/plain": [
       "| 2645         | 1.41514      | 37m 19s      |"
      ]
     },
     "metadata": {},
     "output_type": "display_data"
    },
    {
     "data": {
      "text/html": [
       "<pre>| 2650         | 1.41839      | 37m 23s      |</pre>"
      ],
      "text/plain": [
       "| 2650         | 1.41839      | 37m 23s      |"
      ]
     },
     "metadata": {},
     "output_type": "display_data"
    },
    {
     "data": {
      "text/html": [
       "<pre>| 2655         | 1.32207      | 37m 27s      |</pre>"
      ],
      "text/plain": [
       "| 2655         | 1.32207      | 37m 27s      |"
      ]
     },
     "metadata": {},
     "output_type": "display_data"
    },
    {
     "data": {
      "text/html": [
       "<pre>| 2660         | 1.37841      | 37m 31s      |</pre>"
      ],
      "text/plain": [
       "| 2660         | 1.37841      | 37m 31s      |"
      ]
     },
     "metadata": {},
     "output_type": "display_data"
    },
    {
     "data": {
      "text/html": [
       "<pre>| 2665         | 1.3425       | 37m 35s      |</pre>"
      ],
      "text/plain": [
       "| 2665         | 1.3425       | 37m 35s      |"
      ]
     },
     "metadata": {},
     "output_type": "display_data"
    },
    {
     "data": {
      "text/html": [
       "<pre>| 2670         | 1.34355      | 37m 40s      |</pre>"
      ],
      "text/plain": [
       "| 2670         | 1.34355      | 37m 40s      |"
      ]
     },
     "metadata": {},
     "output_type": "display_data"
    },
    {
     "data": {
      "text/html": [
       "<pre>| 2675         | 1.45053      | 37m 44s      |</pre>"
      ],
      "text/plain": [
       "| 2675         | 1.45053      | 37m 44s      |"
      ]
     },
     "metadata": {},
     "output_type": "display_data"
    },
    {
     "data": {
      "text/html": [
       "<pre>| 2680         | 1.47476      | 37m 47s      |</pre>"
      ],
      "text/plain": [
       "| 2680         | 1.47476      | 37m 47s      |"
      ]
     },
     "metadata": {},
     "output_type": "display_data"
    },
    {
     "data": {
      "text/html": [
       "<pre>| 2685         | 1.39765      | 37m 51s      |</pre>"
      ],
      "text/plain": [
       "| 2685         | 1.39765      | 37m 51s      |"
      ]
     },
     "metadata": {},
     "output_type": "display_data"
    },
    {
     "data": {
      "text/html": [
       "<pre>| 2690         | 1.43297      | 37m 56s      |</pre>"
      ],
      "text/plain": [
       "| 2690         | 1.43297      | 37m 56s      |"
      ]
     },
     "metadata": {},
     "output_type": "display_data"
    },
    {
     "data": {
      "text/html": [
       "<pre>| 2695         | 1.44034      | 38m 0s       |</pre>"
      ],
      "text/plain": [
       "| 2695         | 1.44034      | 38m 0s       |"
      ]
     },
     "metadata": {},
     "output_type": "display_data"
    },
    {
     "data": {
      "text/html": [
       "<pre>| 2700         | 1.38717      | 38m 4s       |</pre>"
      ],
      "text/plain": [
       "| 2700         | 1.38717      | 38m 4s       |"
      ]
     },
     "metadata": {},
     "output_type": "display_data"
    },
    {
     "data": {
      "text/html": [
       "<pre>| 2705         | 1.28814      | 38m 8s       |</pre>"
      ],
      "text/plain": [
       "| 2705         | 1.28814      | 38m 8s       |"
      ]
     },
     "metadata": {},
     "output_type": "display_data"
    },
    {
     "data": {
      "text/html": [
       "<pre>| 2710         | 1.31453      | 38m 12s      |</pre>"
      ],
      "text/plain": [
       "| 2710         | 1.31453      | 38m 12s      |"
      ]
     },
     "metadata": {},
     "output_type": "display_data"
    },
    {
     "data": {
      "text/html": [
       "<pre>| 2715         | 1.35618      | 38m 16s      |</pre>"
      ],
      "text/plain": [
       "| 2715         | 1.35618      | 38m 16s      |"
      ]
     },
     "metadata": {},
     "output_type": "display_data"
    },
    {
     "data": {
      "text/html": [
       "<pre>| 2720         | 1.36693      | 38m 20s      |</pre>"
      ],
      "text/plain": [
       "| 2720         | 1.36693      | 38m 20s      |"
      ]
     },
     "metadata": {},
     "output_type": "display_data"
    },
    {
     "data": {
      "text/html": [
       "<pre>| 2725         | 1.33847      | 38m 24s      |</pre>"
      ],
      "text/plain": [
       "| 2725         | 1.33847      | 38m 24s      |"
      ]
     },
     "metadata": {},
     "output_type": "display_data"
    },
    {
     "data": {
      "text/html": [
       "<pre>| 2730         | 1.34696      | 38m 29s      |</pre>"
      ],
      "text/plain": [
       "| 2730         | 1.34696      | 38m 29s      |"
      ]
     },
     "metadata": {},
     "output_type": "display_data"
    },
    {
     "data": {
      "text/html": [
       "<pre>| 2735         | 1.40434      | 38m 33s      |</pre>"
      ],
      "text/plain": [
       "| 2735         | 1.40434      | 38m 33s      |"
      ]
     },
     "metadata": {},
     "output_type": "display_data"
    },
    {
     "data": {
      "text/html": [
       "<pre>| 2740         | 1.43216      | 38m 37s      |</pre>"
      ],
      "text/plain": [
       "| 2740         | 1.43216      | 38m 37s      |"
      ]
     },
     "metadata": {},
     "output_type": "display_data"
    },
    {
     "data": {
      "text/html": [
       "<pre>| 2745         | 1.359        | 38m 41s      |</pre>"
      ],
      "text/plain": [
       "| 2745         | 1.359        | 38m 41s      |"
      ]
     },
     "metadata": {},
     "output_type": "display_data"
    },
    {
     "data": {
      "text/html": [
       "<pre>| 2750         | 1.34745      | 38m 45s      |</pre>"
      ],
      "text/plain": [
       "| 2750         | 1.34745      | 38m 45s      |"
      ]
     },
     "metadata": {},
     "output_type": "display_data"
    },
    {
     "data": {
      "text/html": [
       "<pre>| 2755         | 1.27817      | 38m 49s      |</pre>"
      ],
      "text/plain": [
       "| 2755         | 1.27817      | 38m 49s      |"
      ]
     },
     "metadata": {},
     "output_type": "display_data"
    },
    {
     "data": {
      "text/html": [
       "<pre>| 2760         | 1.39519      | 38m 53s      |</pre>"
      ],
      "text/plain": [
       "| 2760         | 1.39519      | 38m 53s      |"
      ]
     },
     "metadata": {},
     "output_type": "display_data"
    },
    {
     "data": {
      "text/html": [
       "<pre>| 2765         | 1.36295      | 38m 57s      |</pre>"
      ],
      "text/plain": [
       "| 2765         | 1.36295      | 38m 57s      |"
      ]
     },
     "metadata": {},
     "output_type": "display_data"
    },
    {
     "data": {
      "text/html": [
       "<pre>| 2770         | 1.31707      | 39m 1s       |</pre>"
      ],
      "text/plain": [
       "| 2770         | 1.31707      | 39m 1s       |"
      ]
     },
     "metadata": {},
     "output_type": "display_data"
    },
    {
     "data": {
      "text/html": [
       "<pre>| 2775         | 1.31927      | 39m 5s       |</pre>"
      ],
      "text/plain": [
       "| 2775         | 1.31927      | 39m 5s       |"
      ]
     },
     "metadata": {},
     "output_type": "display_data"
    },
    {
     "data": {
      "text/html": [
       "<pre>| 2780         | 1.33026      | 39m 9s       |</pre>"
      ],
      "text/plain": [
       "| 2780         | 1.33026      | 39m 9s       |"
      ]
     },
     "metadata": {},
     "output_type": "display_data"
    },
    {
     "data": {
      "text/html": [
       "<pre>| 2785         | 1.27424      | 39m 13s      |</pre>"
      ],
      "text/plain": [
       "| 2785         | 1.27424      | 39m 13s      |"
      ]
     },
     "metadata": {},
     "output_type": "display_data"
    },
    {
     "data": {
      "text/html": [
       "<pre>| 2790         | 1.33259      | 39m 18s      |</pre>"
      ],
      "text/plain": [
       "| 2790         | 1.33259      | 39m 18s      |"
      ]
     },
     "metadata": {},
     "output_type": "display_data"
    },
    {
     "data": {
      "text/html": [
       "<pre>| 2795         | 1.34601      | 39m 22s      |</pre>"
      ],
      "text/plain": [
       "| 2795         | 1.34601      | 39m 22s      |"
      ]
     },
     "metadata": {},
     "output_type": "display_data"
    },
    {
     "data": {
      "text/html": [
       "<pre>| 2800         | 1.37751      | 39m 26s      |</pre>"
      ],
      "text/plain": [
       "| 2800         | 1.37751      | 39m 26s      |"
      ]
     },
     "metadata": {},
     "output_type": "display_data"
    },
    {
     "data": {
      "text/html": [
       "<pre>| 2805         | 1.37949      | 39m 30s      |</pre>"
      ],
      "text/plain": [
       "| 2805         | 1.37949      | 39m 30s      |"
      ]
     },
     "metadata": {},
     "output_type": "display_data"
    },
    {
     "data": {
      "text/html": [
       "<pre>| 2810         | 1.42677      | 39m 34s      |</pre>"
      ],
      "text/plain": [
       "| 2810         | 1.42677      | 39m 34s      |"
      ]
     },
     "metadata": {},
     "output_type": "display_data"
    },
    {
     "data": {
      "text/html": [
       "<pre>| 2815         | 1.40953      | 39m 38s      |</pre>"
      ],
      "text/plain": [
       "| 2815         | 1.40953      | 39m 38s      |"
      ]
     },
     "metadata": {},
     "output_type": "display_data"
    },
    {
     "data": {
      "text/html": [
       "<pre>| 2820         | 1.43928      | 39m 42s      |</pre>"
      ],
      "text/plain": [
       "| 2820         | 1.43928      | 39m 42s      |"
      ]
     },
     "metadata": {},
     "output_type": "display_data"
    },
    {
     "data": {
      "text/html": [
       "<pre>| 2825         | 1.36378      | 39m 46s      |</pre>"
      ],
      "text/plain": [
       "| 2825         | 1.36378      | 39m 46s      |"
      ]
     },
     "metadata": {},
     "output_type": "display_data"
    },
    {
     "data": {
      "text/html": [
       "<pre>| 2830         | 1.42017      | 39m 50s      |</pre>"
      ],
      "text/plain": [
       "| 2830         | 1.42017      | 39m 50s      |"
      ]
     },
     "metadata": {},
     "output_type": "display_data"
    },
    {
     "data": {
      "text/html": [
       "<pre>| 2835         | 1.45894      | 39m 54s      |</pre>"
      ],
      "text/plain": [
       "| 2835         | 1.45894      | 39m 54s      |"
      ]
     },
     "metadata": {},
     "output_type": "display_data"
    },
    {
     "data": {
      "text/html": [
       "<pre>| 2840         | 1.43846      | 39m 58s      |</pre>"
      ],
      "text/plain": [
       "| 2840         | 1.43846      | 39m 58s      |"
      ]
     },
     "metadata": {},
     "output_type": "display_data"
    },
    {
     "data": {
      "text/html": [
       "<pre>| 2845         | 1.34868      | 40m 2s       |</pre>"
      ],
      "text/plain": [
       "| 2845         | 1.34868      | 40m 2s       |"
      ]
     },
     "metadata": {},
     "output_type": "display_data"
    },
    {
     "data": {
      "text/html": [
       "<pre>| 2850         | 1.40345      | 40m 7s       |</pre>"
      ],
      "text/plain": [
       "| 2850         | 1.40345      | 40m 7s       |"
      ]
     },
     "metadata": {},
     "output_type": "display_data"
    },
    {
     "data": {
      "text/html": [
       "<pre>| 2855         | 1.37573      | 40m 11s      |</pre>"
      ],
      "text/plain": [
       "| 2855         | 1.37573      | 40m 11s      |"
      ]
     },
     "metadata": {},
     "output_type": "display_data"
    },
    {
     "data": {
      "text/html": [
       "<pre>| 2860         | 1.40163      | 40m 15s      |</pre>"
      ],
      "text/plain": [
       "| 2860         | 1.40163      | 40m 15s      |"
      ]
     },
     "metadata": {},
     "output_type": "display_data"
    },
    {
     "data": {
      "text/html": [
       "<pre>| 2865         | 1.42703      | 40m 19s      |</pre>"
      ],
      "text/plain": [
       "| 2865         | 1.42703      | 40m 19s      |"
      ]
     },
     "metadata": {},
     "output_type": "display_data"
    },
    {
     "data": {
      "text/html": [
       "<pre>| 2870         | 1.40827      | 40m 23s      |</pre>"
      ],
      "text/plain": [
       "| 2870         | 1.40827      | 40m 23s      |"
      ]
     },
     "metadata": {},
     "output_type": "display_data"
    },
    {
     "data": {
      "text/html": [
       "<pre>| 2875         | 1.34192      | 40m 27s      |</pre>"
      ],
      "text/plain": [
       "| 2875         | 1.34192      | 40m 27s      |"
      ]
     },
     "metadata": {},
     "output_type": "display_data"
    },
    {
     "data": {
      "text/html": [
       "<pre>| 2880         | 1.38758      | 40m 31s      |</pre>"
      ],
      "text/plain": [
       "| 2880         | 1.38758      | 40m 31s      |"
      ]
     },
     "metadata": {},
     "output_type": "display_data"
    },
    {
     "data": {
      "text/html": [
       "<pre>| 2885         | 1.40377      | 40m 35s      |</pre>"
      ],
      "text/plain": [
       "| 2885         | 1.40377      | 40m 35s      |"
      ]
     },
     "metadata": {},
     "output_type": "display_data"
    },
    {
     "data": {
      "text/html": [
       "<pre>| 2890         | 1.38126      | 40m 40s      |</pre>"
      ],
      "text/plain": [
       "| 2890         | 1.38126      | 40m 40s      |"
      ]
     },
     "metadata": {},
     "output_type": "display_data"
    },
    {
     "data": {
      "text/html": [
       "<pre>| 2895         | 1.41806      | 40m 44s      |</pre>"
      ],
      "text/plain": [
       "| 2895         | 1.41806      | 40m 44s      |"
      ]
     },
     "metadata": {},
     "output_type": "display_data"
    },
    {
     "data": {
      "text/html": [
       "<pre>| 2900         | 1.41265      | 40m 48s      |</pre>"
      ],
      "text/plain": [
       "| 2900         | 1.41265      | 40m 48s      |"
      ]
     },
     "metadata": {},
     "output_type": "display_data"
    },
    {
     "data": {
      "text/html": [
       "<pre>| 2905         | 1.39568      | 40m 52s      |</pre>"
      ],
      "text/plain": [
       "| 2905         | 1.39568      | 40m 52s      |"
      ]
     },
     "metadata": {},
     "output_type": "display_data"
    },
    {
     "data": {
      "text/html": [
       "<pre>| 2910         | 1.41497      | 40m 56s      |</pre>"
      ],
      "text/plain": [
       "| 2910         | 1.41497      | 40m 56s      |"
      ]
     },
     "metadata": {},
     "output_type": "display_data"
    },
    {
     "data": {
      "text/html": [
       "<pre>| 2915         | 1.41081      | 41m 0s       |</pre>"
      ],
      "text/plain": [
       "| 2915         | 1.41081      | 41m 0s       |"
      ]
     },
     "metadata": {},
     "output_type": "display_data"
    },
    {
     "data": {
      "text/html": [
       "<pre>| 2920         | 1.41639      | 41m 4s       |</pre>"
      ],
      "text/plain": [
       "| 2920         | 1.41639      | 41m 4s       |"
      ]
     },
     "metadata": {},
     "output_type": "display_data"
    },
    {
     "data": {
      "text/html": [
       "<pre>| 2925         | 1.42909      | 41m 8s       |</pre>"
      ],
      "text/plain": [
       "| 2925         | 1.42909      | 41m 8s       |"
      ]
     },
     "metadata": {},
     "output_type": "display_data"
    },
    {
     "data": {
      "text/html": [
       "<pre>| 2930         | 1.45549      | 41m 13s      |</pre>"
      ],
      "text/plain": [
       "| 2930         | 1.45549      | 41m 13s      |"
      ]
     },
     "metadata": {},
     "output_type": "display_data"
    },
    {
     "data": {
      "text/html": [
       "<pre>| 2935         | 1.40146      | 41m 17s      |</pre>"
      ],
      "text/plain": [
       "| 2935         | 1.40146      | 41m 17s      |"
      ]
     },
     "metadata": {},
     "output_type": "display_data"
    },
    {
     "data": {
      "text/html": [
       "<pre>| 2940         | 1.33846      | 41m 21s      |</pre>"
      ],
      "text/plain": [
       "| 2940         | 1.33846      | 41m 21s      |"
      ]
     },
     "metadata": {},
     "output_type": "display_data"
    },
    {
     "data": {
      "text/html": [
       "<pre>| 2945         | 1.43072      | 41m 25s      |</pre>"
      ],
      "text/plain": [
       "| 2945         | 1.43072      | 41m 25s      |"
      ]
     },
     "metadata": {},
     "output_type": "display_data"
    },
    {
     "data": {
      "text/html": [
       "<pre>| 2950         | 1.38129      | 41m 29s      |</pre>"
      ],
      "text/plain": [
       "| 2950         | 1.38129      | 41m 29s      |"
      ]
     },
     "metadata": {},
     "output_type": "display_data"
    },
    {
     "data": {
      "text/html": [
       "<pre>| 2955         | 1.34478      | 41m 33s      |</pre>"
      ],
      "text/plain": [
       "| 2955         | 1.34478      | 41m 33s      |"
      ]
     },
     "metadata": {},
     "output_type": "display_data"
    },
    {
     "data": {
      "text/html": [
       "<pre>| 2960         | 1.31966      | 41m 37s      |</pre>"
      ],
      "text/plain": [
       "| 2960         | 1.31966      | 41m 37s      |"
      ]
     },
     "metadata": {},
     "output_type": "display_data"
    },
    {
     "data": {
      "text/html": [
       "<pre>| 2965         | 1.2874       | 41m 41s      |</pre>"
      ],
      "text/plain": [
       "| 2965         | 1.2874       | 41m 41s      |"
      ]
     },
     "metadata": {},
     "output_type": "display_data"
    },
    {
     "data": {
      "text/html": [
       "<pre>| 2970         | 1.30886      | 41m 46s      |</pre>"
      ],
      "text/plain": [
       "| 2970         | 1.30886      | 41m 46s      |"
      ]
     },
     "metadata": {},
     "output_type": "display_data"
    },
    {
     "data": {
      "text/html": [
       "<pre>| 2975         | 1.31428      | 41m 50s      |</pre>"
      ],
      "text/plain": [
       "| 2975         | 1.31428      | 41m 50s      |"
      ]
     },
     "metadata": {},
     "output_type": "display_data"
    },
    {
     "data": {
      "text/html": [
       "<pre>| 2980         | 1.3492       | 41m 54s      |</pre>"
      ],
      "text/plain": [
       "| 2980         | 1.3492       | 41m 54s      |"
      ]
     },
     "metadata": {},
     "output_type": "display_data"
    },
    {
     "data": {
      "text/html": [
       "<pre>| 2985         | 1.30282      | 41m 58s      |</pre>"
      ],
      "text/plain": [
       "| 2985         | 1.30282      | 41m 58s      |"
      ]
     },
     "metadata": {},
     "output_type": "display_data"
    },
    {
     "data": {
      "text/html": [
       "<pre>| 2990         | 1.3021       | 42m 5s       |</pre>"
      ],
      "text/plain": [
       "| 2990         | 1.3021       | 42m 5s       |"
      ]
     },
     "metadata": {},
     "output_type": "display_data"
    },
    {
     "data": {
      "text/html": [
       "<pre>| 2995         | 1.28981      | 42m 10s      |</pre>"
      ],
      "text/plain": [
       "| 2995         | 1.28981      | 42m 10s      |"
      ]
     },
     "metadata": {},
     "output_type": "display_data"
    },
    {
     "data": {
      "text/html": [
       "<pre>| 3000         | 1.2434       | 42m 15s      |</pre>"
      ],
      "text/plain": [
       "| 3000         | 1.2434       | 42m 15s      |"
      ]
     },
     "metadata": {},
     "output_type": "display_data"
    },
    {
     "data": {
      "text/html": [
       "<pre>| 3005         | 1.25805      | 42m 20s      |</pre>"
      ],
      "text/plain": [
       "| 3005         | 1.25805      | 42m 20s      |"
      ]
     },
     "metadata": {},
     "output_type": "display_data"
    },
    {
     "data": {
      "text/html": [
       "<pre>| 3010         | 1.30429      | 42m 25s      |</pre>"
      ],
      "text/plain": [
       "| 3010         | 1.30429      | 42m 25s      |"
      ]
     },
     "metadata": {},
     "output_type": "display_data"
    },
    {
     "data": {
      "text/html": [
       "<pre>| 3015         | 1.32364      | 42m 30s      |</pre>"
      ],
      "text/plain": [
       "| 3015         | 1.32364      | 42m 30s      |"
      ]
     },
     "metadata": {},
     "output_type": "display_data"
    },
    {
     "data": {
      "text/html": [
       "<pre>| 3020         | 1.24714      | 42m 34s      |</pre>"
      ],
      "text/plain": [
       "| 3020         | 1.24714      | 42m 34s      |"
      ]
     },
     "metadata": {},
     "output_type": "display_data"
    },
    {
     "data": {
      "text/html": [
       "<pre>| 3025         | 1.32357      | 42m 38s      |</pre>"
      ],
      "text/plain": [
       "| 3025         | 1.32357      | 42m 38s      |"
      ]
     },
     "metadata": {},
     "output_type": "display_data"
    },
    {
     "data": {
      "text/html": [
       "<pre>| 3030         | 1.33097      | 42m 42s      |</pre>"
      ],
      "text/plain": [
       "| 3030         | 1.33097      | 42m 42s      |"
      ]
     },
     "metadata": {},
     "output_type": "display_data"
    },
    {
     "data": {
      "text/html": [
       "<pre>| 3035         | 1.37167      | 42m 46s      |</pre>"
      ],
      "text/plain": [
       "| 3035         | 1.37167      | 42m 46s      |"
      ]
     },
     "metadata": {},
     "output_type": "display_data"
    },
    {
     "data": {
      "text/html": [
       "<pre>| 3040         | 1.28034      | 42m 50s      |</pre>"
      ],
      "text/plain": [
       "| 3040         | 1.28034      | 42m 50s      |"
      ]
     },
     "metadata": {},
     "output_type": "display_data"
    },
    {
     "data": {
      "text/html": [
       "<pre>| 3045         | 1.23628      | 42m 54s      |</pre>"
      ],
      "text/plain": [
       "| 3045         | 1.23628      | 42m 54s      |"
      ]
     },
     "metadata": {},
     "output_type": "display_data"
    },
    {
     "data": {
      "text/html": [
       "<pre>| 3050         | 1.2667       | 42m 59s      |</pre>"
      ],
      "text/plain": [
       "| 3050         | 1.2667       | 42m 59s      |"
      ]
     },
     "metadata": {},
     "output_type": "display_data"
    },
    {
     "data": {
      "text/html": [
       "<pre>| 3055         | 1.24135      | 43m 3s       |</pre>"
      ],
      "text/plain": [
       "| 3055         | 1.24135      | 43m 3s       |"
      ]
     },
     "metadata": {},
     "output_type": "display_data"
    },
    {
     "data": {
      "text/html": [
       "<pre>| 3060         | 1.32757      | 43m 8s       |</pre>"
      ],
      "text/plain": [
       "| 3060         | 1.32757      | 43m 8s       |"
      ]
     },
     "metadata": {},
     "output_type": "display_data"
    },
    {
     "data": {
      "text/html": [
       "<pre>| 3065         | 1.30022      | 43m 12s      |</pre>"
      ],
      "text/plain": [
       "| 3065         | 1.30022      | 43m 12s      |"
      ]
     },
     "metadata": {},
     "output_type": "display_data"
    },
    {
     "data": {
      "text/html": [
       "<pre>| 3070         | 1.25177      | 43m 18s      |</pre>"
      ],
      "text/plain": [
       "| 3070         | 1.25177      | 43m 18s      |"
      ]
     },
     "metadata": {},
     "output_type": "display_data"
    },
    {
     "data": {
      "text/html": [
       "<pre>| 3075         | 1.27348      | 43m 22s      |</pre>"
      ],
      "text/plain": [
       "| 3075         | 1.27348      | 43m 22s      |"
      ]
     },
     "metadata": {},
     "output_type": "display_data"
    },
    {
     "data": {
      "text/html": [
       "<pre>| 3080         | 1.33979      | 43m 26s      |</pre>"
      ],
      "text/plain": [
       "| 3080         | 1.33979      | 43m 26s      |"
      ]
     },
     "metadata": {},
     "output_type": "display_data"
    },
    {
     "data": {
      "text/html": [
       "<pre>| 3085         | 1.35723      | 43m 30s      |</pre>"
      ],
      "text/plain": [
       "| 3085         | 1.35723      | 43m 30s      |"
      ]
     },
     "metadata": {},
     "output_type": "display_data"
    },
    {
     "data": {
      "text/html": [
       "<pre>| 3090         | 1.42243      | 43m 35s      |</pre>"
      ],
      "text/plain": [
       "| 3090         | 1.42243      | 43m 35s      |"
      ]
     },
     "metadata": {},
     "output_type": "display_data"
    },
    {
     "data": {
      "text/html": [
       "<pre>| 3095         | 1.4905       | 43m 39s      |</pre>"
      ],
      "text/plain": [
       "| 3095         | 1.4905       | 43m 39s      |"
      ]
     },
     "metadata": {},
     "output_type": "display_data"
    },
    {
     "data": {
      "text/html": [
       "<pre>| 3100         | 1.39965      | 43m 43s      |</pre>"
      ],
      "text/plain": [
       "| 3100         | 1.39965      | 43m 43s      |"
      ]
     },
     "metadata": {},
     "output_type": "display_data"
    },
    {
     "data": {
      "text/html": [
       "<pre>| 3105         | 1.35992      | 43m 47s      |</pre>"
      ],
      "text/plain": [
       "| 3105         | 1.35992      | 43m 47s      |"
      ]
     },
     "metadata": {},
     "output_type": "display_data"
    },
    {
     "data": {
      "text/html": [
       "<pre>| 3110         | 1.34888      | 43m 51s      |</pre>"
      ],
      "text/plain": [
       "| 3110         | 1.34888      | 43m 51s      |"
      ]
     },
     "metadata": {},
     "output_type": "display_data"
    },
    {
     "data": {
      "text/html": [
       "<pre>| 3115         | 1.296        | 43m 55s      |</pre>"
      ],
      "text/plain": [
       "| 3115         | 1.296        | 43m 55s      |"
      ]
     },
     "metadata": {},
     "output_type": "display_data"
    },
    {
     "data": {
      "text/html": [
       "<pre>| 3120         | 1.27196      | 43m 59s      |</pre>"
      ],
      "text/plain": [
       "| 3120         | 1.27196      | 43m 59s      |"
      ]
     },
     "metadata": {},
     "output_type": "display_data"
    },
    {
     "data": {
      "text/html": [
       "<pre>| 3125         | 1.3424       | 44m 3s       |</pre>"
      ],
      "text/plain": [
       "| 3125         | 1.3424       | 44m 3s       |"
      ]
     },
     "metadata": {},
     "output_type": "display_data"
    },
    {
     "data": {
      "text/html": [
       "<pre>| 3130         | 1.29821      | 44m 8s       |</pre>"
      ],
      "text/plain": [
       "| 3130         | 1.29821      | 44m 8s       |"
      ]
     },
     "metadata": {},
     "output_type": "display_data"
    },
    {
     "data": {
      "text/html": [
       "<pre>| 3135         | 1.29002      | 44m 12s      |</pre>"
      ],
      "text/plain": [
       "| 3135         | 1.29002      | 44m 12s      |"
      ]
     },
     "metadata": {},
     "output_type": "display_data"
    },
    {
     "data": {
      "text/html": [
       "<pre>| 3140         | 1.29447      | 44m 16s      |</pre>"
      ],
      "text/plain": [
       "| 3140         | 1.29447      | 44m 16s      |"
      ]
     },
     "metadata": {},
     "output_type": "display_data"
    },
    {
     "data": {
      "text/html": [
       "<pre>| 3145         | 1.33605      | 44m 21s      |</pre>"
      ],
      "text/plain": [
       "| 3145         | 1.33605      | 44m 21s      |"
      ]
     },
     "metadata": {},
     "output_type": "display_data"
    },
    {
     "data": {
      "text/html": [
       "<pre>| 3150         | 1.37911      | 44m 27s      |</pre>"
      ],
      "text/plain": [
       "| 3150         | 1.37911      | 44m 27s      |"
      ]
     },
     "metadata": {},
     "output_type": "display_data"
    },
    {
     "data": {
      "text/html": [
       "<pre>| 3155         | 1.37937      | 44m 31s      |</pre>"
      ],
      "text/plain": [
       "| 3155         | 1.37937      | 44m 31s      |"
      ]
     },
     "metadata": {},
     "output_type": "display_data"
    },
    {
     "data": {
      "text/html": [
       "<pre>| 3160         | 1.32528      | 44m 35s      |</pre>"
      ],
      "text/plain": [
       "| 3160         | 1.32528      | 44m 35s      |"
      ]
     },
     "metadata": {},
     "output_type": "display_data"
    },
    {
     "data": {
      "text/html": [
       "<pre>| 3165         | 1.3635       | 44m 40s      |</pre>"
      ],
      "text/plain": [
       "| 3165         | 1.3635       | 44m 40s      |"
      ]
     },
     "metadata": {},
     "output_type": "display_data"
    },
    {
     "data": {
      "text/html": [
       "<pre>| 3170         | 1.28267      | 44m 45s      |</pre>"
      ],
      "text/plain": [
       "| 3170         | 1.28267      | 44m 45s      |"
      ]
     },
     "metadata": {},
     "output_type": "display_data"
    },
    {
     "data": {
      "text/html": [
       "<pre>| 3175         | 1.34097      | 44m 49s      |</pre>"
      ],
      "text/plain": [
       "| 3175         | 1.34097      | 44m 49s      |"
      ]
     },
     "metadata": {},
     "output_type": "display_data"
    },
    {
     "data": {
      "text/html": [
       "<pre>| 3180         | 1.34078      | 44m 53s      |</pre>"
      ],
      "text/plain": [
       "| 3180         | 1.34078      | 44m 53s      |"
      ]
     },
     "metadata": {},
     "output_type": "display_data"
    },
    {
     "data": {
      "text/html": [
       "<pre>| 3185         | 1.29977      | 44m 57s      |</pre>"
      ],
      "text/plain": [
       "| 3185         | 1.29977      | 44m 57s      |"
      ]
     },
     "metadata": {},
     "output_type": "display_data"
    },
    {
     "data": {
      "text/html": [
       "<pre>| 3190         | 1.26858      | 45m 2s       |</pre>"
      ],
      "text/plain": [
       "| 3190         | 1.26858      | 45m 2s       |"
      ]
     },
     "metadata": {},
     "output_type": "display_data"
    },
    {
     "data": {
      "text/html": [
       "<pre>| 3195         | 1.33583      | 45m 6s       |</pre>"
      ],
      "text/plain": [
       "| 3195         | 1.33583      | 45m 6s       |"
      ]
     },
     "metadata": {},
     "output_type": "display_data"
    },
    {
     "data": {
      "text/html": [
       "<pre>| 3200         | 1.29615      | 45m 10s      |</pre>"
      ],
      "text/plain": [
       "| 3200         | 1.29615      | 45m 10s      |"
      ]
     },
     "metadata": {},
     "output_type": "display_data"
    },
    {
     "data": {
      "text/html": [
       "<pre>| 3205         | 1.26165      | 45m 14s      |</pre>"
      ],
      "text/plain": [
       "| 3205         | 1.26165      | 45m 14s      |"
      ]
     },
     "metadata": {},
     "output_type": "display_data"
    },
    {
     "data": {
      "text/html": [
       "<pre>| 3210         | 1.31705      | 45m 19s      |</pre>"
      ],
      "text/plain": [
       "| 3210         | 1.31705      | 45m 19s      |"
      ]
     },
     "metadata": {},
     "output_type": "display_data"
    },
    {
     "data": {
      "text/html": [
       "<pre>| 3215         | 1.34126      | 45m 23s      |</pre>"
      ],
      "text/plain": [
       "| 3215         | 1.34126      | 45m 23s      |"
      ]
     },
     "metadata": {},
     "output_type": "display_data"
    },
    {
     "data": {
      "text/html": [
       "<pre>| 3220         | 1.33774      | 45m 27s      |</pre>"
      ],
      "text/plain": [
       "| 3220         | 1.33774      | 45m 27s      |"
      ]
     },
     "metadata": {},
     "output_type": "display_data"
    },
    {
     "data": {
      "text/html": [
       "<pre>| 3225         | 1.35244      | 45m 31s      |</pre>"
      ],
      "text/plain": [
       "| 3225         | 1.35244      | 45m 31s      |"
      ]
     },
     "metadata": {},
     "output_type": "display_data"
    },
    {
     "data": {
      "text/html": [
       "<pre>| 3230         | 1.3187       | 45m 36s      |</pre>"
      ],
      "text/plain": [
       "| 3230         | 1.3187       | 45m 36s      |"
      ]
     },
     "metadata": {},
     "output_type": "display_data"
    },
    {
     "data": {
      "text/html": [
       "<pre>| 3235         | 1.36582      | 45m 40s      |</pre>"
      ],
      "text/plain": [
       "| 3235         | 1.36582      | 45m 40s      |"
      ]
     },
     "metadata": {},
     "output_type": "display_data"
    },
    {
     "data": {
      "text/html": [
       "<pre>| 3240         | 1.26699      | 45m 44s      |</pre>"
      ],
      "text/plain": [
       "| 3240         | 1.26699      | 45m 44s      |"
      ]
     },
     "metadata": {},
     "output_type": "display_data"
    },
    {
     "data": {
      "text/html": [
       "<pre>| 3245         | 1.29826      | 45m 48s      |</pre>"
      ],
      "text/plain": [
       "| 3245         | 1.29826      | 45m 48s      |"
      ]
     },
     "metadata": {},
     "output_type": "display_data"
    },
    {
     "data": {
      "text/html": [
       "<pre>| 3250         | 1.32489      | 45m 53s      |</pre>"
      ],
      "text/plain": [
       "| 3250         | 1.32489      | 45m 53s      |"
      ]
     },
     "metadata": {},
     "output_type": "display_data"
    },
    {
     "data": {
      "text/html": [
       "<pre>| 3255         | 1.30451      | 45m 57s      |</pre>"
      ],
      "text/plain": [
       "| 3255         | 1.30451      | 45m 57s      |"
      ]
     },
     "metadata": {},
     "output_type": "display_data"
    },
    {
     "data": {
      "text/html": [
       "<pre>| 3260         | 1.30892      | 46m 1s       |</pre>"
      ],
      "text/plain": [
       "| 3260         | 1.30892      | 46m 1s       |"
      ]
     },
     "metadata": {},
     "output_type": "display_data"
    },
    {
     "data": {
      "text/html": [
       "<pre>| 3265         | 1.25906      | 46m 5s       |</pre>"
      ],
      "text/plain": [
       "| 3265         | 1.25906      | 46m 5s       |"
      ]
     },
     "metadata": {},
     "output_type": "display_data"
    },
    {
     "data": {
      "text/html": [
       "<pre>| 3270         | 1.31093      | 46m 10s      |</pre>"
      ],
      "text/plain": [
       "| 3270         | 1.31093      | 46m 10s      |"
      ]
     },
     "metadata": {},
     "output_type": "display_data"
    },
    {
     "data": {
      "text/html": [
       "<pre>| 3275         | 1.32094      | 46m 14s      |</pre>"
      ],
      "text/plain": [
       "| 3275         | 1.32094      | 46m 14s      |"
      ]
     },
     "metadata": {},
     "output_type": "display_data"
    },
    {
     "data": {
      "text/html": [
       "<pre>| 3280         | 1.25553      | 46m 18s      |</pre>"
      ],
      "text/plain": [
       "| 3280         | 1.25553      | 46m 18s      |"
      ]
     },
     "metadata": {},
     "output_type": "display_data"
    },
    {
     "data": {
      "text/html": [
       "<pre>| 3285         | 1.25609      | 46m 22s      |</pre>"
      ],
      "text/plain": [
       "| 3285         | 1.25609      | 46m 22s      |"
      ]
     },
     "metadata": {},
     "output_type": "display_data"
    },
    {
     "data": {
      "text/html": [
       "<pre>| 3290         | 1.36474      | 46m 27s      |</pre>"
      ],
      "text/plain": [
       "| 3290         | 1.36474      | 46m 27s      |"
      ]
     },
     "metadata": {},
     "output_type": "display_data"
    },
    {
     "data": {
      "text/html": [
       "<pre>| 3295         | 1.31132      | 46m 31s      |</pre>"
      ],
      "text/plain": [
       "| 3295         | 1.31132      | 46m 31s      |"
      ]
     },
     "metadata": {},
     "output_type": "display_data"
    },
    {
     "data": {
      "text/html": [
       "<pre>| 3300         | 1.30752      | 46m 35s      |</pre>"
      ],
      "text/plain": [
       "| 3300         | 1.30752      | 46m 35s      |"
      ]
     },
     "metadata": {},
     "output_type": "display_data"
    },
    {
     "data": {
      "text/html": [
       "<pre>| 3305         | 1.35106      | 46m 39s      |</pre>"
      ],
      "text/plain": [
       "| 3305         | 1.35106      | 46m 39s      |"
      ]
     },
     "metadata": {},
     "output_type": "display_data"
    },
    {
     "data": {
      "text/html": [
       "<pre>| 3310         | 1.32863      | 46m 44s      |</pre>"
      ],
      "text/plain": [
       "| 3310         | 1.32863      | 46m 44s      |"
      ]
     },
     "metadata": {},
     "output_type": "display_data"
    },
    {
     "data": {
      "text/html": [
       "<pre>| 3315         | 1.32875      | 46m 48s      |</pre>"
      ],
      "text/plain": [
       "| 3315         | 1.32875      | 46m 48s      |"
      ]
     },
     "metadata": {},
     "output_type": "display_data"
    },
    {
     "data": {
      "text/html": [
       "<pre>| 3320         | 1.26627      | 46m 52s      |</pre>"
      ],
      "text/plain": [
       "| 3320         | 1.26627      | 46m 52s      |"
      ]
     },
     "metadata": {},
     "output_type": "display_data"
    },
    {
     "data": {
      "text/html": [
       "<pre>| 3325         | 1.30806      | 46m 56s      |</pre>"
      ],
      "text/plain": [
       "| 3325         | 1.30806      | 46m 56s      |"
      ]
     },
     "metadata": {},
     "output_type": "display_data"
    },
    {
     "data": {
      "text/html": [
       "<pre>| 3330         | 1.33252      | 47m 1s       |</pre>"
      ],
      "text/plain": [
       "| 3330         | 1.33252      | 47m 1s       |"
      ]
     },
     "metadata": {},
     "output_type": "display_data"
    },
    {
     "data": {
      "text/html": [
       "<pre>| 3335         | 1.32614      | 47m 6s       |</pre>"
      ],
      "text/plain": [
       "| 3335         | 1.32614      | 47m 6s       |"
      ]
     },
     "metadata": {},
     "output_type": "display_data"
    },
    {
     "data": {
      "text/html": [
       "<pre>| 3340         | 1.27955      | 47m 10s      |</pre>"
      ],
      "text/plain": [
       "| 3340         | 1.27955      | 47m 10s      |"
      ]
     },
     "metadata": {},
     "output_type": "display_data"
    },
    {
     "data": {
      "text/html": [
       "<pre>| 3345         | 1.28009      | 47m 14s      |</pre>"
      ],
      "text/plain": [
       "| 3345         | 1.28009      | 47m 14s      |"
      ]
     },
     "metadata": {},
     "output_type": "display_data"
    },
    {
     "data": {
      "text/html": [
       "<pre>| 3350         | 1.30929      | 47m 18s      |</pre>"
      ],
      "text/plain": [
       "| 3350         | 1.30929      | 47m 18s      |"
      ]
     },
     "metadata": {},
     "output_type": "display_data"
    },
    {
     "data": {
      "text/html": [
       "<pre>| 3355         | 1.34641      | 47m 22s      |</pre>"
      ],
      "text/plain": [
       "| 3355         | 1.34641      | 47m 22s      |"
      ]
     },
     "metadata": {},
     "output_type": "display_data"
    },
    {
     "data": {
      "text/html": [
       "<pre>| 3360         | 1.35037      | 47m 26s      |</pre>"
      ],
      "text/plain": [
       "| 3360         | 1.35037      | 47m 26s      |"
      ]
     },
     "metadata": {},
     "output_type": "display_data"
    },
    {
     "data": {
      "text/html": [
       "<pre>| 3365         | 1.36459      | 47m 30s      |</pre>"
      ],
      "text/plain": [
       "| 3365         | 1.36459      | 47m 30s      |"
      ]
     },
     "metadata": {},
     "output_type": "display_data"
    },
    {
     "data": {
      "text/html": [
       "<pre>| 3370         | 1.29851      | 47m 35s      |</pre>"
      ],
      "text/plain": [
       "| 3370         | 1.29851      | 47m 35s      |"
      ]
     },
     "metadata": {},
     "output_type": "display_data"
    },
    {
     "data": {
      "text/html": [
       "<pre>| 3375         | 1.30665      | 47m 39s      |</pre>"
      ],
      "text/plain": [
       "| 3375         | 1.30665      | 47m 39s      |"
      ]
     },
     "metadata": {},
     "output_type": "display_data"
    },
    {
     "data": {
      "text/html": [
       "<pre>| 3380         | 1.31267      | 47m 43s      |</pre>"
      ],
      "text/plain": [
       "| 3380         | 1.31267      | 47m 43s      |"
      ]
     },
     "metadata": {},
     "output_type": "display_data"
    },
    {
     "data": {
      "text/html": [
       "<pre>| 3385         | 1.26768      | 47m 47s      |</pre>"
      ],
      "text/plain": [
       "| 3385         | 1.26768      | 47m 47s      |"
      ]
     },
     "metadata": {},
     "output_type": "display_data"
    },
    {
     "data": {
      "text/html": [
       "<pre>| 3390         | 1.31048      | 47m 52s      |</pre>"
      ],
      "text/plain": [
       "| 3390         | 1.31048      | 47m 52s      |"
      ]
     },
     "metadata": {},
     "output_type": "display_data"
    },
    {
     "data": {
      "text/html": [
       "<pre>| 3395         | 1.37072      | 47m 57s      |</pre>"
      ],
      "text/plain": [
       "| 3395         | 1.37072      | 47m 57s      |"
      ]
     },
     "metadata": {},
     "output_type": "display_data"
    },
    {
     "data": {
      "text/html": [
       "<pre>| 3400         | 1.32477      | 48m 1s       |</pre>"
      ],
      "text/plain": [
       "| 3400         | 1.32477      | 48m 1s       |"
      ]
     },
     "metadata": {},
     "output_type": "display_data"
    },
    {
     "data": {
      "text/html": [
       "<pre>| 3405         | 1.26089      | 48m 5s       |</pre>"
      ],
      "text/plain": [
       "| 3405         | 1.26089      | 48m 5s       |"
      ]
     },
     "metadata": {},
     "output_type": "display_data"
    },
    {
     "data": {
      "text/html": [
       "<pre>| 3410         | 1.25728      | 48m 12s      |</pre>"
      ],
      "text/plain": [
       "| 3410         | 1.25728      | 48m 12s      |"
      ]
     },
     "metadata": {},
     "output_type": "display_data"
    },
    {
     "data": {
      "text/html": [
       "<pre>| 3415         | 1.39754      | 48m 17s      |</pre>"
      ],
      "text/plain": [
       "| 3415         | 1.39754      | 48m 17s      |"
      ]
     },
     "metadata": {},
     "output_type": "display_data"
    },
    {
     "data": {
      "text/html": [
       "<pre>| 3420         | 1.28873      | 48m 21s      |</pre>"
      ],
      "text/plain": [
       "| 3420         | 1.28873      | 48m 21s      |"
      ]
     },
     "metadata": {},
     "output_type": "display_data"
    },
    {
     "data": {
      "text/html": [
       "<pre>| 3425         | 1.28975      | 48m 26s      |</pre>"
      ],
      "text/plain": [
       "| 3425         | 1.28975      | 48m 26s      |"
      ]
     },
     "metadata": {},
     "output_type": "display_data"
    },
    {
     "data": {
      "text/html": [
       "<pre>| 3430         | 1.27532      | 48m 31s      |</pre>"
      ],
      "text/plain": [
       "| 3430         | 1.27532      | 48m 31s      |"
      ]
     },
     "metadata": {},
     "output_type": "display_data"
    },
    {
     "data": {
      "text/html": [
       "<pre>| 3435         | 1.26997      | 48m 35s      |</pre>"
      ],
      "text/plain": [
       "| 3435         | 1.26997      | 48m 35s      |"
      ]
     },
     "metadata": {},
     "output_type": "display_data"
    },
    {
     "data": {
      "text/html": [
       "<pre>| 3440         | 1.27619      | 48m 39s      |</pre>"
      ],
      "text/plain": [
       "| 3440         | 1.27619      | 48m 39s      |"
      ]
     },
     "metadata": {},
     "output_type": "display_data"
    },
    {
     "data": {
      "text/html": [
       "<pre>| 3445         | 1.36659      | 48m 43s      |</pre>"
      ],
      "text/plain": [
       "| 3445         | 1.36659      | 48m 43s      |"
      ]
     },
     "metadata": {},
     "output_type": "display_data"
    },
    {
     "data": {
      "text/html": [
       "<pre>| 3450         | 1.30945      | 48m 48s      |</pre>"
      ],
      "text/plain": [
       "| 3450         | 1.30945      | 48m 48s      |"
      ]
     },
     "metadata": {},
     "output_type": "display_data"
    },
    {
     "data": {
      "text/html": [
       "<pre>| 3455         | 1.28993      | 48m 53s      |</pre>"
      ],
      "text/plain": [
       "| 3455         | 1.28993      | 48m 53s      |"
      ]
     },
     "metadata": {},
     "output_type": "display_data"
    },
    {
     "data": {
      "text/html": [
       "<pre>| 3460         | 1.24594      | 48m 57s      |</pre>"
      ],
      "text/plain": [
       "| 3460         | 1.24594      | 48m 57s      |"
      ]
     },
     "metadata": {},
     "output_type": "display_data"
    },
    {
     "data": {
      "text/html": [
       "<pre>| 3465         | 1.2144       | 49m 1s       |</pre>"
      ],
      "text/plain": [
       "| 3465         | 1.2144       | 49m 1s       |"
      ]
     },
     "metadata": {},
     "output_type": "display_data"
    },
    {
     "data": {
      "text/html": [
       "<pre>| 3470         | 1.23153      | 49m 5s       |</pre>"
      ],
      "text/plain": [
       "| 3470         | 1.23153      | 49m 5s       |"
      ]
     },
     "metadata": {},
     "output_type": "display_data"
    },
    {
     "data": {
      "text/html": [
       "<pre>| 3475         | 1.24953      | 49m 9s       |</pre>"
      ],
      "text/plain": [
       "| 3475         | 1.24953      | 49m 9s       |"
      ]
     },
     "metadata": {},
     "output_type": "display_data"
    },
    {
     "data": {
      "text/html": [
       "<pre>| 3480         | 1.26548      | 49m 13s      |</pre>"
      ],
      "text/plain": [
       "| 3480         | 1.26548      | 49m 13s      |"
      ]
     },
     "metadata": {},
     "output_type": "display_data"
    },
    {
     "data": {
      "text/html": [
       "<pre>| 3485         | 1.19371      | 49m 17s      |</pre>"
      ],
      "text/plain": [
       "| 3485         | 1.19371      | 49m 17s      |"
      ]
     },
     "metadata": {},
     "output_type": "display_data"
    },
    {
     "data": {
      "text/html": [
       "<pre>| 3490         | 1.18757      | 49m 22s      |</pre>"
      ],
      "text/plain": [
       "| 3490         | 1.18757      | 49m 22s      |"
      ]
     },
     "metadata": {},
     "output_type": "display_data"
    },
    {
     "data": {
      "text/html": [
       "<pre>| 3495         | 1.19316      | 49m 26s      |</pre>"
      ],
      "text/plain": [
       "| 3495         | 1.19316      | 49m 26s      |"
      ]
     },
     "metadata": {},
     "output_type": "display_data"
    },
    {
     "data": {
      "text/html": [
       "<pre>| 3500         | 1.26259      | 49m 30s      |</pre>"
      ],
      "text/plain": [
       "| 3500         | 1.26259      | 49m 30s      |"
      ]
     },
     "metadata": {},
     "output_type": "display_data"
    },
    {
     "data": {
      "text/html": [
       "<pre>| 3505         | 1.2005       | 49m 34s      |</pre>"
      ],
      "text/plain": [
       "| 3505         | 1.2005       | 49m 34s      |"
      ]
     },
     "metadata": {},
     "output_type": "display_data"
    },
    {
     "data": {
      "text/html": [
       "<pre>| 3510         | 1.26402      | 49m 39s      |</pre>"
      ],
      "text/plain": [
       "| 3510         | 1.26402      | 49m 39s      |"
      ]
     },
     "metadata": {},
     "output_type": "display_data"
    },
    {
     "data": {
      "text/html": [
       "<pre>| 3515         | 1.28324      | 49m 43s      |</pre>"
      ],
      "text/plain": [
       "| 3515         | 1.28324      | 49m 43s      |"
      ]
     },
     "metadata": {},
     "output_type": "display_data"
    },
    {
     "data": {
      "text/html": [
       "<pre>| 3520         | 1.27124      | 49m 47s      |</pre>"
      ],
      "text/plain": [
       "| 3520         | 1.27124      | 49m 47s      |"
      ]
     },
     "metadata": {},
     "output_type": "display_data"
    },
    {
     "data": {
      "text/html": [
       "<pre>| 3525         | 1.25524      | 49m 51s      |</pre>"
      ],
      "text/plain": [
       "| 3525         | 1.25524      | 49m 51s      |"
      ]
     },
     "metadata": {},
     "output_type": "display_data"
    },
    {
     "data": {
      "text/html": [
       "<pre>| 3530         | 1.22417      | 49m 56s      |</pre>"
      ],
      "text/plain": [
       "| 3530         | 1.22417      | 49m 56s      |"
      ]
     },
     "metadata": {},
     "output_type": "display_data"
    },
    {
     "data": {
      "text/html": [
       "<pre>| 3535         | 1.1893       | 50m 0s       |</pre>"
      ],
      "text/plain": [
       "| 3535         | 1.1893       | 50m 0s       |"
      ]
     },
     "metadata": {},
     "output_type": "display_data"
    },
    {
     "data": {
      "text/html": [
       "<pre>| 3540         | 1.21193      | 50m 4s       |</pre>"
      ],
      "text/plain": [
       "| 3540         | 1.21193      | 50m 4s       |"
      ]
     },
     "metadata": {},
     "output_type": "display_data"
    },
    {
     "data": {
      "text/html": [
       "<pre>| 3545         | 1.22719      | 50m 8s       |</pre>"
      ],
      "text/plain": [
       "| 3545         | 1.22719      | 50m 8s       |"
      ]
     },
     "metadata": {},
     "output_type": "display_data"
    },
    {
     "data": {
      "text/html": [
       "<pre>| 3550         | 1.21684      | 50m 12s      |</pre>"
      ],
      "text/plain": [
       "| 3550         | 1.21684      | 50m 12s      |"
      ]
     },
     "metadata": {},
     "output_type": "display_data"
    },
    {
     "data": {
      "text/html": [
       "<pre>| 3555         | 1.25073      | 50m 17s      |</pre>"
      ],
      "text/plain": [
       "| 3555         | 1.25073      | 50m 17s      |"
      ]
     },
     "metadata": {},
     "output_type": "display_data"
    },
    {
     "data": {
      "text/html": [
       "<pre>| 3560         | 1.24194      | 50m 21s      |</pre>"
      ],
      "text/plain": [
       "| 3560         | 1.24194      | 50m 21s      |"
      ]
     },
     "metadata": {},
     "output_type": "display_data"
    },
    {
     "data": {
      "text/html": [
       "<pre>| 3565         | 1.24103      | 50m 25s      |</pre>"
      ],
      "text/plain": [
       "| 3565         | 1.24103      | 50m 25s      |"
      ]
     },
     "metadata": {},
     "output_type": "display_data"
    },
    {
     "data": {
      "text/html": [
       "<pre>| 3570         | 1.32261      | 50m 29s      |</pre>"
      ],
      "text/plain": [
       "| 3570         | 1.32261      | 50m 29s      |"
      ]
     },
     "metadata": {},
     "output_type": "display_data"
    },
    {
     "data": {
      "text/html": [
       "<pre>| 3575         | 1.27573      | 50m 34s      |</pre>"
      ],
      "text/plain": [
       "| 3575         | 1.27573      | 50m 34s      |"
      ]
     },
     "metadata": {},
     "output_type": "display_data"
    },
    {
     "data": {
      "text/html": [
       "<pre>| 3580         | 1.29249      | 50m 38s      |</pre>"
      ],
      "text/plain": [
       "| 3580         | 1.29249      | 50m 38s      |"
      ]
     },
     "metadata": {},
     "output_type": "display_data"
    },
    {
     "data": {
      "text/html": [
       "<pre>| 3585         | 1.35857      | 50m 42s      |</pre>"
      ],
      "text/plain": [
       "| 3585         | 1.35857      | 50m 42s      |"
      ]
     },
     "metadata": {},
     "output_type": "display_data"
    },
    {
     "data": {
      "text/html": [
       "<pre>| 3590         | 1.31667      | 50m 46s      |</pre>"
      ],
      "text/plain": [
       "| 3590         | 1.31667      | 50m 46s      |"
      ]
     },
     "metadata": {},
     "output_type": "display_data"
    },
    {
     "data": {
      "text/html": [
       "<pre>| 3595         | 1.20302      | 50m 51s      |</pre>"
      ],
      "text/plain": [
       "| 3595         | 1.20302      | 50m 51s      |"
      ]
     },
     "metadata": {},
     "output_type": "display_data"
    },
    {
     "data": {
      "text/html": [
       "<pre>| 3600         | 1.20511      | 50m 55s      |</pre>"
      ],
      "text/plain": [
       "| 3600         | 1.20511      | 50m 55s      |"
      ]
     },
     "metadata": {},
     "output_type": "display_data"
    },
    {
     "data": {
      "text/html": [
       "<pre>| 3605         | 1.27944      | 50m 59s      |</pre>"
      ],
      "text/plain": [
       "| 3605         | 1.27944      | 50m 59s      |"
      ]
     },
     "metadata": {},
     "output_type": "display_data"
    },
    {
     "data": {
      "text/html": [
       "<pre>| 3610         | 1.27523      | 51m 3s       |</pre>"
      ],
      "text/plain": [
       "| 3610         | 1.27523      | 51m 3s       |"
      ]
     },
     "metadata": {},
     "output_type": "display_data"
    },
    {
     "data": {
      "text/html": [
       "<pre>| 3615         | 1.26484      | 51m 8s       |</pre>"
      ],
      "text/plain": [
       "| 3615         | 1.26484      | 51m 8s       |"
      ]
     },
     "metadata": {},
     "output_type": "display_data"
    },
    {
     "data": {
      "text/html": [
       "<pre>| 3620         | 1.24606      | 51m 12s      |</pre>"
      ],
      "text/plain": [
       "| 3620         | 1.24606      | 51m 12s      |"
      ]
     },
     "metadata": {},
     "output_type": "display_data"
    },
    {
     "data": {
      "text/html": [
       "<pre>| 3625         | 1.26464      | 51m 16s      |</pre>"
      ],
      "text/plain": [
       "| 3625         | 1.26464      | 51m 16s      |"
      ]
     },
     "metadata": {},
     "output_type": "display_data"
    },
    {
     "data": {
      "text/html": [
       "<pre>| 3630         | 1.27261      | 51m 20s      |</pre>"
      ],
      "text/plain": [
       "| 3630         | 1.27261      | 51m 20s      |"
      ]
     },
     "metadata": {},
     "output_type": "display_data"
    },
    {
     "data": {
      "text/html": [
       "<pre>| 3635         | 1.30699      | 51m 25s      |</pre>"
      ],
      "text/plain": [
       "| 3635         | 1.30699      | 51m 25s      |"
      ]
     },
     "metadata": {},
     "output_type": "display_data"
    },
    {
     "data": {
      "text/html": [
       "<pre>| 3640         | 1.31575      | 51m 29s      |</pre>"
      ],
      "text/plain": [
       "| 3640         | 1.31575      | 51m 29s      |"
      ]
     },
     "metadata": {},
     "output_type": "display_data"
    },
    {
     "data": {
      "text/html": [
       "<pre>| 3645         | 1.26785      | 51m 34s      |</pre>"
      ],
      "text/plain": [
       "| 3645         | 1.26785      | 51m 34s      |"
      ]
     },
     "metadata": {},
     "output_type": "display_data"
    },
    {
     "data": {
      "text/html": [
       "<pre>| 3650         | 1.29661      | 51m 39s      |</pre>"
      ],
      "text/plain": [
       "| 3650         | 1.29661      | 51m 39s      |"
      ]
     },
     "metadata": {},
     "output_type": "display_data"
    },
    {
     "data": {
      "text/html": [
       "<pre>| 3655         | 1.23557      | 51m 45s      |</pre>"
      ],
      "text/plain": [
       "| 3655         | 1.23557      | 51m 45s      |"
      ]
     },
     "metadata": {},
     "output_type": "display_data"
    },
    {
     "data": {
      "text/html": [
       "<pre>| 3660         | 1.25451      | 51m 49s      |</pre>"
      ],
      "text/plain": [
       "| 3660         | 1.25451      | 51m 49s      |"
      ]
     },
     "metadata": {},
     "output_type": "display_data"
    },
    {
     "data": {
      "text/html": [
       "<pre>| 3665         | 1.3114       | 51m 53s      |</pre>"
      ],
      "text/plain": [
       "| 3665         | 1.3114       | 51m 53s      |"
      ]
     },
     "metadata": {},
     "output_type": "display_data"
    },
    {
     "data": {
      "text/html": [
       "<pre>| 3670         | 1.33474      | 51m 57s      |</pre>"
      ],
      "text/plain": [
       "| 3670         | 1.33474      | 51m 57s      |"
      ]
     },
     "metadata": {},
     "output_type": "display_data"
    },
    {
     "data": {
      "text/html": [
       "<pre>| 3675         | 1.27518      | 52m 2s       |</pre>"
      ],
      "text/plain": [
       "| 3675         | 1.27518      | 52m 2s       |"
      ]
     },
     "metadata": {},
     "output_type": "display_data"
    },
    {
     "data": {
      "text/html": [
       "<pre>| 3680         | 1.256        | 52m 6s       |</pre>"
      ],
      "text/plain": [
       "| 3680         | 1.256        | 52m 6s       |"
      ]
     },
     "metadata": {},
     "output_type": "display_data"
    },
    {
     "data": {
      "text/html": [
       "<pre>| 3685         | 1.2884       | 52m 10s      |</pre>"
      ],
      "text/plain": [
       "| 3685         | 1.2884       | 52m 10s      |"
      ]
     },
     "metadata": {},
     "output_type": "display_data"
    },
    {
     "data": {
      "text/html": [
       "<pre>| 3690         | 1.29819      | 52m 14s      |</pre>"
      ],
      "text/plain": [
       "| 3690         | 1.29819      | 52m 14s      |"
      ]
     },
     "metadata": {},
     "output_type": "display_data"
    },
    {
     "data": {
      "text/html": [
       "<pre>| 3695         | 1.3482       | 52m 19s      |</pre>"
      ],
      "text/plain": [
       "| 3695         | 1.3482       | 52m 19s      |"
      ]
     },
     "metadata": {},
     "output_type": "display_data"
    },
    {
     "data": {
      "text/html": [
       "<pre>| 3700         | 1.32169      | 52m 23s      |</pre>"
      ],
      "text/plain": [
       "| 3700         | 1.32169      | 52m 23s      |"
      ]
     },
     "metadata": {},
     "output_type": "display_data"
    },
    {
     "data": {
      "text/html": [
       "<pre>| 3705         | 1.26949      | 52m 27s      |</pre>"
      ],
      "text/plain": [
       "| 3705         | 1.26949      | 52m 27s      |"
      ]
     },
     "metadata": {},
     "output_type": "display_data"
    },
    {
     "data": {
      "text/html": [
       "<pre>| 3710         | 1.26147      | 52m 31s      |</pre>"
      ],
      "text/plain": [
       "| 3710         | 1.26147      | 52m 31s      |"
      ]
     },
     "metadata": {},
     "output_type": "display_data"
    },
    {
     "data": {
      "text/html": [
       "<pre>| 3715         | 1.1672       | 52m 35s      |</pre>"
      ],
      "text/plain": [
       "| 3715         | 1.1672       | 52m 35s      |"
      ]
     },
     "metadata": {},
     "output_type": "display_data"
    },
    {
     "data": {
      "text/html": [
       "<pre>| 3720         | 1.28142      | 52m 39s      |</pre>"
      ],
      "text/plain": [
       "| 3720         | 1.28142      | 52m 39s      |"
      ]
     },
     "metadata": {},
     "output_type": "display_data"
    },
    {
     "data": {
      "text/html": [
       "<pre>| 3725         | 1.27725      | 52m 43s      |</pre>"
      ],
      "text/plain": [
       "| 3725         | 1.27725      | 52m 43s      |"
      ]
     },
     "metadata": {},
     "output_type": "display_data"
    },
    {
     "data": {
      "text/html": [
       "<pre>| 3730         | 1.27381      | 52m 47s      |</pre>"
      ],
      "text/plain": [
       "| 3730         | 1.27381      | 52m 47s      |"
      ]
     },
     "metadata": {},
     "output_type": "display_data"
    },
    {
     "data": {
      "text/html": [
       "<pre>| 3735         | 1.22024      | 52m 51s      |</pre>"
      ],
      "text/plain": [
       "| 3735         | 1.22024      | 52m 51s      |"
      ]
     },
     "metadata": {},
     "output_type": "display_data"
    },
    {
     "data": {
      "text/html": [
       "<pre>| 3740         | 1.26087      | 52m 55s      |</pre>"
      ],
      "text/plain": [
       "| 3740         | 1.26087      | 52m 55s      |"
      ]
     },
     "metadata": {},
     "output_type": "display_data"
    },
    {
     "data": {
      "text/html": [
       "<pre>| 3745         | 1.2531       | 52m 59s      |</pre>"
      ],
      "text/plain": [
       "| 3745         | 1.2531       | 52m 59s      |"
      ]
     },
     "metadata": {},
     "output_type": "display_data"
    },
    {
     "data": {
      "text/html": [
       "<pre>| 3750         | 1.26155      | 53m 3s       |</pre>"
      ],
      "text/plain": [
       "| 3750         | 1.26155      | 53m 3s       |"
      ]
     },
     "metadata": {},
     "output_type": "display_data"
    },
    {
     "data": {
      "text/html": [
       "<pre>| 3755         | 1.21719      | 53m 8s       |</pre>"
      ],
      "text/plain": [
       "| 3755         | 1.21719      | 53m 8s       |"
      ]
     },
     "metadata": {},
     "output_type": "display_data"
    },
    {
     "data": {
      "text/html": [
       "<pre>| 3760         | 1.22649      | 53m 12s      |</pre>"
      ],
      "text/plain": [
       "| 3760         | 1.22649      | 53m 12s      |"
      ]
     },
     "metadata": {},
     "output_type": "display_data"
    },
    {
     "data": {
      "text/html": [
       "<pre>| 3765         | 1.24368      | 53m 16s      |</pre>"
      ],
      "text/plain": [
       "| 3765         | 1.24368      | 53m 16s      |"
      ]
     },
     "metadata": {},
     "output_type": "display_data"
    },
    {
     "data": {
      "text/html": [
       "<pre>| 3770         | 1.30432      | 53m 20s      |</pre>"
      ],
      "text/plain": [
       "| 3770         | 1.30432      | 53m 20s      |"
      ]
     },
     "metadata": {},
     "output_type": "display_data"
    },
    {
     "data": {
      "text/html": [
       "<pre>| 3775         | 1.29851      | 53m 24s      |</pre>"
      ],
      "text/plain": [
       "| 3775         | 1.29851      | 53m 24s      |"
      ]
     },
     "metadata": {},
     "output_type": "display_data"
    },
    {
     "data": {
      "text/html": [
       "<pre>| 3780         | 1.32253      | 53m 28s      |</pre>"
      ],
      "text/plain": [
       "| 3780         | 1.32253      | 53m 28s      |"
      ]
     },
     "metadata": {},
     "output_type": "display_data"
    },
    {
     "data": {
      "text/html": [
       "<pre>| 3785         | 1.24666      | 53m 32s      |</pre>"
      ],
      "text/plain": [
       "| 3785         | 1.24666      | 53m 32s      |"
      ]
     },
     "metadata": {},
     "output_type": "display_data"
    },
    {
     "data": {
      "text/html": [
       "<pre>| 3790         | 1.28878      | 53m 36s      |</pre>"
      ],
      "text/plain": [
       "| 3790         | 1.28878      | 53m 36s      |"
      ]
     },
     "metadata": {},
     "output_type": "display_data"
    },
    {
     "data": {
      "text/html": [
       "<pre>| 3795         | 1.32076      | 53m 41s      |</pre>"
      ],
      "text/plain": [
       "| 3795         | 1.32076      | 53m 41s      |"
      ]
     },
     "metadata": {},
     "output_type": "display_data"
    },
    {
     "data": {
      "text/html": [
       "<pre>| 3800         | 1.24843      | 53m 45s      |</pre>"
      ],
      "text/plain": [
       "| 3800         | 1.24843      | 53m 45s      |"
      ]
     },
     "metadata": {},
     "output_type": "display_data"
    },
    {
     "data": {
      "text/html": [
       "<pre>| 3805         | 1.21991      | 53m 49s      |</pre>"
      ],
      "text/plain": [
       "| 3805         | 1.21991      | 53m 49s      |"
      ]
     },
     "metadata": {},
     "output_type": "display_data"
    },
    {
     "data": {
      "text/html": [
       "<pre>| 3810         | 1.24756      | 53m 53s      |</pre>"
      ],
      "text/plain": [
       "| 3810         | 1.24756      | 53m 53s      |"
      ]
     },
     "metadata": {},
     "output_type": "display_data"
    },
    {
     "data": {
      "text/html": [
       "<pre>| 3815         | 1.35146      | 53m 58s      |</pre>"
      ],
      "text/plain": [
       "| 3815         | 1.35146      | 53m 58s      |"
      ]
     },
     "metadata": {},
     "output_type": "display_data"
    },
    {
     "data": {
      "text/html": [
       "<pre>| 3820         | 1.26699      | 54m 2s       |</pre>"
      ],
      "text/plain": [
       "| 3820         | 1.26699      | 54m 2s       |"
      ]
     },
     "metadata": {},
     "output_type": "display_data"
    },
    {
     "data": {
      "text/html": [
       "<pre>| 3825         | 1.24019      | 54m 6s       |</pre>"
      ],
      "text/plain": [
       "| 3825         | 1.24019      | 54m 6s       |"
      ]
     },
     "metadata": {},
     "output_type": "display_data"
    },
    {
     "data": {
      "text/html": [
       "<pre>| 3830         | 1.16972      | 54m 10s      |</pre>"
      ],
      "text/plain": [
       "| 3830         | 1.16972      | 54m 10s      |"
      ]
     },
     "metadata": {},
     "output_type": "display_data"
    },
    {
     "data": {
      "text/html": [
       "<pre>| 3835         | 1.16336      | 54m 16s      |</pre>"
      ],
      "text/plain": [
       "| 3835         | 1.16336      | 54m 16s      |"
      ]
     },
     "metadata": {},
     "output_type": "display_data"
    },
    {
     "data": {
      "text/html": [
       "<pre>| 3840         | 1.19851      | 54m 20s      |</pre>"
      ],
      "text/plain": [
       "| 3840         | 1.19851      | 54m 20s      |"
      ]
     },
     "metadata": {},
     "output_type": "display_data"
    },
    {
     "data": {
      "text/html": [
       "<pre>| 3845         | 1.18257      | 54m 24s      |</pre>"
      ],
      "text/plain": [
       "| 3845         | 1.18257      | 54m 24s      |"
      ]
     },
     "metadata": {},
     "output_type": "display_data"
    },
    {
     "data": {
      "text/html": [
       "<pre>| 3850         | 1.17627      | 54m 28s      |</pre>"
      ],
      "text/plain": [
       "| 3850         | 1.17627      | 54m 28s      |"
      ]
     },
     "metadata": {},
     "output_type": "display_data"
    },
    {
     "data": {
      "text/html": [
       "<pre>| 3855         | 1.18042      | 54m 34s      |</pre>"
      ],
      "text/plain": [
       "| 3855         | 1.18042      | 54m 34s      |"
      ]
     },
     "metadata": {},
     "output_type": "display_data"
    },
    {
     "data": {
      "text/html": [
       "<pre>| 3860         | 1.20276      | 54m 39s      |</pre>"
      ],
      "text/plain": [
       "| 3860         | 1.20276      | 54m 39s      |"
      ]
     },
     "metadata": {},
     "output_type": "display_data"
    },
    {
     "data": {
      "text/html": [
       "<pre>| 3865         | 1.16932      | 54m 43s      |</pre>"
      ],
      "text/plain": [
       "| 3865         | 1.16932      | 54m 43s      |"
      ]
     },
     "metadata": {},
     "output_type": "display_data"
    },
    {
     "data": {
      "text/html": [
       "<pre>| 3870         | 1.182        | 54m 47s      |</pre>"
      ],
      "text/plain": [
       "| 3870         | 1.182        | 54m 47s      |"
      ]
     },
     "metadata": {},
     "output_type": "display_data"
    },
    {
     "data": {
      "text/html": [
       "<pre>| 3875         | 1.21406      | 54m 52s      |</pre>"
      ],
      "text/plain": [
       "| 3875         | 1.21406      | 54m 52s      |"
      ]
     },
     "metadata": {},
     "output_type": "display_data"
    },
    {
     "data": {
      "text/html": [
       "<pre>| 3880         | 1.19105      | 54m 56s      |</pre>"
      ],
      "text/plain": [
       "| 3880         | 1.19105      | 54m 56s      |"
      ]
     },
     "metadata": {},
     "output_type": "display_data"
    },
    {
     "data": {
      "text/html": [
       "<pre>| 3885         | 1.23863      | 55m 0s       |</pre>"
      ],
      "text/plain": [
       "| 3885         | 1.23863      | 55m 0s       |"
      ]
     },
     "metadata": {},
     "output_type": "display_data"
    },
    {
     "data": {
      "text/html": [
       "<pre>| 3890         | 1.2287       | 55m 4s       |</pre>"
      ],
      "text/plain": [
       "| 3890         | 1.2287       | 55m 4s       |"
      ]
     },
     "metadata": {},
     "output_type": "display_data"
    },
    {
     "data": {
      "text/html": [
       "<pre>| 3895         | 1.21435      | 55m 9s       |</pre>"
      ],
      "text/plain": [
       "| 3895         | 1.21435      | 55m 9s       |"
      ]
     },
     "metadata": {},
     "output_type": "display_data"
    },
    {
     "data": {
      "text/html": [
       "<pre>| 3900         | 1.21265      | 55m 13s      |</pre>"
      ],
      "text/plain": [
       "| 3900         | 1.21265      | 55m 13s      |"
      ]
     },
     "metadata": {},
     "output_type": "display_data"
    },
    {
     "data": {
      "text/html": [
       "<pre>| 3905         | 1.19328      | 55m 17s      |</pre>"
      ],
      "text/plain": [
       "| 3905         | 1.19328      | 55m 17s      |"
      ]
     },
     "metadata": {},
     "output_type": "display_data"
    },
    {
     "data": {
      "text/html": [
       "<pre>| 3910         | 1.23442      | 55m 21s      |</pre>"
      ],
      "text/plain": [
       "| 3910         | 1.23442      | 55m 21s      |"
      ]
     },
     "metadata": {},
     "output_type": "display_data"
    },
    {
     "data": {
      "text/html": [
       "<pre>| 3915         | 1.1819       | 55m 26s      |</pre>"
      ],
      "text/plain": [
       "| 3915         | 1.1819       | 55m 26s      |"
      ]
     },
     "metadata": {},
     "output_type": "display_data"
    },
    {
     "data": {
      "text/html": [
       "<pre>| 3920         | 1.14814      | 55m 29s      |</pre>"
      ],
      "text/plain": [
       "| 3920         | 1.14814      | 55m 29s      |"
      ]
     },
     "metadata": {},
     "output_type": "display_data"
    },
    {
     "data": {
      "text/html": [
       "<pre>| 3925         | 1.14105      | 55m 33s      |</pre>"
      ],
      "text/plain": [
       "| 3925         | 1.14105      | 55m 33s      |"
      ]
     },
     "metadata": {},
     "output_type": "display_data"
    },
    {
     "data": {
      "text/html": [
       "<pre>| 3930         | 1.21626      | 55m 37s      |</pre>"
      ],
      "text/plain": [
       "| 3930         | 1.21626      | 55m 37s      |"
      ]
     },
     "metadata": {},
     "output_type": "display_data"
    },
    {
     "data": {
      "text/html": [
       "<pre>| 3935         | 1.21817      | 55m 42s      |</pre>"
      ],
      "text/plain": [
       "| 3935         | 1.21817      | 55m 42s      |"
      ]
     },
     "metadata": {},
     "output_type": "display_data"
    },
    {
     "data": {
      "text/html": [
       "<pre>| 3940         | 1.23316      | 55m 46s      |</pre>"
      ],
      "text/plain": [
       "| 3940         | 1.23316      | 55m 46s      |"
      ]
     },
     "metadata": {},
     "output_type": "display_data"
    },
    {
     "data": {
      "text/html": [
       "<pre>| 3945         | 1.24947      | 55m 50s      |</pre>"
      ],
      "text/plain": [
       "| 3945         | 1.24947      | 55m 50s      |"
      ]
     },
     "metadata": {},
     "output_type": "display_data"
    },
    {
     "data": {
      "text/html": [
       "<pre>| 3950         | 1.16669      | 55m 54s      |</pre>"
      ],
      "text/plain": [
       "| 3950         | 1.16669      | 55m 54s      |"
      ]
     },
     "metadata": {},
     "output_type": "display_data"
    },
    {
     "data": {
      "text/html": [
       "<pre>| 3955         | 1.08705      | 55m 58s      |</pre>"
      ],
      "text/plain": [
       "| 3955         | 1.08705      | 55m 58s      |"
      ]
     },
     "metadata": {},
     "output_type": "display_data"
    },
    {
     "data": {
      "text/html": [
       "<pre>| 3960         | 1.12653      | 56m 2s       |</pre>"
      ],
      "text/plain": [
       "| 3960         | 1.12653      | 56m 2s       |"
      ]
     },
     "metadata": {},
     "output_type": "display_data"
    },
    {
     "data": {
      "text/html": [
       "<pre>| 3965         | 1.15496      | 56m 6s       |</pre>"
      ],
      "text/plain": [
       "| 3965         | 1.15496      | 56m 6s       |"
      ]
     },
     "metadata": {},
     "output_type": "display_data"
    },
    {
     "data": {
      "text/html": [
       "<pre>| 3970         | 1.20192      | 56m 10s      |</pre>"
      ],
      "text/plain": [
       "| 3970         | 1.20192      | 56m 10s      |"
      ]
     },
     "metadata": {},
     "output_type": "display_data"
    },
    {
     "data": {
      "text/html": [
       "<pre>| 3975         | 1.31133      | 56m 15s      |</pre>"
      ],
      "text/plain": [
       "| 3975         | 1.31133      | 56m 15s      |"
      ]
     },
     "metadata": {},
     "output_type": "display_data"
    },
    {
     "data": {
      "text/html": [
       "<pre>| 3980         | 1.24592      | 56m 19s      |</pre>"
      ],
      "text/plain": [
       "| 3980         | 1.24592      | 56m 19s      |"
      ]
     },
     "metadata": {},
     "output_type": "display_data"
    },
    {
     "data": {
      "text/html": [
       "<pre>| 3985         | 1.18168      | 56m 23s      |</pre>"
      ],
      "text/plain": [
       "| 3985         | 1.18168      | 56m 23s      |"
      ]
     },
     "metadata": {},
     "output_type": "display_data"
    },
    {
     "data": {
      "text/html": [
       "<pre>| 3990         | 1.21371      | 56m 27s      |</pre>"
      ],
      "text/plain": [
       "| 3990         | 1.21371      | 56m 27s      |"
      ]
     },
     "metadata": {},
     "output_type": "display_data"
    },
    {
     "data": {
      "text/html": [
       "<pre>| 3995         | 1.17471      | 56m 31s      |</pre>"
      ],
      "text/plain": [
       "| 3995         | 1.17471      | 56m 31s      |"
      ]
     },
     "metadata": {},
     "output_type": "display_data"
    },
    {
     "data": {
      "text/html": [
       "<pre>| 4000         | 1.24504      | 56m 35s      |</pre>"
      ],
      "text/plain": [
       "| 4000         | 1.24504      | 56m 35s      |"
      ]
     },
     "metadata": {},
     "output_type": "display_data"
    },
    {
     "data": {
      "text/html": [
       "<pre>| 4005         | 1.23697      | 56m 39s      |</pre>"
      ],
      "text/plain": [
       "| 4005         | 1.23697      | 56m 39s      |"
      ]
     },
     "metadata": {},
     "output_type": "display_data"
    },
    {
     "data": {
      "text/html": [
       "<pre>| 4010         | 1.18689      | 56m 44s      |</pre>"
      ],
      "text/plain": [
       "| 4010         | 1.18689      | 56m 44s      |"
      ]
     },
     "metadata": {},
     "output_type": "display_data"
    },
    {
     "data": {
      "text/html": [
       "<pre>| 4015         | 1.15853      | 56m 50s      |</pre>"
      ],
      "text/plain": [
       "| 4015         | 1.15853      | 56m 50s      |"
      ]
     },
     "metadata": {},
     "output_type": "display_data"
    },
    {
     "data": {
      "text/html": [
       "<pre>| 4020         | 1.25421      | 56m 55s      |</pre>"
      ],
      "text/plain": [
       "| 4020         | 1.25421      | 56m 55s      |"
      ]
     },
     "metadata": {},
     "output_type": "display_data"
    },
    {
     "data": {
      "text/html": [
       "<pre>| 4025         | 1.20994      | 56m 59s      |</pre>"
      ],
      "text/plain": [
       "| 4025         | 1.20994      | 56m 59s      |"
      ]
     },
     "metadata": {},
     "output_type": "display_data"
    },
    {
     "data": {
      "text/html": [
       "<pre>| 4030         | 1.2259       | 57m 3s       |</pre>"
      ],
      "text/plain": [
       "| 4030         | 1.2259       | 57m 3s       |"
      ]
     },
     "metadata": {},
     "output_type": "display_data"
    },
    {
     "data": {
      "text/html": [
       "<pre>| 4035         | 1.17959      | 57m 8s       |</pre>"
      ],
      "text/plain": [
       "| 4035         | 1.17959      | 57m 8s       |"
      ]
     },
     "metadata": {},
     "output_type": "display_data"
    },
    {
     "data": {
      "text/html": [
       "<pre>| 4040         | 1.13082      | 57m 12s      |</pre>"
      ],
      "text/plain": [
       "| 4040         | 1.13082      | 57m 12s      |"
      ]
     },
     "metadata": {},
     "output_type": "display_data"
    },
    {
     "data": {
      "text/html": [
       "<pre>| 4045         | 1.13551      | 57m 16s      |</pre>"
      ],
      "text/plain": [
       "| 4045         | 1.13551      | 57m 16s      |"
      ]
     },
     "metadata": {},
     "output_type": "display_data"
    },
    {
     "data": {
      "text/html": [
       "<pre>| 4050         | 1.19627      | 57m 20s      |</pre>"
      ],
      "text/plain": [
       "| 4050         | 1.19627      | 57m 20s      |"
      ]
     },
     "metadata": {},
     "output_type": "display_data"
    },
    {
     "data": {
      "text/html": [
       "<pre>| 4055         | 1.18362      | 57m 25s      |</pre>"
      ],
      "text/plain": [
       "| 4055         | 1.18362      | 57m 25s      |"
      ]
     },
     "metadata": {},
     "output_type": "display_data"
    },
    {
     "data": {
      "text/html": [
       "<pre>| 4060         | 1.24971      | 57m 29s      |</pre>"
      ],
      "text/plain": [
       "| 4060         | 1.24971      | 57m 29s      |"
      ]
     },
     "metadata": {},
     "output_type": "display_data"
    },
    {
     "data": {
      "text/html": [
       "<pre>| 4065         | 1.22818      | 57m 33s      |</pre>"
      ],
      "text/plain": [
       "| 4065         | 1.22818      | 57m 33s      |"
      ]
     },
     "metadata": {},
     "output_type": "display_data"
    },
    {
     "data": {
      "text/html": [
       "<pre>| 4070         | 1.14332      | 57m 37s      |</pre>"
      ],
      "text/plain": [
       "| 4070         | 1.14332      | 57m 37s      |"
      ]
     },
     "metadata": {},
     "output_type": "display_data"
    },
    {
     "data": {
      "text/html": [
       "<pre>| 4075         | 1.16304      | 57m 42s      |</pre>"
      ],
      "text/plain": [
       "| 4075         | 1.16304      | 57m 42s      |"
      ]
     },
     "metadata": {},
     "output_type": "display_data"
    },
    {
     "data": {
      "text/html": [
       "<pre>| 4080         | 1.16431      | 57m 46s      |</pre>"
      ],
      "text/plain": [
       "| 4080         | 1.16431      | 57m 46s      |"
      ]
     },
     "metadata": {},
     "output_type": "display_data"
    },
    {
     "data": {
      "text/html": [
       "<pre>| 4085         | 1.137        | 57m 50s      |</pre>"
      ],
      "text/plain": [
       "| 4085         | 1.137        | 57m 50s      |"
      ]
     },
     "metadata": {},
     "output_type": "display_data"
    },
    {
     "data": {
      "text/html": [
       "<pre>| 4090         | 1.16831      | 57m 54s      |</pre>"
      ],
      "text/plain": [
       "| 4090         | 1.16831      | 57m 54s      |"
      ]
     },
     "metadata": {},
     "output_type": "display_data"
    },
    {
     "data": {
      "text/html": [
       "<pre>| 4095         | 1.25111      | 57m 59s      |</pre>"
      ],
      "text/plain": [
       "| 4095         | 1.25111      | 57m 59s      |"
      ]
     },
     "metadata": {},
     "output_type": "display_data"
    },
    {
     "data": {
      "text/html": [
       "<pre>| 4100         | 1.19322      | 58m 3s       |</pre>"
      ],
      "text/plain": [
       "| 4100         | 1.19322      | 58m 3s       |"
      ]
     },
     "metadata": {},
     "output_type": "display_data"
    },
    {
     "data": {
      "text/html": [
       "<pre>| 4105         | 1.13447      | 58m 7s       |</pre>"
      ],
      "text/plain": [
       "| 4105         | 1.13447      | 58m 7s       |"
      ]
     },
     "metadata": {},
     "output_type": "display_data"
    },
    {
     "data": {
      "text/html": [
       "<pre>| 4110         | 1.17139      | 58m 11s      |</pre>"
      ],
      "text/plain": [
       "| 4110         | 1.17139      | 58m 11s      |"
      ]
     },
     "metadata": {},
     "output_type": "display_data"
    },
    {
     "data": {
      "text/html": [
       "<pre>| 4115         | 1.1928       | 58m 15s      |</pre>"
      ],
      "text/plain": [
       "| 4115         | 1.1928       | 58m 15s      |"
      ]
     },
     "metadata": {},
     "output_type": "display_data"
    },
    {
     "data": {
      "text/html": [
       "<pre>| 4120         | 1.13695      | 58m 19s      |</pre>"
      ],
      "text/plain": [
       "| 4120         | 1.13695      | 58m 19s      |"
      ]
     },
     "metadata": {},
     "output_type": "display_data"
    },
    {
     "data": {
      "text/html": [
       "<pre>| 4125         | 1.13968      | 58m 23s      |</pre>"
      ],
      "text/plain": [
       "| 4125         | 1.13968      | 58m 23s      |"
      ]
     },
     "metadata": {},
     "output_type": "display_data"
    },
    {
     "data": {
      "text/html": [
       "<pre>| 4130         | 1.13683      | 58m 27s      |</pre>"
      ],
      "text/plain": [
       "| 4130         | 1.13683      | 58m 27s      |"
      ]
     },
     "metadata": {},
     "output_type": "display_data"
    },
    {
     "data": {
      "text/html": [
       "<pre>| 4135         | 1.18804      | 58m 32s      |</pre>"
      ],
      "text/plain": [
       "| 4135         | 1.18804      | 58m 32s      |"
      ]
     },
     "metadata": {},
     "output_type": "display_data"
    },
    {
     "data": {
      "text/html": [
       "<pre>| 4140         | 1.22205      | 58m 36s      |</pre>"
      ],
      "text/plain": [
       "| 4140         | 1.22205      | 58m 36s      |"
      ]
     },
     "metadata": {},
     "output_type": "display_data"
    },
    {
     "data": {
      "text/html": [
       "<pre>| 4145         | 1.20242      | 58m 40s      |</pre>"
      ],
      "text/plain": [
       "| 4145         | 1.20242      | 58m 40s      |"
      ]
     },
     "metadata": {},
     "output_type": "display_data"
    },
    {
     "data": {
      "text/html": [
       "<pre>| 4150         | 1.08919      | 58m 44s      |</pre>"
      ],
      "text/plain": [
       "| 4150         | 1.08919      | 58m 44s      |"
      ]
     },
     "metadata": {},
     "output_type": "display_data"
    },
    {
     "data": {
      "text/html": [
       "<pre>| 4155         | 1.11713      | 58m 48s      |</pre>"
      ],
      "text/plain": [
       "| 4155         | 1.11713      | 58m 48s      |"
      ]
     },
     "metadata": {},
     "output_type": "display_data"
    },
    {
     "data": {
      "text/html": [
       "<pre>| 4160         | 1.13056      | 58m 52s      |</pre>"
      ],
      "text/plain": [
       "| 4160         | 1.13056      | 58m 52s      |"
      ]
     },
     "metadata": {},
     "output_type": "display_data"
    },
    {
     "data": {
      "text/html": [
       "<pre>| 4165         | 1.14951      | 58m 56s      |</pre>"
      ],
      "text/plain": [
       "| 4165         | 1.14951      | 58m 56s      |"
      ]
     },
     "metadata": {},
     "output_type": "display_data"
    },
    {
     "data": {
      "text/html": [
       "<pre>| 4170         | 1.12086      | 59m 0s       |</pre>"
      ],
      "text/plain": [
       "| 4170         | 1.12086      | 59m 0s       |"
      ]
     },
     "metadata": {},
     "output_type": "display_data"
    },
    {
     "data": {
      "text/html": [
       "<pre>| 4175         | 1.13823      | 59m 5s       |</pre>"
      ],
      "text/plain": [
       "| 4175         | 1.13823      | 59m 5s       |"
      ]
     },
     "metadata": {},
     "output_type": "display_data"
    },
    {
     "data": {
      "text/html": [
       "<pre>| 4180         | 1.16416      | 59m 9s       |</pre>"
      ],
      "text/plain": [
       "| 4180         | 1.16416      | 59m 9s       |"
      ]
     },
     "metadata": {},
     "output_type": "display_data"
    },
    {
     "data": {
      "text/html": [
       "<pre>| 4185         | 1.14808      | 59m 13s      |</pre>"
      ],
      "text/plain": [
       "| 4185         | 1.14808      | 59m 13s      |"
      ]
     },
     "metadata": {},
     "output_type": "display_data"
    },
    {
     "data": {
      "text/html": [
       "<pre>| 4190         | 1.13506      | 59m 17s      |</pre>"
      ],
      "text/plain": [
       "| 4190         | 1.13506      | 59m 17s      |"
      ]
     },
     "metadata": {},
     "output_type": "display_data"
    },
    {
     "data": {
      "text/html": [
       "<pre>| 4195         | 1.10398      | 59m 21s      |</pre>"
      ],
      "text/plain": [
       "| 4195         | 1.10398      | 59m 21s      |"
      ]
     },
     "metadata": {},
     "output_type": "display_data"
    },
    {
     "data": {
      "text/html": [
       "<pre>| 4200         | 1.06847      | 59m 25s      |</pre>"
      ],
      "text/plain": [
       "| 4200         | 1.06847      | 59m 25s      |"
      ]
     },
     "metadata": {},
     "output_type": "display_data"
    },
    {
     "data": {
      "text/html": [
       "<pre>| 4205         | 1.07168      | 59m 29s      |</pre>"
      ],
      "text/plain": [
       "| 4205         | 1.07168      | 59m 29s      |"
      ]
     },
     "metadata": {},
     "output_type": "display_data"
    },
    {
     "data": {
      "text/html": [
       "<pre>| 4210         | 1.08851      | 59m 33s      |</pre>"
      ],
      "text/plain": [
       "| 4210         | 1.08851      | 59m 33s      |"
      ]
     },
     "metadata": {},
     "output_type": "display_data"
    },
    {
     "data": {
      "text/html": [
       "<pre>| 4215         | 1.12143      | 59m 38s      |</pre>"
      ],
      "text/plain": [
       "| 4215         | 1.12143      | 59m 38s      |"
      ]
     },
     "metadata": {},
     "output_type": "display_data"
    },
    {
     "data": {
      "text/html": [
       "<pre>| 4220         | 1.1373       | 59m 42s      |</pre>"
      ],
      "text/plain": [
       "| 4220         | 1.1373       | 59m 42s      |"
      ]
     },
     "metadata": {},
     "output_type": "display_data"
    },
    {
     "data": {
      "text/html": [
       "<pre>| 4225         | 1.13613      | 59m 46s      |</pre>"
      ],
      "text/plain": [
       "| 4225         | 1.13613      | 59m 46s      |"
      ]
     },
     "metadata": {},
     "output_type": "display_data"
    },
    {
     "data": {
      "text/html": [
       "<pre>| 4230         | 1.21382      | 59m 50s      |</pre>"
      ],
      "text/plain": [
       "| 4230         | 1.21382      | 59m 50s      |"
      ]
     },
     "metadata": {},
     "output_type": "display_data"
    },
    {
     "data": {
      "text/html": [
       "<pre>| 4235         | 1.12318      | 59m 55s      |</pre>"
      ],
      "text/plain": [
       "| 4235         | 1.12318      | 59m 55s      |"
      ]
     },
     "metadata": {},
     "output_type": "display_data"
    },
    {
     "data": {
      "text/html": [
       "<pre>| 4240         | 1.17644      | 59m 59s      |</pre>"
      ],
      "text/plain": [
       "| 4240         | 1.17644      | 59m 59s      |"
      ]
     },
     "metadata": {},
     "output_type": "display_data"
    },
    {
     "data": {
      "text/html": [
       "<pre>| 4245         | 1.14145      | 1h 0m        |</pre>"
      ],
      "text/plain": [
       "| 4245         | 1.14145      | 1h 0m        |"
      ]
     },
     "metadata": {},
     "output_type": "display_data"
    },
    {
     "data": {
      "text/html": [
       "<pre>| 4250         | 1.1199       | 1h 0m        |</pre>"
      ],
      "text/plain": [
       "| 4250         | 1.1199       | 1h 0m        |"
      ]
     },
     "metadata": {},
     "output_type": "display_data"
    },
    {
     "data": {
      "text/html": [
       "<pre>| 4255         | 1.08977      | 1h 0m        |</pre>"
      ],
      "text/plain": [
       "| 4255         | 1.08977      | 1h 0m        |"
      ]
     },
     "metadata": {},
     "output_type": "display_data"
    },
    {
     "data": {
      "text/html": [
       "<pre>| 4260         | 1.18134      | 1h 0m        |</pre>"
      ],
      "text/plain": [
       "| 4260         | 1.18134      | 1h 0m        |"
      ]
     },
     "metadata": {},
     "output_type": "display_data"
    },
    {
     "data": {
      "text/html": [
       "<pre>| 4265         | 1.13475      | 1h 0m        |</pre>"
      ],
      "text/plain": [
       "| 4265         | 1.13475      | 1h 0m        |"
      ]
     },
     "metadata": {},
     "output_type": "display_data"
    },
    {
     "data": {
      "text/html": [
       "<pre>| 4270         | 1.12164      | 1h 0m        |</pre>"
      ],
      "text/plain": [
       "| 4270         | 1.12164      | 1h 0m        |"
      ]
     },
     "metadata": {},
     "output_type": "display_data"
    },
    {
     "data": {
      "text/html": [
       "<pre>| 4275         | 1.16891      | 1h 0m        |</pre>"
      ],
      "text/plain": [
       "| 4275         | 1.16891      | 1h 0m        |"
      ]
     },
     "metadata": {},
     "output_type": "display_data"
    },
    {
     "data": {
      "text/html": [
       "<pre>| 4280         | 1.1254       | 1h 0m        |</pre>"
      ],
      "text/plain": [
       "| 4280         | 1.1254       | 1h 0m        |"
      ]
     },
     "metadata": {},
     "output_type": "display_data"
    },
    {
     "data": {
      "text/html": [
       "<pre>| 4285         | 1.15539      | 1h 0m        |</pre>"
      ],
      "text/plain": [
       "| 4285         | 1.15539      | 1h 0m        |"
      ]
     },
     "metadata": {},
     "output_type": "display_data"
    },
    {
     "data": {
      "text/html": [
       "<pre>| 4290         | 1.08933      | 1h 0m        |</pre>"
      ],
      "text/plain": [
       "| 4290         | 1.08933      | 1h 0m        |"
      ]
     },
     "metadata": {},
     "output_type": "display_data"
    },
    {
     "data": {
      "text/html": [
       "<pre>| 4295         | 1.06676      | 1h 0m        |</pre>"
      ],
      "text/plain": [
       "| 4295         | 1.06676      | 1h 0m        |"
      ]
     },
     "metadata": {},
     "output_type": "display_data"
    },
    {
     "data": {
      "text/html": [
       "<pre>| 4300         | 1.12353      | 1h 0m        |</pre>"
      ],
      "text/plain": [
       "| 4300         | 1.12353      | 1h 0m        |"
      ]
     },
     "metadata": {},
     "output_type": "display_data"
    },
    {
     "data": {
      "text/html": [
       "<pre>| 4305         | 1.14578      | 1h 0m        |</pre>"
      ],
      "text/plain": [
       "| 4305         | 1.14578      | 1h 0m        |"
      ]
     },
     "metadata": {},
     "output_type": "display_data"
    },
    {
     "data": {
      "text/html": [
       "<pre>| 4310         | 1.08886      | 1h 0m        |</pre>"
      ],
      "text/plain": [
       "| 4310         | 1.08886      | 1h 0m        |"
      ]
     },
     "metadata": {},
     "output_type": "display_data"
    },
    {
     "data": {
      "text/html": [
       "<pre>| 4315         | 1.10724      | 1h 1m        |</pre>"
      ],
      "text/plain": [
       "| 4315         | 1.10724      | 1h 1m        |"
      ]
     },
     "metadata": {},
     "output_type": "display_data"
    },
    {
     "data": {
      "text/html": [
       "<pre>| 4320         | 1.15207      | 1h 1m        |</pre>"
      ],
      "text/plain": [
       "| 4320         | 1.15207      | 1h 1m        |"
      ]
     },
     "metadata": {},
     "output_type": "display_data"
    },
    {
     "data": {
      "text/html": [
       "<pre>| 4325         | 1.15805      | 1h 1m        |</pre>"
      ],
      "text/plain": [
       "| 4325         | 1.15805      | 1h 1m        |"
      ]
     },
     "metadata": {},
     "output_type": "display_data"
    },
    {
     "data": {
      "text/html": [
       "<pre>| 4330         | 1.09589      | 1h 1m        |</pre>"
      ],
      "text/plain": [
       "| 4330         | 1.09589      | 1h 1m        |"
      ]
     },
     "metadata": {},
     "output_type": "display_data"
    },
    {
     "data": {
      "text/html": [
       "<pre>| 4335         | 1.1398       | 1h 1m        |</pre>"
      ],
      "text/plain": [
       "| 4335         | 1.1398       | 1h 1m        |"
      ]
     },
     "metadata": {},
     "output_type": "display_data"
    },
    {
     "data": {
      "text/html": [
       "<pre>| 4340         | 1.08347      | 1h 1m        |</pre>"
      ],
      "text/plain": [
       "| 4340         | 1.08347      | 1h 1m        |"
      ]
     },
     "metadata": {},
     "output_type": "display_data"
    },
    {
     "data": {
      "text/html": [
       "<pre>| 4345         | 1.0892       | 1h 1m        |</pre>"
      ],
      "text/plain": [
       "| 4345         | 1.0892       | 1h 1m        |"
      ]
     },
     "metadata": {},
     "output_type": "display_data"
    },
    {
     "data": {
      "text/html": [
       "<pre>| 4350         | 1.12098      | 1h 1m        |</pre>"
      ],
      "text/plain": [
       "| 4350         | 1.12098      | 1h 1m        |"
      ]
     },
     "metadata": {},
     "output_type": "display_data"
    },
    {
     "data": {
      "text/html": [
       "<pre>| 4355         | 1.17611      | 1h 1m        |</pre>"
      ],
      "text/plain": [
       "| 4355         | 1.17611      | 1h 1m        |"
      ]
     },
     "metadata": {},
     "output_type": "display_data"
    },
    {
     "data": {
      "text/html": [
       "<pre>| 4360         | 1.10585      | 1h 1m        |</pre>"
      ],
      "text/plain": [
       "| 4360         | 1.10585      | 1h 1m        |"
      ]
     },
     "metadata": {},
     "output_type": "display_data"
    },
    {
     "data": {
      "text/html": [
       "<pre>| 4365         | 1.15394      | 1h 1m        |</pre>"
      ],
      "text/plain": [
       "| 4365         | 1.15394      | 1h 1m        |"
      ]
     },
     "metadata": {},
     "output_type": "display_data"
    },
    {
     "data": {
      "text/html": [
       "<pre>| 4370         | 1.15098      | 1h 1m        |</pre>"
      ],
      "text/plain": [
       "| 4370         | 1.15098      | 1h 1m        |"
      ]
     },
     "metadata": {},
     "output_type": "display_data"
    },
    {
     "data": {
      "text/html": [
       "<pre>| 4375         | 1.08333      | 1h 1m        |</pre>"
      ],
      "text/plain": [
       "| 4375         | 1.08333      | 1h 1m        |"
      ]
     },
     "metadata": {},
     "output_type": "display_data"
    },
    {
     "data": {
      "text/html": [
       "<pre>| 4380         | 1.05511      | 1h 1m        |</pre>"
      ],
      "text/plain": [
       "| 4380         | 1.05511      | 1h 1m        |"
      ]
     },
     "metadata": {},
     "output_type": "display_data"
    },
    {
     "data": {
      "text/html": [
       "<pre>| 4385         | 1.07326      | 1h 2m        |</pre>"
      ],
      "text/plain": [
       "| 4385         | 1.07326      | 1h 2m        |"
      ]
     },
     "metadata": {},
     "output_type": "display_data"
    },
    {
     "data": {
      "text/html": [
       "<pre>| 4390         | 1.12725      | 1h 2m        |</pre>"
      ],
      "text/plain": [
       "| 4390         | 1.12725      | 1h 2m        |"
      ]
     },
     "metadata": {},
     "output_type": "display_data"
    },
    {
     "data": {
      "text/html": [
       "<pre>| 4395         | 1.08045      | 1h 2m        |</pre>"
      ],
      "text/plain": [
       "| 4395         | 1.08045      | 1h 2m        |"
      ]
     },
     "metadata": {},
     "output_type": "display_data"
    },
    {
     "data": {
      "text/html": [
       "<pre>| 4400         | 1.06423      | 1h 2m        |</pre>"
      ],
      "text/plain": [
       "| 4400         | 1.06423      | 1h 2m        |"
      ]
     },
     "metadata": {},
     "output_type": "display_data"
    },
    {
     "data": {
      "text/html": [
       "<pre>| 4405         | 1.06883      | 1h 2m        |</pre>"
      ],
      "text/plain": [
       "| 4405         | 1.06883      | 1h 2m        |"
      ]
     },
     "metadata": {},
     "output_type": "display_data"
    },
    {
     "data": {
      "text/html": [
       "<pre>| 4410         | 1.05129      | 1h 2m        |</pre>"
      ],
      "text/plain": [
       "| 4410         | 1.05129      | 1h 2m        |"
      ]
     },
     "metadata": {},
     "output_type": "display_data"
    },
    {
     "data": {
      "text/html": [
       "<pre>| 4415         | 1.12542      | 1h 2m        |</pre>"
      ],
      "text/plain": [
       "| 4415         | 1.12542      | 1h 2m        |"
      ]
     },
     "metadata": {},
     "output_type": "display_data"
    },
    {
     "data": {
      "text/html": [
       "<pre>| 4420         | 1.14613      | 1h 2m        |</pre>"
      ],
      "text/plain": [
       "| 4420         | 1.14613      | 1h 2m        |"
      ]
     },
     "metadata": {},
     "output_type": "display_data"
    },
    {
     "data": {
      "text/html": [
       "<pre>| 4425         | 1.161        | 1h 2m        |</pre>"
      ],
      "text/plain": [
       "| 4425         | 1.161        | 1h 2m        |"
      ]
     },
     "metadata": {},
     "output_type": "display_data"
    },
    {
     "data": {
      "text/html": [
       "<pre>| 4430         | 1.20603      | 1h 2m        |</pre>"
      ],
      "text/plain": [
       "| 4430         | 1.20603      | 1h 2m        |"
      ]
     },
     "metadata": {},
     "output_type": "display_data"
    },
    {
     "data": {
      "text/html": [
       "<pre>| 4435         | 1.1841       | 1h 2m        |</pre>"
      ],
      "text/plain": [
       "| 4435         | 1.1841       | 1h 2m        |"
      ]
     },
     "metadata": {},
     "output_type": "display_data"
    },
    {
     "data": {
      "text/html": [
       "<pre>| 4440         | 1.20067      | 1h 2m        |</pre>"
      ],
      "text/plain": [
       "| 4440         | 1.20067      | 1h 2m        |"
      ]
     },
     "metadata": {},
     "output_type": "display_data"
    },
    {
     "data": {
      "text/html": [
       "<pre>| 4445         | 1.13034      | 1h 2m        |</pre>"
      ],
      "text/plain": [
       "| 4445         | 1.13034      | 1h 2m        |"
      ]
     },
     "metadata": {},
     "output_type": "display_data"
    },
    {
     "data": {
      "text/html": [
       "<pre>| 4450         | 1.12593      | 1h 2m        |</pre>"
      ],
      "text/plain": [
       "| 4450         | 1.12593      | 1h 2m        |"
      ]
     },
     "metadata": {},
     "output_type": "display_data"
    },
    {
     "data": {
      "text/html": [
       "<pre>| 4455         | 1.11498      | 1h 3m        |</pre>"
      ],
      "text/plain": [
       "| 4455         | 1.11498      | 1h 3m        |"
      ]
     },
     "metadata": {},
     "output_type": "display_data"
    },
    {
     "data": {
      "text/html": [
       "<pre>| 4460         | 1.0468       | 1h 3m        |</pre>"
      ],
      "text/plain": [
       "| 4460         | 1.0468       | 1h 3m        |"
      ]
     },
     "metadata": {},
     "output_type": "display_data"
    },
    {
     "data": {
      "text/html": [
       "<pre>| 4465         | 1.1119       | 1h 3m        |</pre>"
      ],
      "text/plain": [
       "| 4465         | 1.1119       | 1h 3m        |"
      ]
     },
     "metadata": {},
     "output_type": "display_data"
    },
    {
     "data": {
      "text/html": [
       "<pre>| 4470         | 1.19401      | 1h 3m        |</pre>"
      ],
      "text/plain": [
       "| 4470         | 1.19401      | 1h 3m        |"
      ]
     },
     "metadata": {},
     "output_type": "display_data"
    },
    {
     "data": {
      "text/html": [
       "<pre>| 4475         | 1.18248      | 1h 3m        |</pre>"
      ],
      "text/plain": [
       "| 4475         | 1.18248      | 1h 3m        |"
      ]
     },
     "metadata": {},
     "output_type": "display_data"
    },
    {
     "data": {
      "text/html": [
       "<pre>| 4480         | 1.20751      | 1h 3m        |</pre>"
      ],
      "text/plain": [
       "| 4480         | 1.20751      | 1h 3m        |"
      ]
     },
     "metadata": {},
     "output_type": "display_data"
    },
    {
     "data": {
      "text/html": [
       "<pre>| 4485         | 1.12179      | 1h 3m        |</pre>"
      ],
      "text/plain": [
       "| 4485         | 1.12179      | 1h 3m        |"
      ]
     },
     "metadata": {},
     "output_type": "display_data"
    },
    {
     "data": {
      "text/html": [
       "<pre>| 4490         | 1.1298       | 1h 3m        |</pre>"
      ],
      "text/plain": [
       "| 4490         | 1.1298       | 1h 3m        |"
      ]
     },
     "metadata": {},
     "output_type": "display_data"
    },
    {
     "data": {
      "text/html": [
       "<pre>| 4495         | 1.12933      | 1h 4m        |</pre>"
      ],
      "text/plain": [
       "| 4495         | 1.12933      | 1h 4m        |"
      ]
     },
     "metadata": {},
     "output_type": "display_data"
    },
    {
     "data": {
      "text/html": [
       "<pre>| 4500         | 1.12877      | 1h 4m        |</pre>"
      ],
      "text/plain": [
       "| 4500         | 1.12877      | 1h 4m        |"
      ]
     },
     "metadata": {},
     "output_type": "display_data"
    },
    {
     "data": {
      "text/html": [
       "<pre>| 4505         | 1.05951      | 1h 4m        |</pre>"
      ],
      "text/plain": [
       "| 4505         | 1.05951      | 1h 4m        |"
      ]
     },
     "metadata": {},
     "output_type": "display_data"
    },
    {
     "data": {
      "text/html": [
       "<pre>| 4510         | 1.14025      | 1h 4m        |</pre>"
      ],
      "text/plain": [
       "| 4510         | 1.14025      | 1h 4m        |"
      ]
     },
     "metadata": {},
     "output_type": "display_data"
    },
    {
     "data": {
      "text/html": [
       "<pre>| 4515         | 1.13175      | 1h 4m        |</pre>"
      ],
      "text/plain": [
       "| 4515         | 1.13175      | 1h 4m        |"
      ]
     },
     "metadata": {},
     "output_type": "display_data"
    },
    {
     "data": {
      "text/html": [
       "<pre>| 4520         | 1.10601      | 1h 4m        |</pre>"
      ],
      "text/plain": [
       "| 4520         | 1.10601      | 1h 4m        |"
      ]
     },
     "metadata": {},
     "output_type": "display_data"
    },
    {
     "data": {
      "text/html": [
       "<pre>| 4525         | 1.13309      | 1h 4m        |</pre>"
      ],
      "text/plain": [
       "| 4525         | 1.13309      | 1h 4m        |"
      ]
     },
     "metadata": {},
     "output_type": "display_data"
    },
    {
     "data": {
      "text/html": [
       "<pre>| 4530         | 1.15372      | 1h 4m        |</pre>"
      ],
      "text/plain": [
       "| 4530         | 1.15372      | 1h 4m        |"
      ]
     },
     "metadata": {},
     "output_type": "display_data"
    },
    {
     "data": {
      "text/html": [
       "<pre>| 4535         | 1.19658      | 1h 4m        |</pre>"
      ],
      "text/plain": [
       "| 4535         | 1.19658      | 1h 4m        |"
      ]
     },
     "metadata": {},
     "output_type": "display_data"
    },
    {
     "data": {
      "text/html": [
       "<pre>| 4540         | 1.0975       | 1h 4m        |</pre>"
      ],
      "text/plain": [
       "| 4540         | 1.0975       | 1h 4m        |"
      ]
     },
     "metadata": {},
     "output_type": "display_data"
    },
    {
     "data": {
      "text/html": [
       "<pre>| 4545         | 1.11394      | 1h 4m        |</pre>"
      ],
      "text/plain": [
       "| 4545         | 1.11394      | 1h 4m        |"
      ]
     },
     "metadata": {},
     "output_type": "display_data"
    },
    {
     "data": {
      "text/html": [
       "<pre>| 4550         | 1.14945      | 1h 4m        |</pre>"
      ],
      "text/plain": [
       "| 4550         | 1.14945      | 1h 4m        |"
      ]
     },
     "metadata": {},
     "output_type": "display_data"
    },
    {
     "data": {
      "text/html": [
       "<pre>| 4555         | 1.05877      | 1h 4m        |</pre>"
      ],
      "text/plain": [
       "| 4555         | 1.05877      | 1h 4m        |"
      ]
     },
     "metadata": {},
     "output_type": "display_data"
    },
    {
     "data": {
      "text/html": [
       "<pre>| 4560         | 1.06104      | 1h 5m        |</pre>"
      ],
      "text/plain": [
       "| 4560         | 1.06104      | 1h 5m        |"
      ]
     },
     "metadata": {},
     "output_type": "display_data"
    },
    {
     "data": {
      "text/html": [
       "<pre>| 4565         | 1.16631      | 1h 5m        |</pre>"
      ],
      "text/plain": [
       "| 4565         | 1.16631      | 1h 5m        |"
      ]
     },
     "metadata": {},
     "output_type": "display_data"
    },
    {
     "data": {
      "text/html": [
       "<pre>| 4570         | 1.15745      | 1h 5m        |</pre>"
      ],
      "text/plain": [
       "| 4570         | 1.15745      | 1h 5m        |"
      ]
     },
     "metadata": {},
     "output_type": "display_data"
    },
    {
     "data": {
      "text/html": [
       "<pre>| 4575         | 1.23531      | 1h 5m        |</pre>"
      ],
      "text/plain": [
       "| 4575         | 1.23531      | 1h 5m        |"
      ]
     },
     "metadata": {},
     "output_type": "display_data"
    },
    {
     "data": {
      "text/html": [
       "<pre>| 4580         | 1.20318      | 1h 5m        |</pre>"
      ],
      "text/plain": [
       "| 4580         | 1.20318      | 1h 5m        |"
      ]
     },
     "metadata": {},
     "output_type": "display_data"
    },
    {
     "data": {
      "text/html": [
       "<pre>| 4585         | 1.1409       | 1h 5m        |</pre>"
      ],
      "text/plain": [
       "| 4585         | 1.1409       | 1h 5m        |"
      ]
     },
     "metadata": {},
     "output_type": "display_data"
    },
    {
     "data": {
      "text/html": [
       "<pre>| 4590         | 1.19766      | 1h 5m        |</pre>"
      ],
      "text/plain": [
       "| 4590         | 1.19766      | 1h 5m        |"
      ]
     },
     "metadata": {},
     "output_type": "display_data"
    },
    {
     "data": {
      "text/html": [
       "<pre>| 4595         | 1.19171      | 1h 5m        |</pre>"
      ],
      "text/plain": [
       "| 4595         | 1.19171      | 1h 5m        |"
      ]
     },
     "metadata": {},
     "output_type": "display_data"
    },
    {
     "data": {
      "text/html": [
       "<pre>| 4600         | 1.10733      | 1h 5m        |</pre>"
      ],
      "text/plain": [
       "| 4600         | 1.10733      | 1h 5m        |"
      ]
     },
     "metadata": {},
     "output_type": "display_data"
    },
    {
     "data": {
      "text/html": [
       "<pre>| 4605         | 1.10781      | 1h 5m        |</pre>"
      ],
      "text/plain": [
       "| 4605         | 1.10781      | 1h 5m        |"
      ]
     },
     "metadata": {},
     "output_type": "display_data"
    },
    {
     "data": {
      "text/html": [
       "<pre>| 4610         | 1.1979       | 1h 5m        |</pre>"
      ],
      "text/plain": [
       "| 4610         | 1.1979       | 1h 5m        |"
      ]
     },
     "metadata": {},
     "output_type": "display_data"
    },
    {
     "data": {
      "text/html": [
       "<pre>| 4615         | 1.26389      | 1h 6m        |</pre>"
      ],
      "text/plain": [
       "| 4615         | 1.26389      | 1h 6m        |"
      ]
     },
     "metadata": {},
     "output_type": "display_data"
    },
    {
     "data": {
      "text/html": [
       "<pre>| 4620         | 1.12631      | 1h 6m        |</pre>"
      ],
      "text/plain": [
       "| 4620         | 1.12631      | 1h 6m        |"
      ]
     },
     "metadata": {},
     "output_type": "display_data"
    },
    {
     "data": {
      "text/html": [
       "<pre>| 4625         | 1.09972      | 1h 6m        |</pre>"
      ],
      "text/plain": [
       "| 4625         | 1.09972      | 1h 6m        |"
      ]
     },
     "metadata": {},
     "output_type": "display_data"
    },
    {
     "data": {
      "text/html": [
       "<pre>| 4630         | 1.16918      | 1h 6m        |</pre>"
      ],
      "text/plain": [
       "| 4630         | 1.16918      | 1h 6m        |"
      ]
     },
     "metadata": {},
     "output_type": "display_data"
    },
    {
     "data": {
      "text/html": [
       "<pre>| 4635         | 1.22905      | 1h 6m        |</pre>"
      ],
      "text/plain": [
       "| 4635         | 1.22905      | 1h 6m        |"
      ]
     },
     "metadata": {},
     "output_type": "display_data"
    },
    {
     "data": {
      "text/html": [
       "<pre>| 4640         | 1.09923      | 1h 6m        |</pre>"
      ],
      "text/plain": [
       "| 4640         | 1.09923      | 1h 6m        |"
      ]
     },
     "metadata": {},
     "output_type": "display_data"
    },
    {
     "data": {
      "text/html": [
       "<pre>| 4645         | 1.12923      | 1h 6m        |</pre>"
      ],
      "text/plain": [
       "| 4645         | 1.12923      | 1h 6m        |"
      ]
     },
     "metadata": {},
     "output_type": "display_data"
    },
    {
     "data": {
      "text/html": [
       "<pre>| 4650         | 1.12931      | 1h 6m        |</pre>"
      ],
      "text/plain": [
       "| 4650         | 1.12931      | 1h 6m        |"
      ]
     },
     "metadata": {},
     "output_type": "display_data"
    },
    {
     "data": {
      "text/html": [
       "<pre>| 4655         | 1.26627      | 1h 6m        |</pre>"
      ],
      "text/plain": [
       "| 4655         | 1.26627      | 1h 6m        |"
      ]
     },
     "metadata": {},
     "output_type": "display_data"
    },
    {
     "data": {
      "text/html": [
       "<pre>| 4660         | 1.19026      | 1h 6m        |</pre>"
      ],
      "text/plain": [
       "| 4660         | 1.19026      | 1h 6m        |"
      ]
     },
     "metadata": {},
     "output_type": "display_data"
    },
    {
     "data": {
      "text/html": [
       "<pre>| 4665         | 1.19406      | 1h 6m        |</pre>"
      ],
      "text/plain": [
       "| 4665         | 1.19406      | 1h 6m        |"
      ]
     },
     "metadata": {},
     "output_type": "display_data"
    },
    {
     "data": {
      "text/html": [
       "<pre>| 4670         | 1.1671       | 1h 6m        |</pre>"
      ],
      "text/plain": [
       "| 4670         | 1.1671       | 1h 6m        |"
      ]
     },
     "metadata": {},
     "output_type": "display_data"
    },
    {
     "data": {
      "text/html": [
       "<pre>| 4675         | 1.13444      | 1h 6m        |</pre>"
      ],
      "text/plain": [
       "| 4675         | 1.13444      | 1h 6m        |"
      ]
     },
     "metadata": {},
     "output_type": "display_data"
    },
    {
     "data": {
      "text/html": [
       "<pre>| 4680         | 1.18839      | 1h 6m        |</pre>"
      ],
      "text/plain": [
       "| 4680         | 1.18839      | 1h 6m        |"
      ]
     },
     "metadata": {},
     "output_type": "display_data"
    },
    {
     "data": {
      "text/html": [
       "<pre>| 4685         | 1.0907       | 1h 6m        |</pre>"
      ],
      "text/plain": [
       "| 4685         | 1.0907       | 1h 6m        |"
      ]
     },
     "metadata": {},
     "output_type": "display_data"
    },
    {
     "data": {
      "text/html": [
       "<pre>| 4690         | 1.12531      | 1h 7m        |</pre>"
      ],
      "text/plain": [
       "| 4690         | 1.12531      | 1h 7m        |"
      ]
     },
     "metadata": {},
     "output_type": "display_data"
    },
    {
     "data": {
      "text/html": [
       "<pre>| 4695         | 1.14644      | 1h 7m        |</pre>"
      ],
      "text/plain": [
       "| 4695         | 1.14644      | 1h 7m        |"
      ]
     },
     "metadata": {},
     "output_type": "display_data"
    },
    {
     "data": {
      "text/html": [
       "<pre>| 4700         | 1.21833      | 1h 7m        |</pre>"
      ],
      "text/plain": [
       "| 4700         | 1.21833      | 1h 7m        |"
      ]
     },
     "metadata": {},
     "output_type": "display_data"
    },
    {
     "data": {
      "text/html": [
       "<pre>| 4705         | 1.12965      | 1h 7m        |</pre>"
      ],
      "text/plain": [
       "| 4705         | 1.12965      | 1h 7m        |"
      ]
     },
     "metadata": {},
     "output_type": "display_data"
    },
    {
     "data": {
      "text/html": [
       "<pre>| 4710         | 1.13896      | 1h 7m        |</pre>"
      ],
      "text/plain": [
       "| 4710         | 1.13896      | 1h 7m        |"
      ]
     },
     "metadata": {},
     "output_type": "display_data"
    },
    {
     "data": {
      "text/html": [
       "<pre>| 4715         | 1.11957      | 1h 7m        |</pre>"
      ],
      "text/plain": [
       "| 4715         | 1.11957      | 1h 7m        |"
      ]
     },
     "metadata": {},
     "output_type": "display_data"
    },
    {
     "data": {
      "text/html": [
       "<pre>| 4720         | 1.11245      | 1h 7m        |</pre>"
      ],
      "text/plain": [
       "| 4720         | 1.11245      | 1h 7m        |"
      ]
     },
     "metadata": {},
     "output_type": "display_data"
    },
    {
     "data": {
      "text/html": [
       "<pre>| 4725         | 1.17308      | 1h 7m        |</pre>"
      ],
      "text/plain": [
       "| 4725         | 1.17308      | 1h 7m        |"
      ]
     },
     "metadata": {},
     "output_type": "display_data"
    },
    {
     "data": {
      "text/html": [
       "<pre>| 4730         | 1.18792      | 1h 7m        |</pre>"
      ],
      "text/plain": [
       "| 4730         | 1.18792      | 1h 7m        |"
      ]
     },
     "metadata": {},
     "output_type": "display_data"
    },
    {
     "data": {
      "text/html": [
       "<pre>| 4735         | 1.14615      | 1h 7m        |</pre>"
      ],
      "text/plain": [
       "| 4735         | 1.14615      | 1h 7m        |"
      ]
     },
     "metadata": {},
     "output_type": "display_data"
    },
    {
     "data": {
      "text/html": [
       "<pre>| 4740         | 1.1345       | 1h 7m        |</pre>"
      ],
      "text/plain": [
       "| 4740         | 1.1345       | 1h 7m        |"
      ]
     },
     "metadata": {},
     "output_type": "display_data"
    },
    {
     "data": {
      "text/html": [
       "<pre>| 4745         | 1.15924      | 1h 7m        |</pre>"
      ],
      "text/plain": [
       "| 4745         | 1.15924      | 1h 7m        |"
      ]
     },
     "metadata": {},
     "output_type": "display_data"
    },
    {
     "data": {
      "text/html": [
       "<pre>| 4750         | 1.15455      | 1h 7m        |</pre>"
      ],
      "text/plain": [
       "| 4750         | 1.15455      | 1h 7m        |"
      ]
     },
     "metadata": {},
     "output_type": "display_data"
    },
    {
     "data": {
      "text/html": [
       "<pre>| 4755         | 1.06926      | 1h 7m        |</pre>"
      ],
      "text/plain": [
       "| 4755         | 1.06926      | 1h 7m        |"
      ]
     },
     "metadata": {},
     "output_type": "display_data"
    },
    {
     "data": {
      "text/html": [
       "<pre>| 4760         | 1.09489      | 1h 8m        |</pre>"
      ],
      "text/plain": [
       "| 4760         | 1.09489      | 1h 8m        |"
      ]
     },
     "metadata": {},
     "output_type": "display_data"
    },
    {
     "data": {
      "text/html": [
       "<pre>| 4765         | 1.06794      | 1h 8m        |</pre>"
      ],
      "text/plain": [
       "| 4765         | 1.06794      | 1h 8m        |"
      ]
     },
     "metadata": {},
     "output_type": "display_data"
    },
    {
     "data": {
      "text/html": [
       "<pre>| 4770         | 1.13124      | 1h 8m        |</pre>"
      ],
      "text/plain": [
       "| 4770         | 1.13124      | 1h 8m        |"
      ]
     },
     "metadata": {},
     "output_type": "display_data"
    },
    {
     "data": {
      "text/html": [
       "<pre>| 4775         | 1.10659      | 1h 8m        |</pre>"
      ],
      "text/plain": [
       "| 4775         | 1.10659      | 1h 8m        |"
      ]
     },
     "metadata": {},
     "output_type": "display_data"
    },
    {
     "data": {
      "text/html": [
       "<pre>| 4780         | 1.07898      | 1h 8m        |</pre>"
      ],
      "text/plain": [
       "| 4780         | 1.07898      | 1h 8m        |"
      ]
     },
     "metadata": {},
     "output_type": "display_data"
    },
    {
     "data": {
      "text/html": [
       "<pre>| 4785         | 1.20616      | 1h 8m        |</pre>"
      ],
      "text/plain": [
       "| 4785         | 1.20616      | 1h 8m        |"
      ]
     },
     "metadata": {},
     "output_type": "display_data"
    },
    {
     "data": {
      "text/html": [
       "<pre>| 4790         | 1.18513      | 1h 8m        |</pre>"
      ],
      "text/plain": [
       "| 4790         | 1.18513      | 1h 8m        |"
      ]
     },
     "metadata": {},
     "output_type": "display_data"
    },
    {
     "data": {
      "text/html": [
       "<pre>| 4795         | 1.09831      | 1h 8m        |</pre>"
      ],
      "text/plain": [
       "| 4795         | 1.09831      | 1h 8m        |"
      ]
     },
     "metadata": {},
     "output_type": "display_data"
    },
    {
     "data": {
      "text/html": [
       "<pre>| 4800         | 1.09224      | 1h 8m        |</pre>"
      ],
      "text/plain": [
       "| 4800         | 1.09224      | 1h 8m        |"
      ]
     },
     "metadata": {},
     "output_type": "display_data"
    },
    {
     "data": {
      "text/html": [
       "<pre>| 4805         | 1.08769      | 1h 8m        |</pre>"
      ],
      "text/plain": [
       "| 4805         | 1.08769      | 1h 8m        |"
      ]
     },
     "metadata": {},
     "output_type": "display_data"
    },
    {
     "data": {
      "text/html": [
       "<pre>| 4810         | 1.1059       | 1h 8m        |</pre>"
      ],
      "text/plain": [
       "| 4810         | 1.1059       | 1h 8m        |"
      ]
     },
     "metadata": {},
     "output_type": "display_data"
    },
    {
     "data": {
      "text/html": [
       "<pre>| 4815         | 1.09119      | 1h 8m        |</pre>"
      ],
      "text/plain": [
       "| 4815         | 1.09119      | 1h 8m        |"
      ]
     },
     "metadata": {},
     "output_type": "display_data"
    },
    {
     "data": {
      "text/html": [
       "<pre>| 4820         | 1.08804      | 1h 9m        |</pre>"
      ],
      "text/plain": [
       "| 4820         | 1.08804      | 1h 9m        |"
      ]
     },
     "metadata": {},
     "output_type": "display_data"
    },
    {
     "data": {
      "text/html": [
       "<pre>| 4825         | 1.14178      | 1h 9m        |</pre>"
      ],
      "text/plain": [
       "| 4825         | 1.14178      | 1h 9m        |"
      ]
     },
     "metadata": {},
     "output_type": "display_data"
    },
    {
     "data": {
      "text/html": [
       "<pre>| 4830         | 1.09838      | 1h 9m        |</pre>"
      ],
      "text/plain": [
       "| 4830         | 1.09838      | 1h 9m        |"
      ]
     },
     "metadata": {},
     "output_type": "display_data"
    },
    {
     "data": {
      "text/html": [
       "<pre>| 4835         | 1.0211       | 1h 9m        |</pre>"
      ],
      "text/plain": [
       "| 4835         | 1.0211       | 1h 9m        |"
      ]
     },
     "metadata": {},
     "output_type": "display_data"
    },
    {
     "data": {
      "text/html": [
       "<pre>| 4840         | 1.04592      | 1h 9m        |</pre>"
      ],
      "text/plain": [
       "| 4840         | 1.04592      | 1h 9m        |"
      ]
     },
     "metadata": {},
     "output_type": "display_data"
    },
    {
     "data": {
      "text/html": [
       "<pre>| 4845         | 1.09538      | 1h 9m        |</pre>"
      ],
      "text/plain": [
       "| 4845         | 1.09538      | 1h 9m        |"
      ]
     },
     "metadata": {},
     "output_type": "display_data"
    },
    {
     "data": {
      "text/html": [
       "<pre>| 4850         | 1.09549      | 1h 9m        |</pre>"
      ],
      "text/plain": [
       "| 4850         | 1.09549      | 1h 9m        |"
      ]
     },
     "metadata": {},
     "output_type": "display_data"
    },
    {
     "data": {
      "text/html": [
       "<pre>| 4855         | 1.09386      | 1h 9m        |</pre>"
      ],
      "text/plain": [
       "| 4855         | 1.09386      | 1h 9m        |"
      ]
     },
     "metadata": {},
     "output_type": "display_data"
    },
    {
     "data": {
      "text/html": [
       "<pre>| 4860         | 1.14509      | 1h 9m        |</pre>"
      ],
      "text/plain": [
       "| 4860         | 1.14509      | 1h 9m        |"
      ]
     },
     "metadata": {},
     "output_type": "display_data"
    },
    {
     "data": {
      "text/html": [
       "<pre>| 4865         | 1.13784      | 1h 9m        |</pre>"
      ],
      "text/plain": [
       "| 4865         | 1.13784      | 1h 9m        |"
      ]
     },
     "metadata": {},
     "output_type": "display_data"
    },
    {
     "data": {
      "text/html": [
       "<pre>| 4870         | 1.11014      | 1h 9m        |</pre>"
      ],
      "text/plain": [
       "| 4870         | 1.11014      | 1h 9m        |"
      ]
     },
     "metadata": {},
     "output_type": "display_data"
    },
    {
     "data": {
      "text/html": [
       "<pre>| 4875         | 1.18785      | 1h 9m        |</pre>"
      ],
      "text/plain": [
       "| 4875         | 1.18785      | 1h 9m        |"
      ]
     },
     "metadata": {},
     "output_type": "display_data"
    },
    {
     "data": {
      "text/html": [
       "<pre>| 4880         | 1.20646      | 1h 10m       |</pre>"
      ],
      "text/plain": [
       "| 4880         | 1.20646      | 1h 10m       |"
      ]
     },
     "metadata": {},
     "output_type": "display_data"
    },
    {
     "data": {
      "text/html": [
       "<pre>| 4885         | 1.19121      | 1h 10m       |</pre>"
      ],
      "text/plain": [
       "| 4885         | 1.19121      | 1h 10m       |"
      ]
     },
     "metadata": {},
     "output_type": "display_data"
    },
    {
     "data": {
      "text/html": [
       "<pre>| 4890         | 1.16431      | 1h 10m       |</pre>"
      ],
      "text/plain": [
       "| 4890         | 1.16431      | 1h 10m       |"
      ]
     },
     "metadata": {},
     "output_type": "display_data"
    },
    {
     "data": {
      "text/html": [
       "<pre>| 4895         | 1.16622      | 1h 10m       |</pre>"
      ],
      "text/plain": [
       "| 4895         | 1.16622      | 1h 10m       |"
      ]
     },
     "metadata": {},
     "output_type": "display_data"
    },
    {
     "data": {
      "text/html": [
       "<pre>| 4900         | 1.13891      | 1h 10m       |</pre>"
      ],
      "text/plain": [
       "| 4900         | 1.13891      | 1h 10m       |"
      ]
     },
     "metadata": {},
     "output_type": "display_data"
    },
    {
     "data": {
      "text/html": [
       "<pre>| 4905         | 1.11788      | 1h 10m       |</pre>"
      ],
      "text/plain": [
       "| 4905         | 1.11788      | 1h 10m       |"
      ]
     },
     "metadata": {},
     "output_type": "display_data"
    },
    {
     "data": {
      "text/html": [
       "<pre>| 4910         | 1.12415      | 1h 10m       |</pre>"
      ],
      "text/plain": [
       "| 4910         | 1.12415      | 1h 10m       |"
      ]
     },
     "metadata": {},
     "output_type": "display_data"
    },
    {
     "data": {
      "text/html": [
       "<pre>| 4915         | 1.1555       | 1h 10m       |</pre>"
      ],
      "text/plain": [
       "| 4915         | 1.1555       | 1h 10m       |"
      ]
     },
     "metadata": {},
     "output_type": "display_data"
    },
    {
     "data": {
      "text/html": [
       "<pre>| 4920         | 1.18947      | 1h 10m       |</pre>"
      ],
      "text/plain": [
       "| 4920         | 1.18947      | 1h 10m       |"
      ]
     },
     "metadata": {},
     "output_type": "display_data"
    },
    {
     "data": {
      "text/html": [
       "<pre>| 4925         | 1.15852      | 1h 10m       |</pre>"
      ],
      "text/plain": [
       "| 4925         | 1.15852      | 1h 10m       |"
      ]
     },
     "metadata": {},
     "output_type": "display_data"
    },
    {
     "data": {
      "text/html": [
       "<pre>| 4930         | 1.16102      | 1h 10m       |</pre>"
      ],
      "text/plain": [
       "| 4930         | 1.16102      | 1h 10m       |"
      ]
     },
     "metadata": {},
     "output_type": "display_data"
    },
    {
     "data": {
      "text/html": [
       "<pre>| 4935         | 1.11682      | 1h 10m       |</pre>"
      ],
      "text/plain": [
       "| 4935         | 1.11682      | 1h 10m       |"
      ]
     },
     "metadata": {},
     "output_type": "display_data"
    },
    {
     "data": {
      "text/html": [
       "<pre>| 4940         | 1.09665      | 1h 10m       |</pre>"
      ],
      "text/plain": [
       "| 4940         | 1.09665      | 1h 10m       |"
      ]
     },
     "metadata": {},
     "output_type": "display_data"
    },
    {
     "data": {
      "text/html": [
       "<pre>| 4945         | 1.09807      | 1h 11m       |</pre>"
      ],
      "text/plain": [
       "| 4945         | 1.09807      | 1h 11m       |"
      ]
     },
     "metadata": {},
     "output_type": "display_data"
    },
    {
     "data": {
      "text/html": [
       "<pre>| 4950         | 1.10454      | 1h 11m       |</pre>"
      ],
      "text/plain": [
       "| 4950         | 1.10454      | 1h 11m       |"
      ]
     },
     "metadata": {},
     "output_type": "display_data"
    },
    {
     "data": {
      "text/html": [
       "<pre>| 4955         | 1.08029      | 1h 11m       |</pre>"
      ],
      "text/plain": [
       "| 4955         | 1.08029      | 1h 11m       |"
      ]
     },
     "metadata": {},
     "output_type": "display_data"
    },
    {
     "data": {
      "text/html": [
       "<pre>| 4960         | 1.14661      | 1h 11m       |</pre>"
      ],
      "text/plain": [
       "| 4960         | 1.14661      | 1h 11m       |"
      ]
     },
     "metadata": {},
     "output_type": "display_data"
    },
    {
     "data": {
      "text/html": [
       "<pre>| 4965         | 1.16418      | 1h 11m       |</pre>"
      ],
      "text/plain": [
       "| 4965         | 1.16418      | 1h 11m       |"
      ]
     },
     "metadata": {},
     "output_type": "display_data"
    },
    {
     "data": {
      "text/html": [
       "<pre>| 4970         | 1.10744      | 1h 11m       |</pre>"
      ],
      "text/plain": [
       "| 4970         | 1.10744      | 1h 11m       |"
      ]
     },
     "metadata": {},
     "output_type": "display_data"
    },
    {
     "data": {
      "text/html": [
       "<pre>| 4975         | 1.10181      | 1h 11m       |</pre>"
      ],
      "text/plain": [
       "| 4975         | 1.10181      | 1h 11m       |"
      ]
     },
     "metadata": {},
     "output_type": "display_data"
    },
    {
     "data": {
      "text/html": [
       "<pre>| 4980         | 1.1272       | 1h 11m       |</pre>"
      ],
      "text/plain": [
       "| 4980         | 1.1272       | 1h 11m       |"
      ]
     },
     "metadata": {},
     "output_type": "display_data"
    },
    {
     "data": {
      "text/html": [
       "<pre>| 4985         | 1.15201      | 1h 11m       |</pre>"
      ],
      "text/plain": [
       "| 4985         | 1.15201      | 1h 11m       |"
      ]
     },
     "metadata": {},
     "output_type": "display_data"
    },
    {
     "data": {
      "text/html": [
       "<pre>| 4990         | 1.04333      | 1h 11m       |</pre>"
      ],
      "text/plain": [
       "| 4990         | 1.04333      | 1h 11m       |"
      ]
     },
     "metadata": {},
     "output_type": "display_data"
    },
    {
     "data": {
      "text/html": [
       "<pre>| 4995         | 1.06807      | 1h 11m       |</pre>"
      ],
      "text/plain": [
       "| 4995         | 1.06807      | 1h 11m       |"
      ]
     },
     "metadata": {},
     "output_type": "display_data"
    },
    {
     "data": {
      "text/html": [
       "<pre>| 5000         | 1.03234      | 1h 11m       |</pre>"
      ],
      "text/plain": [
       "| 5000         | 1.03234      | 1h 11m       |"
      ]
     },
     "metadata": {},
     "output_type": "display_data"
    },
    {
     "data": {
      "text/html": [
       "<pre>+--------------+--------------+--------------+</pre>"
      ],
      "text/plain": [
       "+--------------+--------------+--------------+"
      ]
     },
     "metadata": {},
     "output_type": "display_data"
    }
   ],
   "source": [
    "# Make a train-test split\n",
    "train_data, test_data = data.random_split(0.8)\n",
    "\n",
    "# Create a model\n",
    "model = tc.object_detector.create(train_data)\n",
    "\n",
    "# Save predictions to an SArray\n",
    "predictions = model.predict(test_data)\n",
    "\n",
    "# Evaluate the model and save the results into a dictionary\n",
    "metrics = model.evaluate(test_data)\n",
    "\n",
    "# Save the model for later use in Turi Create\n",
    "model.save('ig02.model')\n",
    "\n",
    "# Export for use in Core ML\n",
    "model.export_coreml('MyCustomObjectDetector.mlmodel')\n"
   ]
  },
  {
   "cell_type": "code",
   "execution_count": null,
   "metadata": {},
   "outputs": [],
   "source": []
  }
 ],
 "metadata": {
  "kernelspec": {
   "display_name": "Python 3",
   "language": "python",
   "name": "python3"
  },
  "language_info": {
   "codemirror_mode": {
    "name": "ipython",
    "version": 3
   },
   "file_extension": ".py",
   "mimetype": "text/x-python",
   "name": "python",
   "nbconvert_exporter": "python",
   "pygments_lexer": "ipython3",
   "version": "3.6.10"
  }
 },
 "nbformat": 4,
 "nbformat_minor": 4
}
